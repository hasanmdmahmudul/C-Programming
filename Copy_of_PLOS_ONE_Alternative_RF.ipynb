{
  "nbformat": 4,
  "nbformat_minor": 0,
  "metadata": {
    "colab": {
      "name": "Copy of PLOS ONE Alternative RF.ipynb",
      "provenance": [],
      "collapsed_sections": [],
      "include_colab_link": true
    },
    "kernelspec": {
      "name": "python3",
      "display_name": "Python 3"
    },
    "accelerator": "GPU"
  },
  "cells": [
    {
      "cell_type": "markdown",
      "metadata": {
        "id": "view-in-github",
        "colab_type": "text"
      },
      "source": [
        "<a href=\"https://colab.research.google.com/github/hasanmdmahmudul/C-Programming/blob/main/Copy_of_PLOS_ONE_Alternative_RF.ipynb\" target=\"_parent\"><img src=\"https://colab.research.google.com/assets/colab-badge.svg\" alt=\"Open In Colab\"/></a>"
      ]
    },
    {
      "cell_type": "code",
      "metadata": {
        "id": "LExmIlt5h3xv"
      },
      "source": [
        "import itertools\n",
        "import numpy as np\n",
        "import matplotlib.pyplot as plt\n",
        "from matplotlib.ticker import NullFormatter\n",
        "import pandas as pd\n",
        "import numpy as np\n",
        "import matplotlib.ticker as ticker\n",
        "from sklearn import preprocessing\n",
        "%matplotlib inline"
      ],
      "execution_count": null,
      "outputs": []
    },
    {
      "cell_type": "code",
      "metadata": {
        "id": "ffH2dGwSiBVn"
      },
      "source": [
        "np.random.seed(7)"
      ],
      "execution_count": null,
      "outputs": []
    },
    {
      "cell_type": "code",
      "metadata": {
        "id": "GcE0dmTsiDY0",
        "colab": {
          "resources": {
            "http://localhost:8080/nbextensions/google.colab/files.js": {
              "data": "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",
              "ok": true,
              "headers": [
                [
                  "content-type",
                  "application/javascript"
                ]
              ],
              "status": 200,
              "status_text": ""
            }
          },
          "base_uri": "https://localhost:8080/",
          "height": 72
        },
        "outputId": "52baf343-f774-4f17-c456-3fa53473f506"
      },
      "source": [
        "import pandas as pd\n",
        "import numpy as np\n",
        "from google.colab import files\n",
        "data= files.upload()"
      ],
      "execution_count": null,
      "outputs": [
        {
          "output_type": "display_data",
          "data": {
            "text/html": [
              "\n",
              "     <input type=\"file\" id=\"files-d8384b28-04a5-4d18-a9fa-b4a03302a80f\" name=\"files[]\" multiple disabled\n",
              "        style=\"border:none\" />\n",
              "     <output id=\"result-d8384b28-04a5-4d18-a9fa-b4a03302a80f\">\n",
              "      Upload widget is only available when the cell has been executed in the\n",
              "      current browser session. Please rerun this cell to enable.\n",
              "      </output>\n",
              "      <script src=\"/nbextensions/google.colab/files.js\"></script> "
            ],
            "text/plain": [
              "<IPython.core.display.HTML object>"
            ]
          },
          "metadata": {
            "tags": []
          }
        },
        {
          "output_type": "stream",
          "text": [
            "Saving VRU 5 Refined.xlsx to VRU 5 Refined.xlsx\n"
          ],
          "name": "stdout"
        }
      ]
    },
    {
      "cell_type": "code",
      "metadata": {
        "id": "44cJjhlSiFjW"
      },
      "source": [
        "df=pd.read_excel('VRU 5 Refined.xlsx')"
      ],
      "execution_count": null,
      "outputs": []
    },
    {
      "cell_type": "code",
      "metadata": {
        "id": "AfCx0pvviRBd",
        "colab": {
          "base_uri": "https://localhost:8080/",
          "height": 34
        },
        "outputId": "f72c0472-b03a-446c-ca70-9b1e938b8ae1"
      },
      "source": [
        "df.shape"
      ],
      "execution_count": null,
      "outputs": [
        {
          "output_type": "execute_result",
          "data": {
            "text/plain": [
              "(13041, 22)"
            ]
          },
          "metadata": {
            "tags": []
          },
          "execution_count": 5
        }
      ]
    },
    {
      "cell_type": "code",
      "metadata": {
        "id": "Wp-wJDPBiUlG"
      },
      "source": [
        "df=df.drop(['VRU','Count_Casualty_Total'],axis='columns')"
      ],
      "execution_count": null,
      "outputs": []
    },
    {
      "cell_type": "code",
      "metadata": {
        "id": "wKHJSWFVieIe"
      },
      "source": [
        "from sklearn.preprocessing import LabelEncoder\n",
        "le = LabelEncoder()"
      ],
      "execution_count": null,
      "outputs": []
    },
    {
      "cell_type": "code",
      "metadata": {
        "id": "9NbSuWcVilO_",
        "colab": {
          "base_uri": "https://localhost:8080/",
          "height": 439
        },
        "outputId": "f832a9b3-9609-4cf9-ccd7-9c05069dc7f3"
      },
      "source": [
        "dfle = df\n",
        "dfle.Crash_Severity = le.fit_transform(dfle.Crash_Severity)\n",
        "dfle.Crash_Year = le.fit_transform(dfle.Crash_Year)\n",
        "dfle.Crash_Nature = le.fit_transform(dfle.Crash_Nature)\n",
        "dfle.Crash_Type = le.fit_transform(dfle.Crash_Type)\n",
        "dfle.Loc_ABS_Remoteness = le.fit_transform(dfle.Loc_ABS_Remoteness)\n",
        "dfle.Crash_Roadway_Feature = le.fit_transform(dfle.Crash_Roadway_Feature)\n",
        "dfle.Crash_Traffic_Control = le.fit_transform(dfle.Crash_Traffic_Control)\n",
        "\n",
        "dfle.Crash_Road_Surface_Condition = le.fit_transform(dfle.Crash_Road_Surface_Condition)\n",
        "dfle.Crash_Atmospheric_Condition = le.fit_transform(dfle.Crash_Atmospheric_Condition)\n",
        "dfle.Crash_Lighting_Condition = le.fit_transform(dfle.Crash_Lighting_Condition)\n",
        "dfle.Crash_Road_Horiz_Align = le.fit_transform(dfle.Crash_Road_Horiz_Align)\n",
        "dfle.Crash_Road_Vert_Align = le.fit_transform(dfle.Crash_Road_Vert_Align)\n",
        "dfle"
      ],
      "execution_count": null,
      "outputs": [
        {
          "output_type": "execute_result",
          "data": {
            "text/html": [
              "<div>\n",
              "<style scoped>\n",
              "    .dataframe tbody tr th:only-of-type {\n",
              "        vertical-align: middle;\n",
              "    }\n",
              "\n",
              "    .dataframe tbody tr th {\n",
              "        vertical-align: top;\n",
              "    }\n",
              "\n",
              "    .dataframe thead th {\n",
              "        text-align: right;\n",
              "    }\n",
              "</style>\n",
              "<table border=\"1\" class=\"dataframe\">\n",
              "  <thead>\n",
              "    <tr style=\"text-align: right;\">\n",
              "      <th></th>\n",
              "      <th>Crash_Severity</th>\n",
              "      <th>Crash_Year</th>\n",
              "      <th>Crash_Nature</th>\n",
              "      <th>Crash_Type</th>\n",
              "      <th>Loc_ABS_Remoteness</th>\n",
              "      <th>Crash_Roadway_Feature</th>\n",
              "      <th>Crash_Traffic_Control</th>\n",
              "      <th>Crash_Speed_Limit</th>\n",
              "      <th>Crash_Road_Surface_Condition</th>\n",
              "      <th>Crash_Atmospheric_Condition</th>\n",
              "      <th>Crash_Lighting_Condition</th>\n",
              "      <th>Crash_Road_Horiz_Align</th>\n",
              "      <th>Crash_Road_Vert_Align</th>\n",
              "      <th>Count_Casualty_Fatality</th>\n",
              "      <th>Count_Casualty_Hospitalised</th>\n",
              "      <th>Count_Casualty_MedicallyTreated</th>\n",
              "      <th>Count_Casualty_MinorInjury</th>\n",
              "      <th>Count_Unit_Motorcycle_Moped</th>\n",
              "      <th>Count_Unit_Bicycle</th>\n",
              "      <th>Count_Unit_Pedestrian</th>\n",
              "    </tr>\n",
              "  </thead>\n",
              "  <tbody>\n",
              "    <tr>\n",
              "      <th>0</th>\n",
              "      <td>1</td>\n",
              "      <td>0</td>\n",
              "      <td>7</td>\n",
              "      <td>0</td>\n",
              "      <td>1</td>\n",
              "      <td>4</td>\n",
              "      <td>3</td>\n",
              "      <td>80 - 90 km/h</td>\n",
              "      <td>0</td>\n",
              "      <td>0</td>\n",
              "      <td>0</td>\n",
              "      <td>2</td>\n",
              "      <td>3</td>\n",
              "      <td>0</td>\n",
              "      <td>1</td>\n",
              "      <td>0</td>\n",
              "      <td>0</td>\n",
              "      <td>0</td>\n",
              "      <td>0</td>\n",
              "      <td>1</td>\n",
              "    </tr>\n",
              "    <tr>\n",
              "      <th>1</th>\n",
              "      <td>1</td>\n",
              "      <td>0</td>\n",
              "      <td>0</td>\n",
              "      <td>1</td>\n",
              "      <td>1</td>\n",
              "      <td>7</td>\n",
              "      <td>2</td>\n",
              "      <td>70 km/h</td>\n",
              "      <td>0</td>\n",
              "      <td>0</td>\n",
              "      <td>3</td>\n",
              "      <td>2</td>\n",
              "      <td>3</td>\n",
              "      <td>0</td>\n",
              "      <td>1</td>\n",
              "      <td>0</td>\n",
              "      <td>0</td>\n",
              "      <td>0</td>\n",
              "      <td>1</td>\n",
              "      <td>0</td>\n",
              "    </tr>\n",
              "    <tr>\n",
              "      <th>2</th>\n",
              "      <td>1</td>\n",
              "      <td>0</td>\n",
              "      <td>5</td>\n",
              "      <td>3</td>\n",
              "      <td>1</td>\n",
              "      <td>11</td>\n",
              "      <td>2</td>\n",
              "      <td>0 - 50 km/h</td>\n",
              "      <td>0</td>\n",
              "      <td>0</td>\n",
              "      <td>3</td>\n",
              "      <td>1</td>\n",
              "      <td>3</td>\n",
              "      <td>0</td>\n",
              "      <td>1</td>\n",
              "      <td>1</td>\n",
              "      <td>0</td>\n",
              "      <td>0</td>\n",
              "      <td>0</td>\n",
              "      <td>2</td>\n",
              "    </tr>\n",
              "    <tr>\n",
              "      <th>3</th>\n",
              "      <td>2</td>\n",
              "      <td>0</td>\n",
              "      <td>7</td>\n",
              "      <td>0</td>\n",
              "      <td>1</td>\n",
              "      <td>11</td>\n",
              "      <td>2</td>\n",
              "      <td>0 - 50 km/h</td>\n",
              "      <td>0</td>\n",
              "      <td>0</td>\n",
              "      <td>2</td>\n",
              "      <td>2</td>\n",
              "      <td>3</td>\n",
              "      <td>0</td>\n",
              "      <td>0</td>\n",
              "      <td>1</td>\n",
              "      <td>0</td>\n",
              "      <td>0</td>\n",
              "      <td>0</td>\n",
              "      <td>1</td>\n",
              "    </tr>\n",
              "    <tr>\n",
              "      <th>4</th>\n",
              "      <td>2</td>\n",
              "      <td>0</td>\n",
              "      <td>10</td>\n",
              "      <td>1</td>\n",
              "      <td>1</td>\n",
              "      <td>11</td>\n",
              "      <td>2</td>\n",
              "      <td>60 km/h</td>\n",
              "      <td>0</td>\n",
              "      <td>0</td>\n",
              "      <td>3</td>\n",
              "      <td>2</td>\n",
              "      <td>3</td>\n",
              "      <td>0</td>\n",
              "      <td>0</td>\n",
              "      <td>1</td>\n",
              "      <td>0</td>\n",
              "      <td>0</td>\n",
              "      <td>1</td>\n",
              "      <td>0</td>\n",
              "    </tr>\n",
              "    <tr>\n",
              "      <th>...</th>\n",
              "      <td>...</td>\n",
              "      <td>...</td>\n",
              "      <td>...</td>\n",
              "      <td>...</td>\n",
              "      <td>...</td>\n",
              "      <td>...</td>\n",
              "      <td>...</td>\n",
              "      <td>...</td>\n",
              "      <td>...</td>\n",
              "      <td>...</td>\n",
              "      <td>...</td>\n",
              "      <td>...</td>\n",
              "      <td>...</td>\n",
              "      <td>...</td>\n",
              "      <td>...</td>\n",
              "      <td>...</td>\n",
              "      <td>...</td>\n",
              "      <td>...</td>\n",
              "      <td>...</td>\n",
              "      <td>...</td>\n",
              "    </tr>\n",
              "    <tr>\n",
              "      <th>13036</th>\n",
              "      <td>1</td>\n",
              "      <td>4</td>\n",
              "      <td>10</td>\n",
              "      <td>1</td>\n",
              "      <td>1</td>\n",
              "      <td>11</td>\n",
              "      <td>2</td>\n",
              "      <td>60 km/h</td>\n",
              "      <td>0</td>\n",
              "      <td>0</td>\n",
              "      <td>3</td>\n",
              "      <td>2</td>\n",
              "      <td>3</td>\n",
              "      <td>0</td>\n",
              "      <td>1</td>\n",
              "      <td>0</td>\n",
              "      <td>0</td>\n",
              "      <td>1</td>\n",
              "      <td>0</td>\n",
              "      <td>0</td>\n",
              "    </tr>\n",
              "    <tr>\n",
              "      <th>13037</th>\n",
              "      <td>2</td>\n",
              "      <td>4</td>\n",
              "      <td>7</td>\n",
              "      <td>0</td>\n",
              "      <td>1</td>\n",
              "      <td>11</td>\n",
              "      <td>2</td>\n",
              "      <td>0 - 50 km/h</td>\n",
              "      <td>0</td>\n",
              "      <td>0</td>\n",
              "      <td>0</td>\n",
              "      <td>2</td>\n",
              "      <td>3</td>\n",
              "      <td>0</td>\n",
              "      <td>0</td>\n",
              "      <td>1</td>\n",
              "      <td>0</td>\n",
              "      <td>0</td>\n",
              "      <td>0</td>\n",
              "      <td>1</td>\n",
              "    </tr>\n",
              "    <tr>\n",
              "      <th>13038</th>\n",
              "      <td>1</td>\n",
              "      <td>4</td>\n",
              "      <td>0</td>\n",
              "      <td>1</td>\n",
              "      <td>1</td>\n",
              "      <td>11</td>\n",
              "      <td>2</td>\n",
              "      <td>60 km/h</td>\n",
              "      <td>0</td>\n",
              "      <td>0</td>\n",
              "      <td>3</td>\n",
              "      <td>2</td>\n",
              "      <td>3</td>\n",
              "      <td>0</td>\n",
              "      <td>1</td>\n",
              "      <td>0</td>\n",
              "      <td>0</td>\n",
              "      <td>1</td>\n",
              "      <td>0</td>\n",
              "      <td>0</td>\n",
              "    </tr>\n",
              "    <tr>\n",
              "      <th>13039</th>\n",
              "      <td>1</td>\n",
              "      <td>4</td>\n",
              "      <td>7</td>\n",
              "      <td>0</td>\n",
              "      <td>1</td>\n",
              "      <td>11</td>\n",
              "      <td>2</td>\n",
              "      <td>0 - 50 km/h</td>\n",
              "      <td>0</td>\n",
              "      <td>0</td>\n",
              "      <td>0</td>\n",
              "      <td>2</td>\n",
              "      <td>3</td>\n",
              "      <td>0</td>\n",
              "      <td>1</td>\n",
              "      <td>0</td>\n",
              "      <td>0</td>\n",
              "      <td>0</td>\n",
              "      <td>1</td>\n",
              "      <td>0</td>\n",
              "    </tr>\n",
              "    <tr>\n",
              "      <th>13040</th>\n",
              "      <td>1</td>\n",
              "      <td>4</td>\n",
              "      <td>2</td>\n",
              "      <td>3</td>\n",
              "      <td>1</td>\n",
              "      <td>7</td>\n",
              "      <td>2</td>\n",
              "      <td>60 km/h</td>\n",
              "      <td>0</td>\n",
              "      <td>0</td>\n",
              "      <td>2</td>\n",
              "      <td>2</td>\n",
              "      <td>3</td>\n",
              "      <td>0</td>\n",
              "      <td>1</td>\n",
              "      <td>0</td>\n",
              "      <td>0</td>\n",
              "      <td>1</td>\n",
              "      <td>0</td>\n",
              "      <td>0</td>\n",
              "    </tr>\n",
              "  </tbody>\n",
              "</table>\n",
              "<p>13041 rows × 20 columns</p>\n",
              "</div>"
            ],
            "text/plain": [
              "       Crash_Severity  Crash_Year  ...  Count_Unit_Bicycle  Count_Unit_Pedestrian\n",
              "0                   1           0  ...                   0                      1\n",
              "1                   1           0  ...                   1                      0\n",
              "2                   1           0  ...                   0                      2\n",
              "3                   2           0  ...                   0                      1\n",
              "4                   2           0  ...                   1                      0\n",
              "...               ...         ...  ...                 ...                    ...\n",
              "13036               1           4  ...                   0                      0\n",
              "13037               2           4  ...                   0                      1\n",
              "13038               1           4  ...                   0                      0\n",
              "13039               1           4  ...                   1                      0\n",
              "13040               1           4  ...                   0                      0\n",
              "\n",
              "[13041 rows x 20 columns]"
            ]
          },
          "metadata": {
            "tags": []
          },
          "execution_count": 8
        }
      ]
    },
    {
      "cell_type": "code",
      "metadata": {
        "id": "X1QaWo5tj1eG"
      },
      "source": [
        "dfle= dfle.drop(['Crash_Year','Count_Casualty_Fatality',\t'Count_Casualty_Hospitalised',\t'Count_Casualty_MedicallyTreated',\t'Count_Casualty_MinorInjury'],axis='columns')"
      ],
      "execution_count": null,
      "outputs": []
    },
    {
      "cell_type": "code",
      "metadata": {
        "id": "xAEAws22iwiQ",
        "colab": {
          "base_uri": "https://localhost:8080/",
          "height": 136
        },
        "outputId": "a5bbceb8-03dd-40c5-d23e-61ebd904271e"
      },
      "source": [
        "dfle.columns"
      ],
      "execution_count": null,
      "outputs": [
        {
          "output_type": "execute_result",
          "data": {
            "text/plain": [
              "Index(['Crash_Severity', 'Crash_Nature', 'Crash_Type', 'Loc_ABS_Remoteness',\n",
              "       'Crash_Roadway_Feature', 'Crash_Traffic_Control', 'Crash_Speed_Limit',\n",
              "       'Crash_Road_Surface_Condition', 'Crash_Atmospheric_Condition',\n",
              "       'Crash_Lighting_Condition', 'Crash_Road_Horiz_Align',\n",
              "       'Crash_Road_Vert_Align', 'Count_Unit_Motorcycle_Moped',\n",
              "       'Count_Unit_Bicycle', 'Count_Unit_Pedestrian'],\n",
              "      dtype='object')"
            ]
          },
          "metadata": {
            "tags": []
          },
          "execution_count": 10
        }
      ]
    },
    {
      "cell_type": "code",
      "metadata": {
        "id": "y18M6V0Ik6Ee"
      },
      "source": [
        "dfle= dfle.drop(['Crash_Speed_Limit'],axis='columns')"
      ],
      "execution_count": null,
      "outputs": []
    },
    {
      "cell_type": "code",
      "metadata": {
        "id": "9iBQWimG8YLu",
        "colab": {
          "base_uri": "https://localhost:8080/",
          "height": 212
        },
        "outputId": "46821203-629c-4872-cc5e-5e031b9b2dd3"
      },
      "source": [
        "\n",
        "from google.colab import files\n",
        "dfle.to_excel('dfle.xlsx') \n",
        "files.download('dfle.xlsx')\n"
      ],
      "execution_count": null,
      "outputs": [
        {
          "output_type": "error",
          "ename": "NameError",
          "evalue": "ignored",
          "traceback": [
            "\u001b[0;31m---------------------------------------------------------------------------\u001b[0m",
            "\u001b[0;31mNameError\u001b[0m                                 Traceback (most recent call last)",
            "\u001b[0;32m<ipython-input-1-35d45025a85d>\u001b[0m in \u001b[0;36m<module>\u001b[0;34m()\u001b[0m\n\u001b[1;32m      1\u001b[0m \u001b[0;34m\u001b[0m\u001b[0m\n\u001b[1;32m      2\u001b[0m \u001b[0;32mfrom\u001b[0m \u001b[0mgoogle\u001b[0m\u001b[0;34m.\u001b[0m\u001b[0mcolab\u001b[0m \u001b[0;32mimport\u001b[0m \u001b[0mfiles\u001b[0m\u001b[0;34m\u001b[0m\u001b[0;34m\u001b[0m\u001b[0m\n\u001b[0;32m----> 3\u001b[0;31m \u001b[0mdfle\u001b[0m\u001b[0;34m.\u001b[0m\u001b[0mto_excel\u001b[0m\u001b[0;34m(\u001b[0m\u001b[0;34m'dfle.xlsx'\u001b[0m\u001b[0;34m)\u001b[0m\u001b[0;34m\u001b[0m\u001b[0;34m\u001b[0m\u001b[0m\n\u001b[0m\u001b[1;32m      4\u001b[0m \u001b[0mfiles\u001b[0m\u001b[0;34m.\u001b[0m\u001b[0mdownload\u001b[0m\u001b[0;34m(\u001b[0m\u001b[0;34m'dfle.xlsx'\u001b[0m\u001b[0;34m)\u001b[0m\u001b[0;34m\u001b[0m\u001b[0;34m\u001b[0m\u001b[0m\n",
            "\u001b[0;31mNameError\u001b[0m: name 'dfle' is not defined"
          ]
        }
      ]
    },
    {
      "cell_type": "code",
      "metadata": {
        "id": "p9gj4Omhk66W"
      },
      "source": [
        "x = dfle.drop(['Crash_Severity'],axis='columns')\n",
        "y2=dfle.Crash_Severity"
      ],
      "execution_count": null,
      "outputs": []
    },
    {
      "cell_type": "code",
      "metadata": {
        "id": "SBT4VCf_i4VA",
        "colab": {
          "base_uri": "https://localhost:8080/",
          "height": 439
        },
        "outputId": "296aaab7-903a-4c5c-df8e-132d7bdeab71"
      },
      "source": [
        "x"
      ],
      "execution_count": null,
      "outputs": [
        {
          "output_type": "execute_result",
          "data": {
            "text/html": [
              "<div>\n",
              "<style scoped>\n",
              "    .dataframe tbody tr th:only-of-type {\n",
              "        vertical-align: middle;\n",
              "    }\n",
              "\n",
              "    .dataframe tbody tr th {\n",
              "        vertical-align: top;\n",
              "    }\n",
              "\n",
              "    .dataframe thead th {\n",
              "        text-align: right;\n",
              "    }\n",
              "</style>\n",
              "<table border=\"1\" class=\"dataframe\">\n",
              "  <thead>\n",
              "    <tr style=\"text-align: right;\">\n",
              "      <th></th>\n",
              "      <th>Crash_Nature</th>\n",
              "      <th>Crash_Type</th>\n",
              "      <th>Loc_ABS_Remoteness</th>\n",
              "      <th>Crash_Roadway_Feature</th>\n",
              "      <th>Crash_Traffic_Control</th>\n",
              "      <th>Crash_Road_Surface_Condition</th>\n",
              "      <th>Crash_Atmospheric_Condition</th>\n",
              "      <th>Crash_Lighting_Condition</th>\n",
              "      <th>Crash_Road_Horiz_Align</th>\n",
              "      <th>Crash_Road_Vert_Align</th>\n",
              "      <th>Count_Unit_Motorcycle_Moped</th>\n",
              "      <th>Count_Unit_Bicycle</th>\n",
              "      <th>Count_Unit_Pedestrian</th>\n",
              "    </tr>\n",
              "  </thead>\n",
              "  <tbody>\n",
              "    <tr>\n",
              "      <th>0</th>\n",
              "      <td>7</td>\n",
              "      <td>0</td>\n",
              "      <td>1</td>\n",
              "      <td>4</td>\n",
              "      <td>3</td>\n",
              "      <td>0</td>\n",
              "      <td>0</td>\n",
              "      <td>0</td>\n",
              "      <td>2</td>\n",
              "      <td>3</td>\n",
              "      <td>0</td>\n",
              "      <td>0</td>\n",
              "      <td>1</td>\n",
              "    </tr>\n",
              "    <tr>\n",
              "      <th>1</th>\n",
              "      <td>0</td>\n",
              "      <td>1</td>\n",
              "      <td>1</td>\n",
              "      <td>7</td>\n",
              "      <td>2</td>\n",
              "      <td>0</td>\n",
              "      <td>0</td>\n",
              "      <td>3</td>\n",
              "      <td>2</td>\n",
              "      <td>3</td>\n",
              "      <td>0</td>\n",
              "      <td>1</td>\n",
              "      <td>0</td>\n",
              "    </tr>\n",
              "    <tr>\n",
              "      <th>2</th>\n",
              "      <td>5</td>\n",
              "      <td>3</td>\n",
              "      <td>1</td>\n",
              "      <td>11</td>\n",
              "      <td>2</td>\n",
              "      <td>0</td>\n",
              "      <td>0</td>\n",
              "      <td>3</td>\n",
              "      <td>1</td>\n",
              "      <td>3</td>\n",
              "      <td>0</td>\n",
              "      <td>0</td>\n",
              "      <td>2</td>\n",
              "    </tr>\n",
              "    <tr>\n",
              "      <th>3</th>\n",
              "      <td>7</td>\n",
              "      <td>0</td>\n",
              "      <td>1</td>\n",
              "      <td>11</td>\n",
              "      <td>2</td>\n",
              "      <td>0</td>\n",
              "      <td>0</td>\n",
              "      <td>2</td>\n",
              "      <td>2</td>\n",
              "      <td>3</td>\n",
              "      <td>0</td>\n",
              "      <td>0</td>\n",
              "      <td>1</td>\n",
              "    </tr>\n",
              "    <tr>\n",
              "      <th>4</th>\n",
              "      <td>10</td>\n",
              "      <td>1</td>\n",
              "      <td>1</td>\n",
              "      <td>11</td>\n",
              "      <td>2</td>\n",
              "      <td>0</td>\n",
              "      <td>0</td>\n",
              "      <td>3</td>\n",
              "      <td>2</td>\n",
              "      <td>3</td>\n",
              "      <td>0</td>\n",
              "      <td>1</td>\n",
              "      <td>0</td>\n",
              "    </tr>\n",
              "    <tr>\n",
              "      <th>...</th>\n",
              "      <td>...</td>\n",
              "      <td>...</td>\n",
              "      <td>...</td>\n",
              "      <td>...</td>\n",
              "      <td>...</td>\n",
              "      <td>...</td>\n",
              "      <td>...</td>\n",
              "      <td>...</td>\n",
              "      <td>...</td>\n",
              "      <td>...</td>\n",
              "      <td>...</td>\n",
              "      <td>...</td>\n",
              "      <td>...</td>\n",
              "    </tr>\n",
              "    <tr>\n",
              "      <th>13036</th>\n",
              "      <td>10</td>\n",
              "      <td>1</td>\n",
              "      <td>1</td>\n",
              "      <td>11</td>\n",
              "      <td>2</td>\n",
              "      <td>0</td>\n",
              "      <td>0</td>\n",
              "      <td>3</td>\n",
              "      <td>2</td>\n",
              "      <td>3</td>\n",
              "      <td>1</td>\n",
              "      <td>0</td>\n",
              "      <td>0</td>\n",
              "    </tr>\n",
              "    <tr>\n",
              "      <th>13037</th>\n",
              "      <td>7</td>\n",
              "      <td>0</td>\n",
              "      <td>1</td>\n",
              "      <td>11</td>\n",
              "      <td>2</td>\n",
              "      <td>0</td>\n",
              "      <td>0</td>\n",
              "      <td>0</td>\n",
              "      <td>2</td>\n",
              "      <td>3</td>\n",
              "      <td>0</td>\n",
              "      <td>0</td>\n",
              "      <td>1</td>\n",
              "    </tr>\n",
              "    <tr>\n",
              "      <th>13038</th>\n",
              "      <td>0</td>\n",
              "      <td>1</td>\n",
              "      <td>1</td>\n",
              "      <td>11</td>\n",
              "      <td>2</td>\n",
              "      <td>0</td>\n",
              "      <td>0</td>\n",
              "      <td>3</td>\n",
              "      <td>2</td>\n",
              "      <td>3</td>\n",
              "      <td>1</td>\n",
              "      <td>0</td>\n",
              "      <td>0</td>\n",
              "    </tr>\n",
              "    <tr>\n",
              "      <th>13039</th>\n",
              "      <td>7</td>\n",
              "      <td>0</td>\n",
              "      <td>1</td>\n",
              "      <td>11</td>\n",
              "      <td>2</td>\n",
              "      <td>0</td>\n",
              "      <td>0</td>\n",
              "      <td>0</td>\n",
              "      <td>2</td>\n",
              "      <td>3</td>\n",
              "      <td>0</td>\n",
              "      <td>1</td>\n",
              "      <td>0</td>\n",
              "    </tr>\n",
              "    <tr>\n",
              "      <th>13040</th>\n",
              "      <td>2</td>\n",
              "      <td>3</td>\n",
              "      <td>1</td>\n",
              "      <td>7</td>\n",
              "      <td>2</td>\n",
              "      <td>0</td>\n",
              "      <td>0</td>\n",
              "      <td>2</td>\n",
              "      <td>2</td>\n",
              "      <td>3</td>\n",
              "      <td>1</td>\n",
              "      <td>0</td>\n",
              "      <td>0</td>\n",
              "    </tr>\n",
              "  </tbody>\n",
              "</table>\n",
              "<p>13041 rows × 13 columns</p>\n",
              "</div>"
            ],
            "text/plain": [
              "       Crash_Nature  Crash_Type  ...  Count_Unit_Bicycle  Count_Unit_Pedestrian\n",
              "0                 7           0  ...                   0                      1\n",
              "1                 0           1  ...                   1                      0\n",
              "2                 5           3  ...                   0                      2\n",
              "3                 7           0  ...                   0                      1\n",
              "4                10           1  ...                   1                      0\n",
              "...             ...         ...  ...                 ...                    ...\n",
              "13036            10           1  ...                   0                      0\n",
              "13037             7           0  ...                   0                      1\n",
              "13038             0           1  ...                   0                      0\n",
              "13039             7           0  ...                   1                      0\n",
              "13040             2           3  ...                   0                      0\n",
              "\n",
              "[13041 rows x 13 columns]"
            ]
          },
          "metadata": {
            "tags": []
          },
          "execution_count": 13
        }
      ]
    },
    {
      "cell_type": "code",
      "metadata": {
        "id": "Rt31D21ak_gu"
      },
      "source": [
        "y2=dfle.Crash_Severity"
      ],
      "execution_count": null,
      "outputs": []
    },
    {
      "cell_type": "code",
      "metadata": {
        "id": "0269pzoNlQjX",
        "colab": {
          "base_uri": "https://localhost:8080/",
          "height": 163
        },
        "outputId": "dde374af-4d98-4b72-a89f-42a0d2ff4663"
      },
      "source": [
        "model.score(X_test, y_test)"
      ],
      "execution_count": null,
      "outputs": [
        {
          "output_type": "error",
          "ename": "NameError",
          "evalue": "ignored",
          "traceback": [
            "\u001b[0;31m---------------------------------------------------------------------------\u001b[0m",
            "\u001b[0;31mNameError\u001b[0m                                 Traceback (most recent call last)",
            "\u001b[0;32m<ipython-input-15-1574e7273ce0>\u001b[0m in \u001b[0;36m<module>\u001b[0;34m()\u001b[0m\n\u001b[0;32m----> 1\u001b[0;31m \u001b[0mmodel\u001b[0m\u001b[0;34m.\u001b[0m\u001b[0mscore\u001b[0m\u001b[0;34m(\u001b[0m\u001b[0mX_test\u001b[0m\u001b[0;34m,\u001b[0m \u001b[0my_test\u001b[0m\u001b[0;34m)\u001b[0m\u001b[0;34m\u001b[0m\u001b[0;34m\u001b[0m\u001b[0m\n\u001b[0m",
            "\u001b[0;31mNameError\u001b[0m: name 'model' is not defined"
          ]
        }
      ]
    },
    {
      "cell_type": "code",
      "metadata": {
        "id": "2_K0OlYFlTDw"
      },
      "source": [
        "y_predicted = model.predict(X_test)"
      ],
      "execution_count": null,
      "outputs": []
    },
    {
      "cell_type": "code",
      "metadata": {
        "id": "IQZ75GKz-8qC",
        "colab": {
          "base_uri": "https://localhost:8080/",
          "height": 180
        },
        "outputId": "8b7e1c99-f962-4f5d-db6d-724483352429"
      },
      "source": [
        "from sklearn.metrics import accuracy_score\n",
        "accuracy_score(y_test, y_predicted)"
      ],
      "execution_count": null,
      "outputs": [
        {
          "output_type": "error",
          "ename": "NameError",
          "evalue": "ignored",
          "traceback": [
            "\u001b[0;31m---------------------------------------------------------------------------\u001b[0m",
            "\u001b[0;31mNameError\u001b[0m                                 Traceback (most recent call last)",
            "\u001b[0;32m<ipython-input-16-7a1266ea6846>\u001b[0m in \u001b[0;36m<module>\u001b[0;34m()\u001b[0m\n\u001b[1;32m      1\u001b[0m \u001b[0;32mfrom\u001b[0m \u001b[0msklearn\u001b[0m\u001b[0;34m.\u001b[0m\u001b[0mmetrics\u001b[0m \u001b[0;32mimport\u001b[0m \u001b[0maccuracy_score\u001b[0m\u001b[0;34m\u001b[0m\u001b[0;34m\u001b[0m\u001b[0m\n\u001b[0;32m----> 2\u001b[0;31m \u001b[0maccuracy_score\u001b[0m\u001b[0;34m(\u001b[0m\u001b[0my_test\u001b[0m\u001b[0;34m,\u001b[0m \u001b[0my_predicted\u001b[0m\u001b[0;34m)\u001b[0m\u001b[0;34m\u001b[0m\u001b[0;34m\u001b[0m\u001b[0m\n\u001b[0m",
            "\u001b[0;31mNameError\u001b[0m: name 'y_test' is not defined"
          ]
        }
      ]
    },
    {
      "cell_type": "code",
      "metadata": {
        "id": "V-IFdecZlU04"
      },
      "source": [
        "from sklearn.metrics import confusion_matrix\n",
        "cm = confusion_matrix(y_test, y_predicted)\n",
        "cm"
      ],
      "execution_count": null,
      "outputs": []
    },
    {
      "cell_type": "code",
      "metadata": {
        "id": "XpcZXJ85le5A"
      },
      "source": [
        "from sklearn.model_selection import cross_val_score"
      ],
      "execution_count": null,
      "outputs": []
    },
    {
      "cell_type": "code",
      "metadata": {
        "id": "oDxGDz-Qli8p"
      },
      "source": [
        "scores = cross_val_score(model, m, n, cv=10)"
      ],
      "execution_count": null,
      "outputs": []
    },
    {
      "cell_type": "code",
      "metadata": {
        "id": "nzVT2GMVlk-Q"
      },
      "source": [
        "scores"
      ],
      "execution_count": null,
      "outputs": []
    },
    {
      "cell_type": "code",
      "metadata": {
        "id": "z5ZvF-aclmtQ"
      },
      "source": [
        "from sklearn.metrics import roc_auc_score"
      ],
      "execution_count": null,
      "outputs": []
    },
    {
      "cell_type": "code",
      "metadata": {
        "id": "DNOBX_p9lzm4",
        "colab": {
          "base_uri": "https://localhost:8080/",
          "height": 34
        },
        "outputId": "97d4fe4f-2136-4392-b2fa-389474944fcb"
      },
      "source": [
        "x.shape, y2.shape"
      ],
      "execution_count": null,
      "outputs": [
        {
          "output_type": "execute_result",
          "data": {
            "text/plain": [
              "((13041, 13), (13041,))"
            ]
          },
          "metadata": {
            "tags": []
          },
          "execution_count": 19
        }
      ]
    },
    {
      "cell_type": "code",
      "metadata": {
        "id": "OeWaGD5iD6mj",
        "colab": {
          "base_uri": "https://localhost:8080/",
          "height": 255
        },
        "outputId": "03a21234-4965-4a03-aacc-c53017f18c4f"
      },
      "source": [
        "\n",
        "from sklearn.feature_selection import SelectKBest, f_classif\n",
        "from sklearn.feature_selection import chi2\n",
        "#data = pd.read_csv(\"D://Blogs//train.csv\")\n",
        "#X = data.iloc[:,0:20]  #independent columns\n",
        "#y = data.iloc[:,-1]    #target column i.e price range\n",
        "#apply SelectKBest class to extract top 10 best features\n",
        "#y=data['Target_values2']\n",
        "#x=data.drop([\"Target_values\", \"Target_values3\",\"Target_values2\"], axis=1) #https://pandas.pydata.org/pandas-docs/stable/reference/api/pandas.DataFrame.drop.html\n",
        "bestfeatures = SelectKBest(score_func=f_classif, k=10)  ##apply SelectKBest class to extract top 12 best features\n",
        "fit = bestfeatures.fit(x,y2)\n",
        "dfscores = pd.DataFrame(fit.scores_)\n",
        "dfcolumns = pd.DataFrame(x.columns)\n",
        "#concat two dataframes for better visualization \n",
        "featureScores = pd.concat([dfcolumns,dfscores],axis=1)\n",
        "featureScores.columns = ['Specs','Score']  #naming the dataframe columns\n",
        "print(featureScores.nlargest(13,'Score'))  #print 12 best features\n"
      ],
      "execution_count": null,
      "outputs": [
        {
          "output_type": "stream",
          "text": [
            "                           Specs       Score\n",
            "11            Count_Unit_Bicycle  104.358165\n",
            "10   Count_Unit_Motorcycle_Moped   73.423855\n",
            "8         Crash_Road_Horiz_Align   53.465824\n",
            "1                     Crash_Type   36.786989\n",
            "7       Crash_Lighting_Condition   31.549526\n",
            "9          Crash_Road_Vert_Align   24.504260\n",
            "3          Crash_Roadway_Feature   21.039552\n",
            "12         Count_Unit_Pedestrian   18.021126\n",
            "0                   Crash_Nature    8.608035\n",
            "5   Crash_Road_Surface_Condition    7.552392\n",
            "4          Crash_Traffic_Control    6.926219\n",
            "2             Loc_ABS_Remoteness    2.649846\n",
            "6    Crash_Atmospheric_Condition    0.486401\n"
          ],
          "name": "stdout"
        }
      ]
    },
    {
      "cell_type": "code",
      "metadata": {
        "id": "5w_2aaMZD-Ne",
        "colab": {
          "base_uri": "https://localhost:8080/",
          "height": 280
        },
        "outputId": "e0d2be3b-c050-4f0d-8a38-f589c11c6323"
      },
      "source": [
        "df2=featureScores.nlargest(9,'Score')\n",
        "df2.columns\n",
        "ax = df2.plot.bar(x='Specs', y='Score', rot=0)\n"
      ],
      "execution_count": null,
      "outputs": [
        {
          "output_type": "display_data",
          "data": {
            "image/png": "[encoded data removed]",
            "text/plain": [
              "<Figure size 432x288 with 1 Axes>"
            ]
          },
          "metadata": {
            "tags": [],
            "needs_background": "light"
          }
        }
      ]
    },
    {
      "cell_type": "code",
      "metadata": {
        "id": "ZLxjJ1L04B3m",
        "colab": {
          "base_uri": "https://localhost:8080/",
          "height": 255
        },
        "outputId": "e9726f6c-965d-45c3-b672-5506b4782c30"
      },
      "source": [
        "from sklearn.feature_selection import SelectKBest\n",
        "from sklearn.feature_selection import chi2\n",
        "#data = pd.read_csv(\"D://Blogs//train.csv\")\n",
        "#X = data.iloc[:,0:20]  #independent columns\n",
        "#y = data.iloc[:,-1]    #target column i.e price range\n",
        "#apply SelectKBest class to extract top 10 best features\n",
        "#y=data['Target_values2']\n",
        "#x=data.drop([\"Target_values\", \"Target_values3\",\"Target_values2\"], axis=1) #https://pandas.pydata.org/pandas-docs/stable/reference/api/pandas.DataFrame.drop.html\n",
        "bestfeatures = SelectKBest(score_func=chi2, k=10)  ##apply SelectKBest class to extract top 12 best features\n",
        "fit = bestfeatures.fit(x,y2)\n",
        "dfscores = pd.DataFrame(fit.scores_)\n",
        "dfcolumns = pd.DataFrame(x.columns)\n",
        "#concat two dataframes for better visualization \n",
        "featureScores = pd.concat([dfcolumns,dfscores],axis=1)\n",
        "featureScores.columns = ['Specs','Score']  #naming the dataframe columns\n",
        "print(featureScores.nlargest(13,'Score'))  #print 12 best features\n"
      ],
      "execution_count": null,
      "outputs": [
        {
          "output_type": "stream",
          "text": [
            "                           Specs       Score\n",
            "11            Count_Unit_Bicycle  250.934161\n",
            "10   Count_Unit_Motorcycle_Moped  111.213439\n",
            "1                     Crash_Type   96.015642\n",
            "0                   Crash_Nature   81.911497\n",
            "3          Crash_Roadway_Feature   57.897475\n",
            "12         Count_Unit_Pedestrian   52.608495\n",
            "7       Crash_Lighting_Condition   47.157503\n",
            "8         Crash_Road_Horiz_Align   31.436926\n",
            "4          Crash_Traffic_Control   30.107715\n",
            "5   Crash_Road_Surface_Condition   28.540046\n",
            "9          Crash_Road_Vert_Align   19.287500\n",
            "2             Loc_ABS_Remoteness    3.518243\n",
            "6    Crash_Atmospheric_Condition    2.786720\n"
          ],
          "name": "stdout"
        }
      ]
    },
    {
      "cell_type": "code",
      "metadata": {
        "id": "9h6V3BK67CLQ",
        "colab": {
          "base_uri": "https://localhost:8080/",
          "height": 297
        },
        "outputId": "b9f6074d-4000-4e6a-b156-bfe565b07377"
      },
      "source": [
        "df2=featureScores.nlargest(13,'Score')\n",
        "df2.columns\n",
        "#plt.figure(figsize=(30,30)) \n",
        "plt.figure(figsize=(20, 20), dpi=100)\n",
        "\n",
        "ax = df2.plot.bar(x='Specs', y='Score', rot=0)"
      ],
      "execution_count": null,
      "outputs": [
        {
          "output_type": "display_data",
          "data": {
            "text/plain": [
              "<Figure size 2000x2000 with 0 Axes>"
            ]
          },
          "metadata": {
            "tags": []
          }
        },
        {
          "output_type": "display_data",
          "data": {
            "image/png": "[encoded data removed]",
            "text/plain": [
              "<Figure size 432x288 with 1 Axes>"
            ]
          },
          "metadata": {
            "tags": [],
            "needs_background": "light"
          }
        }
      ]
    },
    {
      "cell_type": "code",
      "metadata": {
        "id": "-KzYG6mr4j3h",
        "colab": {
          "base_uri": "https://localhost:8080/",
          "height": 316
        },
        "outputId": "526bb0ad-02cf-4697-8821-a2188e080cab"
      },
      "source": [
        "## TRee based\n",
        "import pandas as pd\n",
        "import numpy as np\n",
        "#data = pd.read_csv(\"D://Blogs//train.csv\")\n",
        "#X = data.iloc[:,0:20]  #independent columns\n",
        "#y = data.iloc[:,-1]    #target column i.e price range\n",
        "#y=data['Target_values2']\n",
        "#x=data.drop([\"Target_values\", \"Target_values3\",\"Target_values2\"], axis=1) #https://pandas.pydata.org/pandas-docs/stable/reference/api/pandas.DataFrame.drop.html\n",
        "from sklearn.ensemble import ExtraTreesClassifier\n",
        "import matplotlib.pyplot as plt\n",
        "model = ExtraTreesClassifier()\n",
        "model.fit(x,y2)\n",
        "print(model.feature_importances_) #use inbuilt class feature_importances of tree based classifiers\n",
        "#plot graph of feature importances for better visualization\n",
        "feat_importances = pd.Series(model.feature_importances_, index=x.columns)\n",
        "feat_importances.nlargest(13).plot(kind='barh')\n",
        "plt.show()\n",
        "\n"
      ],
      "execution_count": null,
      "outputs": [
        {
          "output_type": "stream",
          "text": [
            "[0.09416092 0.03375306 0.11904292 0.17609887 0.13593046 0.05114256\n",
            " 0.03642269 0.08022129 0.06246191 0.11085754 0.04380867 0.03506392\n",
            " 0.02103521]\n"
          ],
          "name": "stdout"
        },
        {
          "output_type": "display_data",
          "data": {
            "image/png": "[encoded data removed]",
            "text/plain": [
              "<Figure size 432x288 with 1 Axes>"
            ]
          },
          "metadata": {
            "tags": [],
            "needs_background": "light"
          }
        }
      ]
    },
    {
      "cell_type": "code",
      "metadata": {
        "id": "1gErVRu_7A3o"
      },
      "source": [
        ""
      ],
      "execution_count": null,
      "outputs": []
    },
    {
      "cell_type": "code",
      "metadata": {
        "id": "Osu7_5zm6_Qh"
      },
      "source": [
        ""
      ],
      "execution_count": null,
      "outputs": []
    },
    {
      "cell_type": "code",
      "metadata": {
        "id": "DJUnpW2B5E2a",
        "colab": {
          "base_uri": "https://localhost:8080/",
          "height": 136
        },
        "outputId": "11995b5f-3bc3-41d1-fa88-093613f6cf2d"
      },
      "source": [
        "x.columns"
      ],
      "execution_count": null,
      "outputs": [
        {
          "output_type": "execute_result",
          "data": {
            "text/plain": [
              "Index(['Crash_Nature', 'Crash_Type', 'Loc_ABS_Remoteness',\n",
              "       'Crash_Roadway_Feature', 'Crash_Traffic_Control',\n",
              "       'Crash_Road_Surface_Condition', 'Crash_Atmospheric_Condition',\n",
              "       'Crash_Lighting_Condition', 'Crash_Road_Horiz_Align',\n",
              "       'Crash_Road_Vert_Align', 'Count_Unit_Motorcycle_Moped',\n",
              "       'Count_Unit_Bicycle', 'Count_Unit_Pedestrian'],\n",
              "      dtype='object')"
            ]
          },
          "metadata": {
            "tags": []
          },
          "execution_count": 26
        }
      ]
    },
    {
      "cell_type": "code",
      "metadata": {
        "id": "MeBEE5dL5QZ4",
        "colab": {
          "base_uri": "https://localhost:8080/",
          "height": 136
        },
        "outputId": "a31b12bd-4c20-467a-f70e-2e913103b354"
      },
      "source": [
        "dfle.columns"
      ],
      "execution_count": null,
      "outputs": [
        {
          "output_type": "execute_result",
          "data": {
            "text/plain": [
              "Index(['Crash_Severity', 'Crash_Nature', 'Crash_Type', 'Loc_ABS_Remoteness',\n",
              "       'Crash_Roadway_Feature', 'Crash_Traffic_Control',\n",
              "       'Crash_Road_Surface_Condition', 'Crash_Atmospheric_Condition',\n",
              "       'Crash_Lighting_Condition', 'Crash_Road_Horiz_Align',\n",
              "       'Crash_Road_Vert_Align', 'Count_Unit_Motorcycle_Moped',\n",
              "       'Count_Unit_Bicycle', 'Count_Unit_Pedestrian'],\n",
              "      dtype='object')"
            ]
          },
          "metadata": {
            "tags": []
          },
          "execution_count": 27
        }
      ]
    },
    {
      "cell_type": "code",
      "metadata": {
        "id": "_KgrqGwL413S",
        "colab": {
          "base_uri": "https://localhost:8080/",
          "height": 1000
        },
        "outputId": "89225044-e0ed-4721-cf74-d2c5e4cc4bab"
      },
      "source": [
        "\n",
        "\n",
        "#################################### Correlation matrix: 2 Class ##################################\n",
        "\"\"\"\n",
        "EEG 3.Correlation Matrix with Heatmap\n",
        "Correlation states how the features are related to each other or the target variable.\n",
        "Correlation can be positive (increase in one value of feature increases the value of the target variable) or negative (increase in one value of feature decreases the value of the target variable)\n",
        "Heatmap makes it easy to identify which features are most related to the target variable, we will plot heatmap of correlated features using the seaborn library.\n",
        "\n",
        "\n",
        "\"\"\"\n",
        "import pandas as pd\n",
        "import numpy as np\n",
        "import seaborn as sns\n",
        "#data = pd.read_csv(\"D://Blogs//train.csv\")\n",
        "#X = data.iloc[:,0:20]  #independent columns\n",
        "#y = data.iloc[:,-1]    #target column i.e price range\n",
        "#get correlations of each features in dataset\n",
        "data_EEG= dfle[['Crash_Severity', 'Crash_Nature', 'Crash_Type', 'Loc_ABS_Remoteness',\n",
        "       'Crash_Roadway_Feature', 'Crash_Traffic_Control',\n",
        "       'Crash_Road_Surface_Condition', 'Crash_Atmospheric_Condition',\n",
        "       'Crash_Lighting_Condition', 'Crash_Road_Horiz_Align',\n",
        "       'Crash_Road_Vert_Align', 'Count_Unit_Motorcycle_Moped',\n",
        "       'Count_Unit_Bicycle', 'Count_Unit_Pedestrian']]\n",
        "#data00=data.drop([\"Target_values\", \"Target_values3\"], axis=1)\n",
        "#y=data['Target_values2']\n",
        "#x=data.drop([\"Target_values\", \"Target_values3\",\"Target_values2\"], axis=1)\n",
        "corrmat = data_EEG.corr()\n",
        "top_corr_features = corrmat.index\n",
        "plt.figure(figsize=(10,10))\n",
        "#plot heat map\n",
        "g=sns.heatmap(data_EEG[top_corr_features].corr(),annot=True,cmap=\"RdYlGn\")\n",
        "\n",
        "data_EEG[top_corr_features].corr()\n"
      ],
      "execution_count": null,
      "outputs": [
        {
          "output_type": "stream",
          "text": [
            "/usr/local/lib/python3.6/dist-packages/statsmodels/tools/_testing.py:19: FutureWarning: pandas.util.testing is deprecated. Use the functions in the public API at pandas.testing instead.\n",
            "  import pandas.util.testing as tm\n"
          ],
          "name": "stderr"
        },
        {
          "output_type": "execute_result",
          "data": {
            "text/html": [
              "<div>\n",
              "<style scoped>\n",
              "    .dataframe tbody tr th:only-of-type {\n",
              "        vertical-align: middle;\n",
              "    }\n",
              "\n",
              "    .dataframe tbody tr th {\n",
              "        vertical-align: top;\n",
              "    }\n",
              "\n",
              "    .dataframe thead th {\n",
              "        text-align: right;\n",
              "    }\n",
              "</style>\n",
              "<table border=\"1\" class=\"dataframe\">\n",
              "  <thead>\n",
              "    <tr style=\"text-align: right;\">\n",
              "      <th></th>\n",
              "      <th>Crash_Severity</th>\n",
              "      <th>Crash_Nature</th>\n",
              "      <th>Crash_Type</th>\n",
              "      <th>Loc_ABS_Remoteness</th>\n",
              "      <th>Crash_Roadway_Feature</th>\n",
              "      <th>Crash_Traffic_Control</th>\n",
              "      <th>Crash_Road_Surface_Condition</th>\n",
              "      <th>Crash_Atmospheric_Condition</th>\n",
              "      <th>Crash_Lighting_Condition</th>\n",
              "      <th>Crash_Road_Horiz_Align</th>\n",
              "      <th>Crash_Road_Vert_Align</th>\n",
              "      <th>Count_Unit_Motorcycle_Moped</th>\n",
              "      <th>Count_Unit_Bicycle</th>\n",
              "      <th>Count_Unit_Pedestrian</th>\n",
              "    </tr>\n",
              "  </thead>\n",
              "  <tbody>\n",
              "    <tr>\n",
              "      <th>Crash_Severity</th>\n",
              "      <td>1.000000</td>\n",
              "      <td>0.008531</td>\n",
              "      <td>-0.086151</td>\n",
              "      <td>-0.016877</td>\n",
              "      <td>-0.049436</td>\n",
              "      <td>0.026343</td>\n",
              "      <td>-0.039336</td>\n",
              "      <td>-0.003207</td>\n",
              "      <td>0.075666</td>\n",
              "      <td>0.106873</td>\n",
              "      <td>0.074408</td>\n",
              "      <td>-0.122517</td>\n",
              "      <td>0.149486</td>\n",
              "      <td>-0.033022</td>\n",
              "    </tr>\n",
              "    <tr>\n",
              "      <th>Crash_Nature</th>\n",
              "      <td>0.008531</td>\n",
              "      <td>1.000000</td>\n",
              "      <td>-0.240305</td>\n",
              "      <td>0.004134</td>\n",
              "      <td>0.188160</td>\n",
              "      <td>-0.023368</td>\n",
              "      <td>-0.027655</td>\n",
              "      <td>-0.020935</td>\n",
              "      <td>-0.050835</td>\n",
              "      <td>0.037472</td>\n",
              "      <td>0.026991</td>\n",
              "      <td>-0.081832</td>\n",
              "      <td>-0.253589</td>\n",
              "      <td>0.380272</td>\n",
              "    </tr>\n",
              "    <tr>\n",
              "      <th>Crash_Type</th>\n",
              "      <td>-0.086151</td>\n",
              "      <td>-0.240305</td>\n",
              "      <td>1.000000</td>\n",
              "      <td>-0.016881</td>\n",
              "      <td>0.115888</td>\n",
              "      <td>-0.089470</td>\n",
              "      <td>0.129677</td>\n",
              "      <td>0.046694</td>\n",
              "      <td>0.050018</td>\n",
              "      <td>-0.298570</td>\n",
              "      <td>-0.111130</td>\n",
              "      <td>0.486783</td>\n",
              "      <td>-0.052561</td>\n",
              "      <td>-0.515993</td>\n",
              "    </tr>\n",
              "    <tr>\n",
              "      <th>Loc_ABS_Remoteness</th>\n",
              "      <td>-0.016877</td>\n",
              "      <td>0.004134</td>\n",
              "      <td>-0.016881</td>\n",
              "      <td>1.000000</td>\n",
              "      <td>-0.019416</td>\n",
              "      <td>-0.016571</td>\n",
              "      <td>0.083498</td>\n",
              "      <td>0.008588</td>\n",
              "      <td>-0.026719</td>\n",
              "      <td>0.062829</td>\n",
              "      <td>0.080584</td>\n",
              "      <td>-0.042494</td>\n",
              "      <td>0.028709</td>\n",
              "      <td>0.013465</td>\n",
              "    </tr>\n",
              "    <tr>\n",
              "      <th>Crash_Roadway_Feature</th>\n",
              "      <td>-0.049436</td>\n",
              "      <td>0.188160</td>\n",
              "      <td>0.115888</td>\n",
              "      <td>-0.019416</td>\n",
              "      <td>1.000000</td>\n",
              "      <td>-0.140368</td>\n",
              "      <td>0.017526</td>\n",
              "      <td>-0.009018</td>\n",
              "      <td>0.030688</td>\n",
              "      <td>-0.129989</td>\n",
              "      <td>-0.030886</td>\n",
              "      <td>0.035568</td>\n",
              "      <td>-0.113933</td>\n",
              "      <td>0.076971</td>\n",
              "    </tr>\n",
              "    <tr>\n",
              "      <th>Crash_Traffic_Control</th>\n",
              "      <td>0.026343</td>\n",
              "      <td>-0.023368</td>\n",
              "      <td>-0.089470</td>\n",
              "      <td>-0.016571</td>\n",
              "      <td>-0.140368</td>\n",
              "      <td>1.000000</td>\n",
              "      <td>-0.012647</td>\n",
              "      <td>0.000142</td>\n",
              "      <td>-0.000181</td>\n",
              "      <td>0.057794</td>\n",
              "      <td>-0.012755</td>\n",
              "      <td>-0.031108</td>\n",
              "      <td>-0.018898</td>\n",
              "      <td>0.050868</td>\n",
              "    </tr>\n",
              "    <tr>\n",
              "      <th>Crash_Road_Surface_Condition</th>\n",
              "      <td>-0.039336</td>\n",
              "      <td>-0.027655</td>\n",
              "      <td>0.129677</td>\n",
              "      <td>0.083498</td>\n",
              "      <td>0.017526</td>\n",
              "      <td>-0.012647</td>\n",
              "      <td>1.000000</td>\n",
              "      <td>0.531492</td>\n",
              "      <td>-0.035631</td>\n",
              "      <td>-0.068115</td>\n",
              "      <td>-0.046253</td>\n",
              "      <td>0.081328</td>\n",
              "      <td>-0.067606</td>\n",
              "      <td>-0.012417</td>\n",
              "    </tr>\n",
              "    <tr>\n",
              "      <th>Crash_Atmospheric_Condition</th>\n",
              "      <td>-0.003207</td>\n",
              "      <td>-0.020935</td>\n",
              "      <td>0.046694</td>\n",
              "      <td>0.008588</td>\n",
              "      <td>-0.009018</td>\n",
              "      <td>0.000142</td>\n",
              "      <td>0.531492</td>\n",
              "      <td>1.000000</td>\n",
              "      <td>-0.084231</td>\n",
              "      <td>-0.008284</td>\n",
              "      <td>-0.005062</td>\n",
              "      <td>0.019654</td>\n",
              "      <td>-0.040756</td>\n",
              "      <td>0.030558</td>\n",
              "    </tr>\n",
              "    <tr>\n",
              "      <th>Crash_Lighting_Condition</th>\n",
              "      <td>0.075666</td>\n",
              "      <td>-0.050835</td>\n",
              "      <td>0.050018</td>\n",
              "      <td>-0.026719</td>\n",
              "      <td>0.030688</td>\n",
              "      <td>-0.000181</td>\n",
              "      <td>-0.035631</td>\n",
              "      <td>-0.084231</td>\n",
              "      <td>1.000000</td>\n",
              "      <td>-0.033143</td>\n",
              "      <td>-0.001515</td>\n",
              "      <td>0.028793</td>\n",
              "      <td>0.092238</td>\n",
              "      <td>-0.114202</td>\n",
              "    </tr>\n",
              "    <tr>\n",
              "      <th>Crash_Road_Horiz_Align</th>\n",
              "      <td>0.106873</td>\n",
              "      <td>0.037472</td>\n",
              "      <td>-0.298570</td>\n",
              "      <td>0.062829</td>\n",
              "      <td>-0.129989</td>\n",
              "      <td>0.057794</td>\n",
              "      <td>-0.068115</td>\n",
              "      <td>-0.008284</td>\n",
              "      <td>-0.033143</td>\n",
              "      <td>1.000000</td>\n",
              "      <td>0.234111</td>\n",
              "      <td>-0.223762</td>\n",
              "      <td>0.102175</td>\n",
              "      <td>0.138298</td>\n",
              "    </tr>\n",
              "    <tr>\n",
              "      <th>Crash_Road_Vert_Align</th>\n",
              "      <td>0.074408</td>\n",
              "      <td>0.026991</td>\n",
              "      <td>-0.111130</td>\n",
              "      <td>0.080584</td>\n",
              "      <td>-0.030886</td>\n",
              "      <td>-0.012755</td>\n",
              "      <td>-0.046253</td>\n",
              "      <td>-0.005062</td>\n",
              "      <td>-0.001515</td>\n",
              "      <td>0.234111</td>\n",
              "      <td>1.000000</td>\n",
              "      <td>-0.105033</td>\n",
              "      <td>0.044158</td>\n",
              "      <td>0.069008</td>\n",
              "    </tr>\n",
              "    <tr>\n",
              "      <th>Count_Unit_Motorcycle_Moped</th>\n",
              "      <td>-0.122517</td>\n",
              "      <td>-0.081832</td>\n",
              "      <td>0.486783</td>\n",
              "      <td>-0.042494</td>\n",
              "      <td>0.035568</td>\n",
              "      <td>-0.031108</td>\n",
              "      <td>0.081328</td>\n",
              "      <td>0.019654</td>\n",
              "      <td>0.028793</td>\n",
              "      <td>-0.223762</td>\n",
              "      <td>-0.105033</td>\n",
              "      <td>1.000000</td>\n",
              "      <td>-0.580655</td>\n",
              "      <td>-0.478991</td>\n",
              "    </tr>\n",
              "    <tr>\n",
              "      <th>Count_Unit_Bicycle</th>\n",
              "      <td>0.149486</td>\n",
              "      <td>-0.253589</td>\n",
              "      <td>-0.052561</td>\n",
              "      <td>0.028709</td>\n",
              "      <td>-0.113933</td>\n",
              "      <td>-0.018898</td>\n",
              "      <td>-0.067606</td>\n",
              "      <td>-0.040756</td>\n",
              "      <td>0.092238</td>\n",
              "      <td>0.102175</td>\n",
              "      <td>0.044158</td>\n",
              "      <td>-0.580655</td>\n",
              "      <td>1.000000</td>\n",
              "      <td>-0.261984</td>\n",
              "    </tr>\n",
              "    <tr>\n",
              "      <th>Count_Unit_Pedestrian</th>\n",
              "      <td>-0.033022</td>\n",
              "      <td>0.380272</td>\n",
              "      <td>-0.515993</td>\n",
              "      <td>0.013465</td>\n",
              "      <td>0.076971</td>\n",
              "      <td>0.050868</td>\n",
              "      <td>-0.012417</td>\n",
              "      <td>0.030558</td>\n",
              "      <td>-0.114202</td>\n",
              "      <td>0.138298</td>\n",
              "      <td>0.069008</td>\n",
              "      <td>-0.478991</td>\n",
              "      <td>-0.261984</td>\n",
              "      <td>1.000000</td>\n",
              "    </tr>\n",
              "  </tbody>\n",
              "</table>\n",
              "</div>"
            ],
            "text/plain": [
              "                              Crash_Severity  ...  Count_Unit_Pedestrian\n",
              "Crash_Severity                      1.000000  ...              -0.033022\n",
              "Crash_Nature                        0.008531  ...               0.380272\n",
              "Crash_Type                         -0.086151  ...              -0.515993\n",
              "Loc_ABS_Remoteness                 -0.016877  ...               0.013465\n",
              "Crash_Roadway_Feature              -0.049436  ...               0.076971\n",
              "Crash_Traffic_Control               0.026343  ...               0.050868\n",
              "Crash_Road_Surface_Condition       -0.039336  ...              -0.012417\n",
              "Crash_Atmospheric_Condition        -0.003207  ...               0.030558\n",
              "Crash_Lighting_Condition            0.075666  ...              -0.114202\n",
              "Crash_Road_Horiz_Align              0.106873  ...               0.138298\n",
              "Crash_Road_Vert_Align               0.074408  ...               0.069008\n",
              "Count_Unit_Motorcycle_Moped        -0.122517  ...              -0.478991\n",
              "Count_Unit_Bicycle                  0.149486  ...              -0.261984\n",
              "Count_Unit_Pedestrian              -0.033022  ...               1.000000\n",
              "\n",
              "[14 rows x 14 columns]"
            ]
          },
          "metadata": {
            "tags": []
          },
          "execution_count": 28
        },
        {
          "output_type": "display_data",
          "data": {
            "image/png": "[encoded data removed]",
            "text/plain": [
              "<Figure size 720x720 with 2 Axes>"
            ]
          },
          "metadata": {
            "tags": [],
            "needs_background": "light"
          }
        }
      ]
    },
    {
      "cell_type": "code",
      "metadata": {
        "id": "-9UEHiu_5gaa",
        "colab": {
          "base_uri": "https://localhost:8080/",
          "height": 746
        },
        "outputId": "b48d647b-1c01-4a01-9929-2b9be1ed62fa"
      },
      "source": [
        "df1 = pd.DataFrame({'Feature_Importance': dfle[top_corr_features].corr().values[10,:], 'Features':['Crash_Severity', 'Crash_Nature', 'Crash_Type', 'Loc_ABS_Remoteness',\n",
        "       'Crash_Roadway_Feature', 'Crash_Traffic_Control',\n",
        "       'Crash_Road_Surface_Condition', 'Crash_Atmospheric_Condition',\n",
        "       'Crash_Lighting_Condition', 'Crash_Road_Horiz_Align',\n",
        "       'Crash_Road_Vert_Align', 'Count_Unit_Motorcycle_Moped',\n",
        "       'Count_Unit_Bicycle', 'Count_Unit_Pedestrian']})\n",
        "sns.barplot(x='Features',y=\"Feature_Importance\",  data=df1, color=\"c\")\n",
        "\n",
        "df1.sort_values(by='Feature_Importance', ascending=False)"
      ],
      "execution_count": null,
      "outputs": [
        {
          "output_type": "execute_result",
          "data": {
            "text/html": [
              "<div>\n",
              "<style scoped>\n",
              "    .dataframe tbody tr th:only-of-type {\n",
              "        vertical-align: middle;\n",
              "    }\n",
              "\n",
              "    .dataframe tbody tr th {\n",
              "        vertical-align: top;\n",
              "    }\n",
              "\n",
              "    .dataframe thead th {\n",
              "        text-align: right;\n",
              "    }\n",
              "</style>\n",
              "<table border=\"1\" class=\"dataframe\">\n",
              "  <thead>\n",
              "    <tr style=\"text-align: right;\">\n",
              "      <th></th>\n",
              "      <th>Feature_Importance</th>\n",
              "      <th>Features</th>\n",
              "    </tr>\n",
              "  </thead>\n",
              "  <tbody>\n",
              "    <tr>\n",
              "      <th>10</th>\n",
              "      <td>1.000000</td>\n",
              "      <td>Crash_Road_Vert_Align</td>\n",
              "    </tr>\n",
              "    <tr>\n",
              "      <th>9</th>\n",
              "      <td>0.234111</td>\n",
              "      <td>Crash_Road_Horiz_Align</td>\n",
              "    </tr>\n",
              "    <tr>\n",
              "      <th>3</th>\n",
              "      <td>0.080584</td>\n",
              "      <td>Loc_ABS_Remoteness</td>\n",
              "    </tr>\n",
              "    <tr>\n",
              "      <th>0</th>\n",
              "      <td>0.074408</td>\n",
              "      <td>Crash_Severity</td>\n",
              "    </tr>\n",
              "    <tr>\n",
              "      <th>13</th>\n",
              "      <td>0.069008</td>\n",
              "      <td>Count_Unit_Pedestrian</td>\n",
              "    </tr>\n",
              "    <tr>\n",
              "      <th>12</th>\n",
              "      <td>0.044158</td>\n",
              "      <td>Count_Unit_Bicycle</td>\n",
              "    </tr>\n",
              "    <tr>\n",
              "      <th>1</th>\n",
              "      <td>0.026991</td>\n",
              "      <td>Crash_Nature</td>\n",
              "    </tr>\n",
              "    <tr>\n",
              "      <th>8</th>\n",
              "      <td>-0.001515</td>\n",
              "      <td>Crash_Lighting_Condition</td>\n",
              "    </tr>\n",
              "    <tr>\n",
              "      <th>7</th>\n",
              "      <td>-0.005062</td>\n",
              "      <td>Crash_Atmospheric_Condition</td>\n",
              "    </tr>\n",
              "    <tr>\n",
              "      <th>5</th>\n",
              "      <td>-0.012755</td>\n",
              "      <td>Crash_Traffic_Control</td>\n",
              "    </tr>\n",
              "    <tr>\n",
              "      <th>4</th>\n",
              "      <td>-0.030886</td>\n",
              "      <td>Crash_Roadway_Feature</td>\n",
              "    </tr>\n",
              "    <tr>\n",
              "      <th>6</th>\n",
              "      <td>-0.046253</td>\n",
              "      <td>Crash_Road_Surface_Condition</td>\n",
              "    </tr>\n",
              "    <tr>\n",
              "      <th>11</th>\n",
              "      <td>-0.105033</td>\n",
              "      <td>Count_Unit_Motorcycle_Moped</td>\n",
              "    </tr>\n",
              "    <tr>\n",
              "      <th>2</th>\n",
              "      <td>-0.111130</td>\n",
              "      <td>Crash_Type</td>\n",
              "    </tr>\n",
              "  </tbody>\n",
              "</table>\n",
              "</div>"
            ],
            "text/plain": [
              "    Feature_Importance                      Features\n",
              "10            1.000000         Crash_Road_Vert_Align\n",
              "9             0.234111        Crash_Road_Horiz_Align\n",
              "3             0.080584            Loc_ABS_Remoteness\n",
              "0             0.074408                Crash_Severity\n",
              "13            0.069008         Count_Unit_Pedestrian\n",
              "12            0.044158            Count_Unit_Bicycle\n",
              "1             0.026991                  Crash_Nature\n",
              "8            -0.001515      Crash_Lighting_Condition\n",
              "7            -0.005062   Crash_Atmospheric_Condition\n",
              "5            -0.012755         Crash_Traffic_Control\n",
              "4            -0.030886         Crash_Roadway_Feature\n",
              "6            -0.046253  Crash_Road_Surface_Condition\n",
              "11           -0.105033   Count_Unit_Motorcycle_Moped\n",
              "2            -0.111130                    Crash_Type"
            ]
          },
          "metadata": {
            "tags": []
          },
          "execution_count": 29
        },
        {
          "output_type": "display_data",
          "data": {
            "image/png": "[encoded data removed]",
            "text/plain": [
              "<Figure size 432x288 with 1 Axes>"
            ]
          },
          "metadata": {
            "tags": [],
            "needs_background": "light"
          }
        }
      ]
    },
    {
      "cell_type": "code",
      "metadata": {
        "id": "YpFM6NRo6VNX",
        "colab": {
          "base_uri": "https://localhost:8080/",
          "height": 746
        },
        "outputId": "40c57f31-ce77-4aa8-8fa5-130d32cf4750"
      },
      "source": [
        "#############Plot ###############\n",
        "df2=df1.sort_values(by='Feature_Importance', ascending=False)\n",
        "df2['Feature_Importance']=df2['Feature_Importance'].abs()\n",
        "df3=df2.sort_values(by='Feature_Importance', ascending=False)\n",
        "ax = df3.plot.bar(x='Features', y='Feature_Importance', rot=0)\n",
        "df3\n"
      ],
      "execution_count": null,
      "outputs": [
        {
          "output_type": "execute_result",
          "data": {
            "text/html": [
              "<div>\n",
              "<style scoped>\n",
              "    .dataframe tbody tr th:only-of-type {\n",
              "        vertical-align: middle;\n",
              "    }\n",
              "\n",
              "    .dataframe tbody tr th {\n",
              "        vertical-align: top;\n",
              "    }\n",
              "\n",
              "    .dataframe thead th {\n",
              "        text-align: right;\n",
              "    }\n",
              "</style>\n",
              "<table border=\"1\" class=\"dataframe\">\n",
              "  <thead>\n",
              "    <tr style=\"text-align: right;\">\n",
              "      <th></th>\n",
              "      <th>Feature_Importance</th>\n",
              "      <th>Features</th>\n",
              "    </tr>\n",
              "  </thead>\n",
              "  <tbody>\n",
              "    <tr>\n",
              "      <th>10</th>\n",
              "      <td>1.000000</td>\n",
              "      <td>Crash_Road_Vert_Align</td>\n",
              "    </tr>\n",
              "    <tr>\n",
              "      <th>9</th>\n",
              "      <td>0.234111</td>\n",
              "      <td>Crash_Road_Horiz_Align</td>\n",
              "    </tr>\n",
              "    <tr>\n",
              "      <th>2</th>\n",
              "      <td>0.111130</td>\n",
              "      <td>Crash_Type</td>\n",
              "    </tr>\n",
              "    <tr>\n",
              "      <th>11</th>\n",
              "      <td>0.105033</td>\n",
              "      <td>Count_Unit_Motorcycle_Moped</td>\n",
              "    </tr>\n",
              "    <tr>\n",
              "      <th>3</th>\n",
              "      <td>0.080584</td>\n",
              "      <td>Loc_ABS_Remoteness</td>\n",
              "    </tr>\n",
              "    <tr>\n",
              "      <th>0</th>\n",
              "      <td>0.074408</td>\n",
              "      <td>Crash_Severity</td>\n",
              "    </tr>\n",
              "    <tr>\n",
              "      <th>13</th>\n",
              "      <td>0.069008</td>\n",
              "      <td>Count_Unit_Pedestrian</td>\n",
              "    </tr>\n",
              "    <tr>\n",
              "      <th>6</th>\n",
              "      <td>0.046253</td>\n",
              "      <td>Crash_Road_Surface_Condition</td>\n",
              "    </tr>\n",
              "    <tr>\n",
              "      <th>12</th>\n",
              "      <td>0.044158</td>\n",
              "      <td>Count_Unit_Bicycle</td>\n",
              "    </tr>\n",
              "    <tr>\n",
              "      <th>4</th>\n",
              "      <td>0.030886</td>\n",
              "      <td>Crash_Roadway_Feature</td>\n",
              "    </tr>\n",
              "    <tr>\n",
              "      <th>1</th>\n",
              "      <td>0.026991</td>\n",
              "      <td>Crash_Nature</td>\n",
              "    </tr>\n",
              "    <tr>\n",
              "      <th>5</th>\n",
              "      <td>0.012755</td>\n",
              "      <td>Crash_Traffic_Control</td>\n",
              "    </tr>\n",
              "    <tr>\n",
              "      <th>7</th>\n",
              "      <td>0.005062</td>\n",
              "      <td>Crash_Atmospheric_Condition</td>\n",
              "    </tr>\n",
              "    <tr>\n",
              "      <th>8</th>\n",
              "      <td>0.001515</td>\n",
              "      <td>Crash_Lighting_Condition</td>\n",
              "    </tr>\n",
              "  </tbody>\n",
              "</table>\n",
              "</div>"
            ],
            "text/plain": [
              "    Feature_Importance                      Features\n",
              "10            1.000000         Crash_Road_Vert_Align\n",
              "9             0.234111        Crash_Road_Horiz_Align\n",
              "2             0.111130                    Crash_Type\n",
              "11            0.105033   Count_Unit_Motorcycle_Moped\n",
              "3             0.080584            Loc_ABS_Remoteness\n",
              "0             0.074408                Crash_Severity\n",
              "13            0.069008         Count_Unit_Pedestrian\n",
              "6             0.046253  Crash_Road_Surface_Condition\n",
              "12            0.044158            Count_Unit_Bicycle\n",
              "4             0.030886         Crash_Roadway_Feature\n",
              "1             0.026991                  Crash_Nature\n",
              "5             0.012755         Crash_Traffic_Control\n",
              "7             0.005062   Crash_Atmospheric_Condition\n",
              "8             0.001515      Crash_Lighting_Condition"
            ]
          },
          "metadata": {
            "tags": []
          },
          "execution_count": 30
        },
        {
          "output_type": "display_data",
          "data": {
            "image/png": "[encoded data removed]",
            "text/plain": [
              "<Figure size 432x288 with 1 Axes>"
            ]
          },
          "metadata": {
            "tags": [],
            "needs_background": "light"
          }
        }
      ]
    },
    {
      "cell_type": "code",
      "metadata": {
        "id": "Kmf3Izrl6dyh",
        "colab": {
          "base_uri": "https://localhost:8080/",
          "height": 1000
        },
        "outputId": "0afdbfe1-cef4-47b8-aa09-241563cf9a8d"
      },
      "source": [
        "\n",
        "###################### Random Forest Tree based Feature Selecttion: 2 class ######\n",
        "#https://www.kaggle.com/kanncaa1/feature-selection-and-data-visualization\n",
        "#https://scikit-learn.org/stable/modules/generated/sklearn.ensemble.RandomForestClassifier.html\n",
        "## Tree based feature selection and random forest classification\n",
        "\n",
        "from sklearn.ensemble import RandomForestClassifier\n",
        "from sklearn.datasets import make_classification\n",
        "\n",
        "clf = RandomForestClassifier()      \n",
        "clf_fit = clf.fit(x,y2)\n",
        "importances = clf_fit.feature_importances_\n",
        "std = np.std([tree.feature_importances_ for tree in clf_fit.estimators_],\n",
        "             axis=0)\n",
        "indices = np.argsort(importances)[::-1]\n",
        "\n",
        "# Print the feature ranking\n",
        "print(\"Feature ranking:\")\n",
        "\n",
        "for f in range(x.shape[1]):\n",
        "    print(\"%d. feature %d (%f)\" % (f + 1, indices[f], importances[indices[f]]))\n",
        "\n",
        "# Plot the feature importances of the forest\n",
        "\n",
        "plt.figure(1, figsize=(14, 13))\n",
        "plt.title(\"Feature importances\")\n",
        "plt.bar(range(x.shape[1]), importances[indices],\n",
        "       color=\"g\", yerr=std[indices], align=\"center\")\n",
        "plt.xticks(range(x.shape[1]), x.columns[indices],rotation=90)\n",
        "plt.xlim([-1, x.shape[1]])\n",
        "plt.show()\n",
        "\n"
      ],
      "execution_count": null,
      "outputs": [
        {
          "output_type": "stream",
          "text": [
            "Feature ranking:\n",
            "1. feature 3 (0.163882)\n",
            "2. feature 9 (0.121014)\n",
            "3. feature 2 (0.119407)\n",
            "4. feature 4 (0.113882)\n",
            "5. feature 7 (0.101421)\n",
            "6. feature 0 (0.099688)\n",
            "7. feature 8 (0.080785)\n",
            "8. feature 5 (0.052094)\n",
            "9. feature 6 (0.036237)\n",
            "10. feature 11 (0.032248)\n",
            "11. feature 10 (0.030996)\n",
            "12. feature 1 (0.029682)\n",
            "13. feature 12 (0.018665)\n"
          ],
          "name": "stdout"
        },
        {
          "output_type": "display_data",
          "data": {
            "image/png": "[encoded data removed]",
            "text/plain": [
              "<Figure size 1008x936 with 1 Axes>"
            ]
          },
          "metadata": {
            "tags": [],
            "needs_background": "light"
          }
        }
      ]
    },
    {
      "cell_type": "code",
      "metadata": {
        "id": "3a02t-qU8fgX",
        "colab": {
          "base_uri": "https://localhost:8080/",
          "height": 136
        },
        "outputId": "e4dea683-46ac-400c-ee1f-55c48371c569"
      },
      "source": [
        "\n",
        "######################## Recursive feature elimination (RFE) with random forest############\n",
        "\"\"\"\n",
        "http://scikit-learn.org/stable/modules/generated/sklearn.feature_selection.RFE.html Basically, it uses one of the classification methods (random forest in our example), assign weights to each of features. Whose absolute weights are the smallest are pruned from the current set features. That procedure is recursively repeated on the pruned set until the desired number of features\n",
        "\n",
        "Like previous method, we will use 5 features. However, which 5 features will we use ? We will choose them with RFE method.\n",
        "\"\"\"\n",
        "\n",
        "from sklearn.feature_selection import RFE\n",
        "# Create the RFE object and rank each pixel\n",
        "clf = RandomForestClassifier()      \n",
        "rfe = RFE(estimator=clf, n_features_to_select=13, step=1)\n",
        "rfe = rfe.fit(x, y2)\n",
        "print('Chosen best 10 feature by rfe:',x.columns[rfe.support_])\n",
        "\n",
        "\n",
        "#######################PCA#########################\n",
        "\n"
      ],
      "execution_count": null,
      "outputs": [
        {
          "output_type": "stream",
          "text": [
            "Chosen best 10 feature by rfe: Index(['Crash_Nature', 'Crash_Type', 'Loc_ABS_Remoteness',\n",
            "       'Crash_Roadway_Feature', 'Crash_Traffic_Control',\n",
            "       'Crash_Road_Surface_Condition', 'Crash_Atmospheric_Condition',\n",
            "       'Crash_Lighting_Condition', 'Crash_Road_Horiz_Align',\n",
            "       'Crash_Road_Vert_Align', 'Count_Unit_Motorcycle_Moped',\n",
            "       'Count_Unit_Bicycle', 'Count_Unit_Pedestrian'],\n",
            "      dtype='object')\n"
          ],
          "name": "stdout"
        }
      ]
    },
    {
      "cell_type": "code",
      "metadata": {
        "id": "H7HsmC7pFeox",
        "colab": {
          "base_uri": "https://localhost:8080/",
          "height": 735
        },
        "outputId": "3cde4aa7-f3bd-4560-b79a-7e0aeffee70b"
      },
      "source": [
        "############################ pca####################\n",
        "from sklearn.decomposition import PCA\n",
        "pca = PCA()\n",
        "pca.fit(x)\n",
        "\n",
        "plt.figure(1, figsize=(14, 13))\n",
        "plt.clf()\n",
        "plt.axes([.2, .2, .7, .7])\n",
        "plt.plot(pca.explained_variance_ratio_, linewidth=2)\n",
        "plt.axis('tight')\n",
        "plt.xlabel('n_components')\n",
        "plt.ylabel('explained_variance_ratio_')\n",
        "\n"
      ],
      "execution_count": null,
      "outputs": [
        {
          "output_type": "execute_result",
          "data": {
            "text/plain": [
              "Text(0, 0.5, 'explained_variance_ratio_')"
            ]
          },
          "metadata": {
            "tags": []
          },
          "execution_count": 33
        },
        {
          "output_type": "display_data",
          "data": {
            "image/png": "[encoded data removed]",
            "text/plain": [
              "<Figure size 1008x936 with 1 Axes>"
            ]
          },
          "metadata": {
            "tags": [],
            "needs_background": "light"
          }
        }
      ]
    },
    {
      "cell_type": "code",
      "metadata": {
        "id": "J3kbuhMpGDf-",
        "colab": {
          "base_uri": "https://localhost:8080/",
          "height": 136
        },
        "outputId": "ff500e8a-fbbf-46f9-ca79-244ce9b1c864"
      },
      "source": [
        "dfle.columns"
      ],
      "execution_count": null,
      "outputs": [
        {
          "output_type": "execute_result",
          "data": {
            "text/plain": [
              "Index(['Crash_Severity', 'Crash_Nature', 'Crash_Type', 'Loc_ABS_Remoteness',\n",
              "       'Crash_Roadway_Feature', 'Crash_Traffic_Control',\n",
              "       'Crash_Road_Surface_Condition', 'Crash_Atmospheric_Condition',\n",
              "       'Crash_Lighting_Condition', 'Crash_Road_Horiz_Align',\n",
              "       'Crash_Road_Vert_Align', 'Count_Unit_Motorcycle_Moped',\n",
              "       'Count_Unit_Bicycle', 'Count_Unit_Pedestrian'],\n",
              "      dtype='object')"
            ]
          },
          "metadata": {
            "tags": []
          },
          "execution_count": 34
        }
      ]
    },
    {
      "cell_type": "code",
      "metadata": {
        "id": "hCF-fSUlr15r",
        "colab": {
          "base_uri": "https://localhost:8080/",
          "height": 439
        },
        "outputId": "fa9d57fd-84da-403d-edc1-8568c66b1a00"
      },
      "source": [
        "x1"
      ],
      "execution_count": null,
      "outputs": [
        {
          "output_type": "execute_result",
          "data": {
            "text/html": [
              "<div>\n",
              "<style scoped>\n",
              "    .dataframe tbody tr th:only-of-type {\n",
              "        vertical-align: middle;\n",
              "    }\n",
              "\n",
              "    .dataframe tbody tr th {\n",
              "        vertical-align: top;\n",
              "    }\n",
              "\n",
              "    .dataframe thead th {\n",
              "        text-align: right;\n",
              "    }\n",
              "</style>\n",
              "<table border=\"1\" class=\"dataframe\">\n",
              "  <thead>\n",
              "    <tr style=\"text-align: right;\">\n",
              "      <th></th>\n",
              "      <th>Crash_Severity</th>\n",
              "      <th>Crash_Nature</th>\n",
              "      <th>Crash_Type</th>\n",
              "      <th>Loc_ABS_Remoteness</th>\n",
              "      <th>Crash_Roadway_Feature</th>\n",
              "      <th>Crash_Traffic_Control</th>\n",
              "      <th>Crash_Road_Surface_Condition</th>\n",
              "      <th>Crash_Lighting_Condition</th>\n",
              "      <th>Crash_Road_Horiz_Align</th>\n",
              "      <th>Crash_Road_Vert_Align</th>\n",
              "      <th>Count_Unit_Motorcycle_Moped</th>\n",
              "      <th>Count_Unit_Bicycle</th>\n",
              "      <th>Count_Unit_Pedestrian</th>\n",
              "    </tr>\n",
              "  </thead>\n",
              "  <tbody>\n",
              "    <tr>\n",
              "      <th>0</th>\n",
              "      <td>1</td>\n",
              "      <td>7</td>\n",
              "      <td>0</td>\n",
              "      <td>1</td>\n",
              "      <td>4</td>\n",
              "      <td>3</td>\n",
              "      <td>0</td>\n",
              "      <td>0</td>\n",
              "      <td>2</td>\n",
              "      <td>3</td>\n",
              "      <td>0</td>\n",
              "      <td>0</td>\n",
              "      <td>1</td>\n",
              "    </tr>\n",
              "    <tr>\n",
              "      <th>1</th>\n",
              "      <td>1</td>\n",
              "      <td>0</td>\n",
              "      <td>1</td>\n",
              "      <td>1</td>\n",
              "      <td>7</td>\n",
              "      <td>2</td>\n",
              "      <td>0</td>\n",
              "      <td>3</td>\n",
              "      <td>2</td>\n",
              "      <td>3</td>\n",
              "      <td>0</td>\n",
              "      <td>1</td>\n",
              "      <td>0</td>\n",
              "    </tr>\n",
              "    <tr>\n",
              "      <th>2</th>\n",
              "      <td>1</td>\n",
              "      <td>5</td>\n",
              "      <td>3</td>\n",
              "      <td>1</td>\n",
              "      <td>11</td>\n",
              "      <td>2</td>\n",
              "      <td>0</td>\n",
              "      <td>3</td>\n",
              "      <td>1</td>\n",
              "      <td>3</td>\n",
              "      <td>0</td>\n",
              "      <td>0</td>\n",
              "      <td>2</td>\n",
              "    </tr>\n",
              "    <tr>\n",
              "      <th>3</th>\n",
              "      <td>2</td>\n",
              "      <td>7</td>\n",
              "      <td>0</td>\n",
              "      <td>1</td>\n",
              "      <td>11</td>\n",
              "      <td>2</td>\n",
              "      <td>0</td>\n",
              "      <td>2</td>\n",
              "      <td>2</td>\n",
              "      <td>3</td>\n",
              "      <td>0</td>\n",
              "      <td>0</td>\n",
              "      <td>1</td>\n",
              "    </tr>\n",
              "    <tr>\n",
              "      <th>4</th>\n",
              "      <td>2</td>\n",
              "      <td>10</td>\n",
              "      <td>1</td>\n",
              "      <td>1</td>\n",
              "      <td>11</td>\n",
              "      <td>2</td>\n",
              "      <td>0</td>\n",
              "      <td>3</td>\n",
              "      <td>2</td>\n",
              "      <td>3</td>\n",
              "      <td>0</td>\n",
              "      <td>1</td>\n",
              "      <td>0</td>\n",
              "    </tr>\n",
              "    <tr>\n",
              "      <th>...</th>\n",
              "      <td>...</td>\n",
              "      <td>...</td>\n",
              "      <td>...</td>\n",
              "      <td>...</td>\n",
              "      <td>...</td>\n",
              "      <td>...</td>\n",
              "      <td>...</td>\n",
              "      <td>...</td>\n",
              "      <td>...</td>\n",
              "      <td>...</td>\n",
              "      <td>...</td>\n",
              "      <td>...</td>\n",
              "      <td>...</td>\n",
              "    </tr>\n",
              "    <tr>\n",
              "      <th>13036</th>\n",
              "      <td>1</td>\n",
              "      <td>10</td>\n",
              "      <td>1</td>\n",
              "      <td>1</td>\n",
              "      <td>11</td>\n",
              "      <td>2</td>\n",
              "      <td>0</td>\n",
              "      <td>3</td>\n",
              "      <td>2</td>\n",
              "      <td>3</td>\n",
              "      <td>1</td>\n",
              "      <td>0</td>\n",
              "      <td>0</td>\n",
              "    </tr>\n",
              "    <tr>\n",
              "      <th>13037</th>\n",
              "      <td>2</td>\n",
              "      <td>7</td>\n",
              "      <td>0</td>\n",
              "      <td>1</td>\n",
              "      <td>11</td>\n",
              "      <td>2</td>\n",
              "      <td>0</td>\n",
              "      <td>0</td>\n",
              "      <td>2</td>\n",
              "      <td>3</td>\n",
              "      <td>0</td>\n",
              "      <td>0</td>\n",
              "      <td>1</td>\n",
              "    </tr>\n",
              "    <tr>\n",
              "      <th>13038</th>\n",
              "      <td>1</td>\n",
              "      <td>0</td>\n",
              "      <td>1</td>\n",
              "      <td>1</td>\n",
              "      <td>11</td>\n",
              "      <td>2</td>\n",
              "      <td>0</td>\n",
              "      <td>3</td>\n",
              "      <td>2</td>\n",
              "      <td>3</td>\n",
              "      <td>1</td>\n",
              "      <td>0</td>\n",
              "      <td>0</td>\n",
              "    </tr>\n",
              "    <tr>\n",
              "      <th>13039</th>\n",
              "      <td>1</td>\n",
              "      <td>7</td>\n",
              "      <td>0</td>\n",
              "      <td>1</td>\n",
              "      <td>11</td>\n",
              "      <td>2</td>\n",
              "      <td>0</td>\n",
              "      <td>0</td>\n",
              "      <td>2</td>\n",
              "      <td>3</td>\n",
              "      <td>0</td>\n",
              "      <td>1</td>\n",
              "      <td>0</td>\n",
              "    </tr>\n",
              "    <tr>\n",
              "      <th>13040</th>\n",
              "      <td>1</td>\n",
              "      <td>2</td>\n",
              "      <td>3</td>\n",
              "      <td>1</td>\n",
              "      <td>7</td>\n",
              "      <td>2</td>\n",
              "      <td>0</td>\n",
              "      <td>2</td>\n",
              "      <td>2</td>\n",
              "      <td>3</td>\n",
              "      <td>1</td>\n",
              "      <td>0</td>\n",
              "      <td>0</td>\n",
              "    </tr>\n",
              "  </tbody>\n",
              "</table>\n",
              "<p>13041 rows × 13 columns</p>\n",
              "</div>"
            ],
            "text/plain": [
              "       Crash_Severity  Crash_Nature  ...  Count_Unit_Bicycle  Count_Unit_Pedestrian\n",
              "0                   1             7  ...                   0                      1\n",
              "1                   1             0  ...                   1                      0\n",
              "2                   1             5  ...                   0                      2\n",
              "3                   2             7  ...                   0                      1\n",
              "4                   2            10  ...                   1                      0\n",
              "...               ...           ...  ...                 ...                    ...\n",
              "13036               1            10  ...                   0                      0\n",
              "13037               2             7  ...                   0                      1\n",
              "13038               1             0  ...                   0                      0\n",
              "13039               1             7  ...                   1                      0\n",
              "13040               1             2  ...                   0                      0\n",
              "\n",
              "[13041 rows x 13 columns]"
            ]
          },
          "metadata": {
            "tags": []
          },
          "execution_count": 70
        }
      ]
    },
    {
      "cell_type": "code",
      "metadata": {
        "id": "8UpM1Uu8FmcN"
      },
      "source": [
        "x1 = dfle.drop(['Crash_Severity'],axis='columns')\n",
        "y2=dfle.Crash_Severity"
      ],
      "execution_count": null,
      "outputs": []
    },
    {
      "cell_type": "code",
      "metadata": {
        "id": "uiMhY6FdsDC7",
        "colab": {
          "base_uri": "https://localhost:8080/",
          "height": 34
        },
        "outputId": "b6f22ac4-302e-4fe9-fe69-9dec1334e9d3"
      },
      "source": [
        "x1.shape"
      ],
      "execution_count": null,
      "outputs": [
        {
          "output_type": "execute_result",
          "data": {
            "text/plain": [
              "(13041, 13)"
            ]
          },
          "metadata": {
            "tags": []
          },
          "execution_count": 72
        }
      ]
    },
    {
      "cell_type": "code",
      "metadata": {
        "id": "GK79tsomsIfj",
        "colab": {
          "base_uri": "https://localhost:8080/",
          "height": 439
        },
        "outputId": "800b1aa8-74a1-45f9-dd0b-95c83f99c5e4"
      },
      "source": [
        "x1"
      ],
      "execution_count": null,
      "outputs": [
        {
          "output_type": "execute_result",
          "data": {
            "text/html": [
              "<div>\n",
              "<style scoped>\n",
              "    .dataframe tbody tr th:only-of-type {\n",
              "        vertical-align: middle;\n",
              "    }\n",
              "\n",
              "    .dataframe tbody tr th {\n",
              "        vertical-align: top;\n",
              "    }\n",
              "\n",
              "    .dataframe thead th {\n",
              "        text-align: right;\n",
              "    }\n",
              "</style>\n",
              "<table border=\"1\" class=\"dataframe\">\n",
              "  <thead>\n",
              "    <tr style=\"text-align: right;\">\n",
              "      <th></th>\n",
              "      <th>Crash_Nature</th>\n",
              "      <th>Crash_Type</th>\n",
              "      <th>Loc_ABS_Remoteness</th>\n",
              "      <th>Crash_Roadway_Feature</th>\n",
              "      <th>Crash_Traffic_Control</th>\n",
              "      <th>Crash_Road_Surface_Condition</th>\n",
              "      <th>Crash_Atmospheric_Condition</th>\n",
              "      <th>Crash_Lighting_Condition</th>\n",
              "      <th>Crash_Road_Horiz_Align</th>\n",
              "      <th>Crash_Road_Vert_Align</th>\n",
              "      <th>Count_Unit_Motorcycle_Moped</th>\n",
              "      <th>Count_Unit_Bicycle</th>\n",
              "      <th>Count_Unit_Pedestrian</th>\n",
              "    </tr>\n",
              "  </thead>\n",
              "  <tbody>\n",
              "    <tr>\n",
              "      <th>0</th>\n",
              "      <td>7</td>\n",
              "      <td>0</td>\n",
              "      <td>1</td>\n",
              "      <td>4</td>\n",
              "      <td>3</td>\n",
              "      <td>0</td>\n",
              "      <td>0</td>\n",
              "      <td>0</td>\n",
              "      <td>2</td>\n",
              "      <td>3</td>\n",
              "      <td>0</td>\n",
              "      <td>0</td>\n",
              "      <td>1</td>\n",
              "    </tr>\n",
              "    <tr>\n",
              "      <th>1</th>\n",
              "      <td>0</td>\n",
              "      <td>1</td>\n",
              "      <td>1</td>\n",
              "      <td>7</td>\n",
              "      <td>2</td>\n",
              "      <td>0</td>\n",
              "      <td>0</td>\n",
              "      <td>3</td>\n",
              "      <td>2</td>\n",
              "      <td>3</td>\n",
              "      <td>0</td>\n",
              "      <td>1</td>\n",
              "      <td>0</td>\n",
              "    </tr>\n",
              "    <tr>\n",
              "      <th>2</th>\n",
              "      <td>5</td>\n",
              "      <td>3</td>\n",
              "      <td>1</td>\n",
              "      <td>11</td>\n",
              "      <td>2</td>\n",
              "      <td>0</td>\n",
              "      <td>0</td>\n",
              "      <td>3</td>\n",
              "      <td>1</td>\n",
              "      <td>3</td>\n",
              "      <td>0</td>\n",
              "      <td>0</td>\n",
              "      <td>2</td>\n",
              "    </tr>\n",
              "    <tr>\n",
              "      <th>3</th>\n",
              "      <td>7</td>\n",
              "      <td>0</td>\n",
              "      <td>1</td>\n",
              "      <td>11</td>\n",
              "      <td>2</td>\n",
              "      <td>0</td>\n",
              "      <td>0</td>\n",
              "      <td>2</td>\n",
              "      <td>2</td>\n",
              "      <td>3</td>\n",
              "      <td>0</td>\n",
              "      <td>0</td>\n",
              "      <td>1</td>\n",
              "    </tr>\n",
              "    <tr>\n",
              "      <th>4</th>\n",
              "      <td>10</td>\n",
              "      <td>1</td>\n",
              "      <td>1</td>\n",
              "      <td>11</td>\n",
              "      <td>2</td>\n",
              "      <td>0</td>\n",
              "      <td>0</td>\n",
              "      <td>3</td>\n",
              "      <td>2</td>\n",
              "      <td>3</td>\n",
              "      <td>0</td>\n",
              "      <td>1</td>\n",
              "      <td>0</td>\n",
              "    </tr>\n",
              "    <tr>\n",
              "      <th>...</th>\n",
              "      <td>...</td>\n",
              "      <td>...</td>\n",
              "      <td>...</td>\n",
              "      <td>...</td>\n",
              "      <td>...</td>\n",
              "      <td>...</td>\n",
              "      <td>...</td>\n",
              "      <td>...</td>\n",
              "      <td>...</td>\n",
              "      <td>...</td>\n",
              "      <td>...</td>\n",
              "      <td>...</td>\n",
              "      <td>...</td>\n",
              "    </tr>\n",
              "    <tr>\n",
              "      <th>13036</th>\n",
              "      <td>10</td>\n",
              "      <td>1</td>\n",
              "      <td>1</td>\n",
              "      <td>11</td>\n",
              "      <td>2</td>\n",
              "      <td>0</td>\n",
              "      <td>0</td>\n",
              "      <td>3</td>\n",
              "      <td>2</td>\n",
              "      <td>3</td>\n",
              "      <td>1</td>\n",
              "      <td>0</td>\n",
              "      <td>0</td>\n",
              "    </tr>\n",
              "    <tr>\n",
              "      <th>13037</th>\n",
              "      <td>7</td>\n",
              "      <td>0</td>\n",
              "      <td>1</td>\n",
              "      <td>11</td>\n",
              "      <td>2</td>\n",
              "      <td>0</td>\n",
              "      <td>0</td>\n",
              "      <td>0</td>\n",
              "      <td>2</td>\n",
              "      <td>3</td>\n",
              "      <td>0</td>\n",
              "      <td>0</td>\n",
              "      <td>1</td>\n",
              "    </tr>\n",
              "    <tr>\n",
              "      <th>13038</th>\n",
              "      <td>0</td>\n",
              "      <td>1</td>\n",
              "      <td>1</td>\n",
              "      <td>11</td>\n",
              "      <td>2</td>\n",
              "      <td>0</td>\n",
              "      <td>0</td>\n",
              "      <td>3</td>\n",
              "      <td>2</td>\n",
              "      <td>3</td>\n",
              "      <td>1</td>\n",
              "      <td>0</td>\n",
              "      <td>0</td>\n",
              "    </tr>\n",
              "    <tr>\n",
              "      <th>13039</th>\n",
              "      <td>7</td>\n",
              "      <td>0</td>\n",
              "      <td>1</td>\n",
              "      <td>11</td>\n",
              "      <td>2</td>\n",
              "      <td>0</td>\n",
              "      <td>0</td>\n",
              "      <td>0</td>\n",
              "      <td>2</td>\n",
              "      <td>3</td>\n",
              "      <td>0</td>\n",
              "      <td>1</td>\n",
              "      <td>0</td>\n",
              "    </tr>\n",
              "    <tr>\n",
              "      <th>13040</th>\n",
              "      <td>2</td>\n",
              "      <td>3</td>\n",
              "      <td>1</td>\n",
              "      <td>7</td>\n",
              "      <td>2</td>\n",
              "      <td>0</td>\n",
              "      <td>0</td>\n",
              "      <td>2</td>\n",
              "      <td>2</td>\n",
              "      <td>3</td>\n",
              "      <td>1</td>\n",
              "      <td>0</td>\n",
              "      <td>0</td>\n",
              "    </tr>\n",
              "  </tbody>\n",
              "</table>\n",
              "<p>13041 rows × 13 columns</p>\n",
              "</div>"
            ],
            "text/plain": [
              "       Crash_Nature  Crash_Type  ...  Count_Unit_Bicycle  Count_Unit_Pedestrian\n",
              "0                 7           0  ...                   0                      1\n",
              "1                 0           1  ...                   1                      0\n",
              "2                 5           3  ...                   0                      2\n",
              "3                 7           0  ...                   0                      1\n",
              "4                10           1  ...                   1                      0\n",
              "...             ...         ...  ...                 ...                    ...\n",
              "13036            10           1  ...                   0                      0\n",
              "13037             7           0  ...                   0                      1\n",
              "13038             0           1  ...                   0                      0\n",
              "13039             7           0  ...                   1                      0\n",
              "13040             2           3  ...                   0                      0\n",
              "\n",
              "[13041 rows x 13 columns]"
            ]
          },
          "metadata": {
            "tags": []
          },
          "execution_count": 73
        }
      ]
    },
    {
      "cell_type": "code",
      "metadata": {
        "id": "gpQ_1_8EGI7E"
      },
      "source": [
        "##  Class 0  Vs (class 1 & 2 & 3) ###############\n",
        "#y=y3[y3!=2]\n",
        "#x1=x[y3!=2]\n",
        "\n",
        "#x1, y = x[y3 != 2], y3[y3 != 2]\n",
        "#putting x as X, putting only y=1, converting y=0 as 0, y=2 as 0\n",
        "\n",
        "\n",
        "x1=x1;\n",
        "ya=np.where(y2==0, 10, y2) \n",
        "yb=np.where(ya==1, 20, ya) \n",
        "yc=np.where(yb==2, 30, yb) \n",
        "yd=np.where(yc==3, 40, yb) \n",
        "\n",
        "yd=np.where(yc==10, 1, yc) \n",
        "ye=np.where(yd==20, 0, yd) \n",
        "yf=np.where(ye==30, 0, ye) \n",
        "y=np.where(yf==40, 0, ye) \n"
      ],
      "execution_count": null,
      "outputs": []
    },
    {
      "cell_type": "code",
      "metadata": {
        "id": "PPyfGXMdGnFy",
        "colab": {
          "base_uri": "https://localhost:8080/",
          "height": 34
        },
        "outputId": "98deaaca-f88f-4dd2-b4c2-7d654e8ab1e2"
      },
      "source": [
        "y"
      ],
      "execution_count": null,
      "outputs": [
        {
          "output_type": "execute_result",
          "data": {
            "text/plain": [
              "array([0, 0, 0, ..., 0, 0, 0])"
            ]
          },
          "metadata": {
            "tags": []
          },
          "execution_count": 75
        }
      ]
    },
    {
      "cell_type": "code",
      "metadata": {
        "id": "EloPWwgUGoFa"
      },
      "source": [
        "\n",
        "\n",
        "#DEcomposition\n",
        "#https://scikit-learn.org/stable/auto_examples/classification/plot_classifier_comparison.html#sphx-glr-auto-examples-classification-plot-classifier-comparison-py\n",
        "\n",
        "from sklearn.preprocessing import StandardScaler\n",
        "X = StandardScaler().fit_transform(x1)\n"
      ],
      "execution_count": null,
      "outputs": []
    },
    {
      "cell_type": "code",
      "metadata": {
        "id": "G9PTfTFHGvEm",
        "colab": {
          "base_uri": "https://localhost:8080/",
          "height": 102
        },
        "outputId": "c16c5893-1cd0-45ec-a897-2b6ec62cb335"
      },
      "source": [
        "\n",
        "\n",
        "#####\n",
        "#https://towardsdatascience.com/hyperparameter-tuning-the-random-forest-in-python-using-scikit-learn-28d2aa77dd74\n",
        "from sklearn.model_selection import GridSearchCV\n",
        "#from sklearn.ensemble import RandomForestRegressor\n",
        "from sklearn.datasets import make_regression\n",
        "from sklearn.ensemble import RandomForestClassifier\n",
        "# Create the parameter grid based on the results of random search \n",
        "param_grid = {\n",
        "    'bootstrap': [True],\n",
        "    'max_depth': [2, 3, 4],\n",
        "    #'max_features': [1, 2],\n",
        "    #'min_samples_leaf': [4, 5,6],\n",
        "    #'min_samples_split': [2,3,4],\n",
        "    'n_estimators': [100, 200, 300]\n",
        "}\n",
        "# Create a based model\n",
        "#RandomForestClassifier\n",
        "#rf = RandomForestRegressor()\n",
        "rfc = RandomForestClassifier(random_state=42)\n",
        "# Instantiate the grid search model\n",
        "grid_search = GridSearchCV(estimator = rfc, param_grid = param_grid, \n",
        "                          cv = 10, n_jobs = -1, verbose = 2)\n",
        "\n",
        "\n",
        "\n",
        "# Fit the grid search to the data\n",
        "grid_search.fit(X, y.ravel())\n",
        "grid_search.best_params_\n",
        "\n",
        "####"
      ],
      "execution_count": null,
      "outputs": [
        {
          "output_type": "stream",
          "text": [
            "Fitting 10 folds for each of 9 candidates, totalling 90 fits\n"
          ],
          "name": "stdout"
        },
        {
          "output_type": "stream",
          "text": [
            "[Parallel(n_jobs=-1)]: Using backend LokyBackend with 2 concurrent workers.\n",
            "[Parallel(n_jobs=-1)]: Done  37 tasks      | elapsed:   15.5s\n",
            "[Parallel(n_jobs=-1)]: Done  90 out of  90 | elapsed:   43.0s finished\n"
          ],
          "name": "stderr"
        },
        {
          "output_type": "execute_result",
          "data": {
            "text/plain": [
              "{'bootstrap': True, 'max_depth': 2, 'n_estimators': 100}"
            ]
          },
          "metadata": {
            "tags": []
          },
          "execution_count": 77
        }
      ]
    },
    {
      "cell_type": "code",
      "metadata": {
        "id": "_XxUrrTKG8_Z",
        "colab": {
          "base_uri": "https://localhost:8080/",
          "height": 34
        },
        "outputId": "ad2ea452-ed49-4ccf-beec-2132704282c3"
      },
      "source": [
        "\n",
        "\n",
        "\n",
        "\n",
        "\n",
        "\n",
        "#https://stackoverflow.com/questions/50394644/how-to-calculate-sensitvity-and-specificity-in-cross-validation\n",
        "#https://stackoverflow.com/questions/50394644/how-to-calculate-sensitvity-and-specificity-in-cross-validation\n",
        "#Recall/ Precision\n",
        "\n",
        "# \"?? ????????? ??????\" ????? ?? \"?? ?????\" ???? ??????????\n",
        "#knn = KNeighborsClassifier(n_neighbors=26)\n",
        "\n",
        "knn= RandomForestClassifier(max_depth=2,n_estimators= 100, random_state = 42)\n",
        "\n",
        "from sklearn.model_selection import cross_val_score\n",
        "#print(cross_val_score(knn, X, y.ravel(), cv=10, scoring='recall').mean())\n",
        "#b_a= cross_val_score(knn, X ,y.ravel(),cv=10, scoring='balanced_accuracy') \n",
        "#sens=cross_val_score(knn, X, y.ravel(), cv=10, scoring='recall')\n",
        "#print (((2*b_a)-sens).mean())\n",
        "print(cross_val_score(knn, X, y2.ravel(), cv=10, scoring='accuracy').mean())\n",
        "#print(cross_val_score(knn, X, y.ravel(), cv=10, scoring='roc_auc').mean())\n",
        "\n"
      ],
      "execution_count": null,
      "outputs": [
        {
          "output_type": "stream",
          "text": [
            "0.5649106786075266\n"
          ],
          "name": "stdout"
        }
      ]
    },
    {
      "cell_type": "code",
      "metadata": {
        "id": "M_ZmSGvqpUpV",
        "colab": {
          "base_uri": "https://localhost:8080/",
          "height": 34
        },
        "outputId": "9e5d6623-3b47-4e4a-dce5-cc194b059f6e"
      },
      "source": [
        "X.shape"
      ],
      "execution_count": null,
      "outputs": [
        {
          "output_type": "execute_result",
          "data": {
            "text/plain": [
              "(13041, 13)"
            ]
          },
          "metadata": {
            "tags": []
          },
          "execution_count": 86
        }
      ]
    },
    {
      "cell_type": "code",
      "metadata": {
        "id": "db-oPUwFH_56"
      },
      "source": [
        "##  Class 1  Vs (class 0 & 2 & 3) ###############\n",
        "#y=y3[y3!=2]\n",
        "#x1=x[y3!=2]\n",
        "\n",
        "#x1, y = x[y3 != 2], y3[y3 != 2]\n",
        "#putting x as X, putting only y=1, converting y=0 as 0, y=2 as 0\n",
        "\n",
        "\n",
        "x1=x1;\n",
        "ya=np.where(y2==0, 10, y2) \n",
        "yb=np.where(ya==1, 20, ya) \n",
        "yc=np.where(yb==2, 30, yb) \n",
        "yd=np.where(yc==3, 40, yb) \n",
        "\n",
        "yd=np.where(yc==10, 0, yc) \n",
        "ye=np.where(yd==20, 1, yd) \n",
        "yf=np.where(ye==30, 0, ye) \n",
        "y=np.where(yf==40, 0, ye) \n"
      ],
      "execution_count": null,
      "outputs": []
    },
    {
      "cell_type": "code",
      "metadata": {
        "id": "agS7Wqq5ICb3",
        "colab": {
          "base_uri": "https://localhost:8080/",
          "height": 102
        },
        "outputId": "7ba77053-4ed9-40ff-933f-3455ded164d0"
      },
      "source": [
        "\n",
        "\n",
        "#####\n",
        "#https://towardsdatascience.com/hyperparameter-tuning-the-random-forest-in-python-using-scikit-learn-28d2aa77dd74\n",
        "from sklearn.model_selection import GridSearchCV\n",
        "#from sklearn.ensemble import RandomForestRegressor\n",
        "from sklearn.datasets import make_regression\n",
        "from sklearn.ensemble import RandomForestClassifier\n",
        "# Create the parameter grid based on the results of random search \n",
        "param_grid = {\n",
        "    'bootstrap': [True],\n",
        "    'max_depth': [2, 3, 4],\n",
        "    #'max_features': [1, 2],\n",
        "    #'min_samples_leaf': [4, 5,6],\n",
        "    #'min_samples_split': [2,3,4],\n",
        "    'n_estimators': [100, 200, 300]\n",
        "}\n",
        "# Create a based model\n",
        "#RandomForestClassifier\n",
        "#rf = RandomForestRegressor()\n",
        "rfc = RandomForestClassifier(random_state=42)\n",
        "# Instantiate the grid search model\n",
        "grid_search = GridSearchCV(estimator = rfc, param_grid = param_grid, \n",
        "                          cv = 10, n_jobs = -1, verbose = 2)\n",
        "\n",
        "\n",
        "\n",
        "# Fit the grid search to the data\n",
        "grid_search.fit(X, y.ravel())\n",
        "grid_search.best_params_\n",
        "\n",
        "####"
      ],
      "execution_count": null,
      "outputs": [
        {
          "output_type": "stream",
          "text": [
            "Fitting 10 folds for each of 9 candidates, totalling 90 fits\n"
          ],
          "name": "stdout"
        },
        {
          "output_type": "stream",
          "text": [
            "[Parallel(n_jobs=-1)]: Using backend LokyBackend with 2 concurrent workers.\n",
            "[Parallel(n_jobs=-1)]: Done  37 tasks      | elapsed:   15.0s\n",
            "[Parallel(n_jobs=-1)]: Done  90 out of  90 | elapsed:   42.8s finished\n"
          ],
          "name": "stderr"
        },
        {
          "output_type": "execute_result",
          "data": {
            "text/plain": [
              "{'bootstrap': True, 'max_depth': 2, 'n_estimators': 100}"
            ]
          },
          "metadata": {
            "tags": []
          },
          "execution_count": 88
        }
      ]
    },
    {
      "cell_type": "code",
      "metadata": {
        "id": "1NMdYy6wIXnf"
      },
      "source": [
        ""
      ],
      "execution_count": null,
      "outputs": []
    },
    {
      "cell_type": "code",
      "metadata": {
        "id": "wXdP5OOxINy4",
        "colab": {
          "base_uri": "https://localhost:8080/",
          "height": 34
        },
        "outputId": "042a318b-75d1-4c3d-d561-cde140402012"
      },
      "source": [
        "\n",
        "\n",
        "\n",
        "\n",
        "\n",
        "\n",
        "#https://stackoverflow.com/questions/50394644/how-to-calculate-sensitvity-and-specificity-in-cross-validation\n",
        "#https://stackoverflow.com/questions/50394644/how-to-calculate-sensitvity-and-specificity-in-cross-validation\n",
        "#Recall/ Precision\n",
        "\n",
        "# \"?? ????????? ??????\" ????? ?? \"?? ?????\" ???? ??????????\n",
        "#knn = KNeighborsClassifier(n_neighbors=26)\n",
        "\n",
        "knn= RandomForestClassifier(max_depth=4,n_estimators= 100, random_state = 42)\n",
        "\n",
        "from sklearn.model_selection import cross_val_score\n",
        "#print(cross_val_score(knn, X, y.ravel(), cv=10, scoring='recall').mean())\n",
        "#b_a= cross_val_score(knn, X ,y.ravel(),cv=10, scoring='balanced_accuracy') \n",
        "#sens=cross_val_score(knn, X, y.ravel(), cv=10, scoring='recall')\n",
        "#print (((2*b_a)-sens).mean())\n",
        "print(cross_val_score(knn, X, y.ravel(), cv=10, scoring='accuracy').mean())\n",
        "#print(cross_val_score(knn, X, y.ravel(), cv=10, scoring='roc_auc').mean())\n",
        "\n"
      ],
      "execution_count": null,
      "outputs": [
        {
          "output_type": "stream",
          "text": [
            "0.5637603718590602\n"
          ],
          "name": "stdout"
        }
      ]
    },
    {
      "cell_type": "code",
      "metadata": {
        "id": "9o1ZosORIVtw"
      },
      "source": [
        "##  Class 1  Vs (class 0 & 2 & 3) ###############\n",
        "#y=y3[y3!=2]\n",
        "#x1=x[y3!=2]\n",
        "\n",
        "#x1, y = x[y3 != 2], y3[y3 != 2]\n",
        "#putting x as X, putting only y=1, converting y=0 as 0, y=2 as 0\n",
        "\n",
        "\n",
        "x1=x1;\n",
        "ya=np.where(y2==0, 10, y2) \n",
        "yb=np.where(ya==1, 20, ya) \n",
        "yc=np.where(yb==2, 30, yb) \n",
        "yd=np.where(yc==3, 40, yb) \n",
        "\n",
        "yd=np.where(yc==10, 0, yc) \n",
        "ye=np.where(yd==20, 0, yd) \n",
        "yf=np.where(ye==30, 1, ye) \n",
        "y=np.where(yf==40, 0, ye) \n"
      ],
      "execution_count": null,
      "outputs": []
    },
    {
      "cell_type": "code",
      "metadata": {
        "id": "I7TiloX-ICf3",
        "colab": {
          "base_uri": "https://localhost:8080/",
          "height": 102
        },
        "outputId": "dd0d86e9-b795-471f-9812-35114d14c553"
      },
      "source": [
        "\n",
        "\n",
        "#####\n",
        "#https://towardsdatascience.com/hyperparameter-tuning-the-random-forest-in-python-using-scikit-learn-28d2aa77dd74\n",
        "from sklearn.model_selection import GridSearchCV\n",
        "#from sklearn.ensemble import RandomForestRegressor\n",
        "from sklearn.datasets import make_regression\n",
        "from sklearn.ensemble import RandomForestClassifier\n",
        "# Create the parameter grid based on the results of random search \n",
        "param_grid = {\n",
        "    'bootstrap': [True],\n",
        "    'max_depth': [2, 3, 4],\n",
        "    #'max_features': [1, 2],\n",
        "    #'min_samples_leaf': [4, 5,6],\n",
        "    #'min_samples_split': [2,3,4],\n",
        "    'n_estimators': [100, 200, 300]\n",
        "}\n",
        "# Create a based model\n",
        "#RandomForestClassifier\n",
        "#rf = RandomForestRegressor()\n",
        "rfc = RandomForestClassifier(random_state=42)\n",
        "# Instantiate the grid search model\n",
        "grid_search = GridSearchCV(estimator = rfc, param_grid = param_grid, \n",
        "                          cv = 10, n_jobs = -1, verbose = 2)\n",
        "\n",
        "\n",
        "\n",
        "# Fit the grid search to the data\n",
        "grid_search.fit(X, y.ravel())\n",
        "grid_search.best_params_\n",
        "\n",
        "####"
      ],
      "execution_count": null,
      "outputs": [
        {
          "output_type": "stream",
          "text": [
            "Fitting 10 folds for each of 9 candidates, totalling 90 fits\n"
          ],
          "name": "stdout"
        },
        {
          "output_type": "stream",
          "text": [
            "[Parallel(n_jobs=-1)]: Using backend LokyBackend with 2 concurrent workers.\n",
            "[Parallel(n_jobs=-1)]: Done  37 tasks      | elapsed:   14.7s\n",
            "[Parallel(n_jobs=-1)]: Done  90 out of  90 | elapsed:   41.0s finished\n"
          ],
          "name": "stderr"
        },
        {
          "output_type": "execute_result",
          "data": {
            "text/plain": [
              "{'bootstrap': True, 'max_depth': 4, 'n_estimators': 100}"
            ]
          },
          "metadata": {
            "tags": []
          },
          "execution_count": 48
        }
      ]
    },
    {
      "cell_type": "code",
      "metadata": {
        "id": "OSkQtcckICnA",
        "colab": {
          "base_uri": "https://localhost:8080/",
          "height": 34
        },
        "outputId": "79c4016c-46ae-446c-df4c-821518697022"
      },
      "source": [
        "\n",
        "\n",
        "\n",
        "\n",
        "\n",
        "\n",
        "#https://stackoverflow.com/questions/50394644/how-to-calculate-sensitvity-and-specificity-in-cross-validation\n",
        "#https://stackoverflow.com/questions/50394644/how-to-calculate-sensitvity-and-specificity-in-cross-validation\n",
        "#Recall/ Precision\n",
        "\n",
        "# \"?? ????????? ??????\" ????? ?? \"?? ?????\" ???? ??????????\n",
        "#knn = KNeighborsClassifier(n_neighbors=26)\n",
        "\n",
        "knn= RandomForestClassifier(max_depth=4,n_estimators= 300, random_state = 42)\n",
        "\n",
        "from sklearn.model_selection import cross_val_score\n",
        "#print(cross_val_score(knn, X, y.ravel(), cv=10, scoring='recall').mean())\n",
        "#b_a= cross_val_score(knn, X ,y.ravel(),cv=10, scoring='balanced_accuracy') \n",
        "#sens=cross_val_score(knn, X, y.ravel(), cv=10, scoring='recall')\n",
        "#print (((2*b_a)-sens).mean())\n",
        "print(cross_val_score(knn, X, y.ravel(), cv=10, scoring='accuracy').mean())\n",
        "#print(cross_val_score(knn, X, y.ravel(), cv=10, scoring='roc_auc').mean())\n",
        "\n"
      ],
      "execution_count": null,
      "outputs": [
        {
          "output_type": "stream",
          "text": [
            "0.9227055567308371\n"
          ],
          "name": "stdout"
        }
      ]
    },
    {
      "cell_type": "code",
      "metadata": {
        "id": "HZPln4SiIjsI"
      },
      "source": [
        "##  Class 1  Vs (class 0 & 2 & 3) ###############\n",
        "#y=y3[y3!=2]\n",
        "#x1=x[y3!=2]\n",
        "\n",
        "#x1, y = x[y3 != 2], y3[y3 != 2]\n",
        "#putting x as X, putting only y=1, converting y=0 as 0, y=2 as 0\n",
        "\n",
        "\n",
        "x1=x1;\n",
        "ya=np.where(y2==0, 10, y2) \n",
        "yb=np.where(ya==1, 20, ya) \n",
        "yc=np.where(yb==2, 30, yb) \n",
        "yd=np.where(yc==3, 40, yb) \n",
        "\n",
        "yd=np.where(yc==10, 0, yc) \n",
        "ye=np.where(yd==20, 0, yd) \n",
        "yf=np.where(ye==30, 0, ye) \n",
        "y=np.where(yf==40, 1, ye) \n"
      ],
      "execution_count": null,
      "outputs": []
    },
    {
      "cell_type": "code",
      "metadata": {
        "id": "UVagPogZIjww",
        "colab": {
          "base_uri": "https://localhost:8080/",
          "height": 102
        },
        "outputId": "218d12a6-9eb0-4990-982e-c07ddbcce150"
      },
      "source": [
        "\n",
        "\n",
        "#####\n",
        "#https://towardsdatascience.com/hyperparameter-tuning-the-random-forest-in-python-using-scikit-learn-28d2aa77dd74\n",
        "from sklearn.model_selection import GridSearchCV\n",
        "#from sklearn.ensemble import RandomForestRegressor\n",
        "from sklearn.datasets import make_regression\n",
        "from sklearn.ensemble import RandomForestClassifier\n",
        "# Create the parameter grid based on the results of random search \n",
        "param_grid = {\n",
        "    'bootstrap': [True],\n",
        "    'max_depth': [2, 3, 4],\n",
        "    #'max_features': [1, 2],\n",
        "    #'min_samples_leaf': [4, 5,6],\n",
        "    #'min_samples_split': [2,3,4],\n",
        "    'n_estimators': [100, 200, 300]\n",
        "}\n",
        "# Create a based model\n",
        "#RandomForestClassifier\n",
        "#rf = RandomForestRegressor()\n",
        "rfc = RandomForestClassifier(random_state=42)\n",
        "# Instantiate the grid search model\n",
        "grid_search = GridSearchCV(estimator = rfc, param_grid = param_grid, \n",
        "                          cv = 10, n_jobs = -1, verbose = 2)\n",
        "\n",
        "\n",
        "\n",
        "# Fit the grid search to the data\n",
        "grid_search.fit(X, y.ravel())\n",
        "grid_search.best_params_\n",
        "\n",
        "####"
      ],
      "execution_count": null,
      "outputs": [
        {
          "output_type": "stream",
          "text": [
            "Fitting 10 folds for each of 9 candidates, totalling 90 fits\n"
          ],
          "name": "stdout"
        },
        {
          "output_type": "stream",
          "text": [
            "[Parallel(n_jobs=-1)]: Using backend LokyBackend with 2 concurrent workers.\n",
            "[Parallel(n_jobs=-1)]: Done  37 tasks      | elapsed:   14.7s\n",
            "[Parallel(n_jobs=-1)]: Done  90 out of  90 | elapsed:   41.0s finished\n"
          ],
          "name": "stderr"
        },
        {
          "output_type": "execute_result",
          "data": {
            "text/plain": [
              "{'bootstrap': True, 'max_depth': 4, 'n_estimators': 100}"
            ]
          },
          "metadata": {
            "tags": []
          },
          "execution_count": 51
        }
      ]
    },
    {
      "cell_type": "code",
      "metadata": {
        "id": "AjPBMZt3JCiO",
        "colab": {
          "base_uri": "https://localhost:8080/",
          "height": 34
        },
        "outputId": "5b15f32f-1ed3-4257-b85e-181dcaf05aff"
      },
      "source": [
        "\n",
        "\n",
        "\n",
        "\n",
        "\n",
        "\n",
        "#https://stackoverflow.com/questions/50394644/how-to-calculate-sensitvity-and-specificity-in-cross-validation\n",
        "#https://stackoverflow.com/questions/50394644/how-to-calculate-sensitvity-and-specificity-in-cross-validation\n",
        "#Recall/ Precision\n",
        "\n",
        "# \"?? ????????? ??????\" ????? ?? \"?? ?????\" ???? ??????????\n",
        "#knn = KNeighborsClassifier(n_neighbors=26)\n",
        "\n",
        "knn= RandomForestClassifier(max_depth=4,n_estimators= 100, random_state = 42)\n",
        "\n",
        "from sklearn.model_selection import cross_val_score\n",
        "#print(cross_val_score(knn, X, y.ravel(), cv=10, scoring='recall').mean())\n",
        "#b_a= cross_val_score(knn, X ,y.ravel(),cv=10, scoring='balanced_accuracy') \n",
        "#sens=cross_val_score(knn, X, y.ravel(), cv=10, scoring='recall')\n",
        "#print (((2*b_a)-sens).mean())\n",
        "print(cross_val_score(knn, X, y.ravel(), cv=10, scoring='accuracy').mean())\n",
        "#print(cross_val_score(knn, X, y.ravel(), cv=10, scoring='roc_auc').mean())\n",
        "\n"
      ],
      "execution_count": null,
      "outputs": [
        {
          "output_type": "stream",
          "text": [
            "0.9281503420069107\n"
          ],
          "name": "stdout"
        }
      ]
    },
    {
      "cell_type": "code",
      "metadata": {
        "id": "-51L3zvfH4xu",
        "colab": {
          "base_uri": "https://localhost:8080/",
          "height": 102
        },
        "outputId": "2e74d4b0-89f1-402b-c5ad-92af4f360387"
      },
      "source": [
        "\n",
        "\n",
        "#####\n",
        "#https://towardsdatascience.com/hyperparameter-tuning-the-random-forest-in-python-using-scikit-learn-28d2aa77dd74\n",
        "from sklearn.model_selection import GridSearchCV\n",
        "#from sklearn.ensemble import RandomForestRegressor\n",
        "from sklearn.datasets import make_regression\n",
        "from sklearn.ensemble import RandomForestClassifier\n",
        "# Create the parameter grid based on the results of random search \n",
        "param_grid = {\n",
        "    'bootstrap': [True],\n",
        "    'max_depth': [2, 3, 4],\n",
        "    #'max_features': [1, 2],\n",
        "    #'min_samples_leaf': [4, 5,6],\n",
        "    #'min_samples_split': [2,3,4],\n",
        "    'n_estimators': [100, 200, 300]\n",
        "}\n",
        "# Create a based model\n",
        "#RandomForestClassifier\n",
        "#rf = RandomForestRegressor()\n",
        "rfc = RandomForestClassifier(random_state=42)\n",
        "# Instantiate the grid search model\n",
        "grid_search = GridSearchCV(estimator = rfc, param_grid = param_grid, \n",
        "                          cv = 10, n_jobs = -1, verbose = 2)\n",
        "\n",
        "\n",
        "\n",
        "# Fit the grid search to the data\n",
        "grid_search.fit(X, y2.ravel())\n",
        "grid_search.best_params_\n",
        "\n",
        "####"
      ],
      "execution_count": null,
      "outputs": [
        {
          "output_type": "stream",
          "text": [
            "Fitting 10 folds for each of 9 candidates, totalling 90 fits\n"
          ],
          "name": "stdout"
        },
        {
          "output_type": "stream",
          "text": [
            "[Parallel(n_jobs=-1)]: Using backend LokyBackend with 2 concurrent workers.\n",
            "[Parallel(n_jobs=-1)]: Done  37 tasks      | elapsed:   15.2s\n",
            "[Parallel(n_jobs=-1)]: Done  90 out of  90 | elapsed:   43.1s finished\n"
          ],
          "name": "stderr"
        },
        {
          "output_type": "execute_result",
          "data": {
            "text/plain": [
              "{'bootstrap': True, 'max_depth': 4, 'n_estimators': 100}"
            ]
          },
          "metadata": {
            "tags": []
          },
          "execution_count": 53
        }
      ]
    },
    {
      "cell_type": "code",
      "metadata": {
        "id": "m7GvF3xRJZ3l",
        "colab": {
          "base_uri": "https://localhost:8080/",
          "height": 34
        },
        "outputId": "a58419fb-cbf0-4379-8f3d-f103f589f0ec"
      },
      "source": [
        "\n",
        "\n",
        "\n",
        "\n",
        "\n",
        "\n",
        "#https://stackoverflow.com/questions/50394644/how-to-calculate-sensitvity-and-specificity-in-cross-validation\n",
        "#https://stackoverflow.com/questions/50394644/how-to-calculate-sensitvity-and-specificity-in-cross-validation\n",
        "#Recall/ Precision\n",
        "\n",
        "# \"?? ????????? ??????\" ????? ?? \"?? ?????\" ???? ??????????\n",
        "#knn = KNeighborsClassifier(n_neighbors=26)\n",
        "\n",
        "knn= RandomForestClassifier(max_depth=4,n_estimators= 100, random_state = 42)\n",
        "\n",
        "from sklearn.model_selection import cross_val_score\n",
        "#print(cross_val_score(knn, X, y.ravel(), cv=10, scoring='recall').mean())\n",
        "#b_a= cross_val_score(knn, X ,y.ravel(),cv=10, scoring='balanced_accuracy') \n",
        "#sens=cross_val_score(knn, X, y.ravel(), cv=10, scoring='recall')\n",
        "#print (((2*b_a)-sens).mean())\n",
        "print(cross_val_score(knn, X, y2.ravel(), cv=10, scoring='accuracy').mean())\n",
        "#print(cross_val_score(knn, X, y.ravel(), cv=10, scoring='roc_auc').mean())\n",
        "\n"
      ],
      "execution_count": null,
      "outputs": [
        {
          "output_type": "stream",
          "text": [
            "0.8997014785041018\n"
          ],
          "name": "stdout"
        }
      ]
    },
    {
      "cell_type": "code",
      "metadata": {
        "id": "n9LN5_fKJ1Y_",
        "colab": {
          "base_uri": "https://localhost:8080/",
          "height": 221
        },
        "outputId": "a962f297-aa4d-4a33-9f02-715d451df6c0"
      },
      "source": [
        "y2"
      ],
      "execution_count": null,
      "outputs": [
        {
          "output_type": "execute_result",
          "data": {
            "text/plain": [
              "0        1\n",
              "1        1\n",
              "2        1\n",
              "3        2\n",
              "4        2\n",
              "        ..\n",
              "13036    1\n",
              "13037    2\n",
              "13038    1\n",
              "13039    1\n",
              "13040    1\n",
              "Name: Crash_Severity, Length: 13041, dtype: int64"
            ]
          },
          "metadata": {
            "tags": []
          },
          "execution_count": 55
        }
      ]
    },
    {
      "cell_type": "code",
      "metadata": {
        "id": "sqdmn1iHXgQx",
        "colab": {
          "base_uri": "https://localhost:8080/",
          "height": 72
        },
        "outputId": "ada7af8e-030b-4544-f119-84e2d9c4f348"
      },
      "source": [
        "from sklearn.datasets import load_iris\n",
        "from sklearn.tree import DecisionTreeClassifier\n",
        "from sklearn.model_selection import train_test_split\n",
        "from sklearn.metrics import confusion_matrix\n",
        "from sklearn.tree import export_graphviz\n",
        "from sklearn.externals.six import StringIO \n",
        "from IPython.display import Image \n",
        "from pydot import graph_from_dot_data\n",
        "import pandas as pd\n",
        "import numpy as np"
      ],
      "execution_count": null,
      "outputs": [
        {
          "output_type": "stream",
          "text": [
            "/usr/local/lib/python3.6/dist-packages/sklearn/externals/six.py:31: FutureWarning: The module is deprecated in version 0.21 and will be removed in version 0.23 since we've dropped support for Python 2.7. Please rely on the official version of six (https://pypi.org/project/six/).\n",
            "  \"(https://pypi.org/project/six/).\", FutureWarning)\n"
          ],
          "name": "stderr"
        }
      ]
    },
    {
      "cell_type": "code",
      "metadata": {
        "id": "vo-rSbJDaXvB"
      },
      "source": [
        "\n",
        "y2=dfle.Crash_Severity\n",
        "X = x\n",
        "x1=x\n",
        "y = y2"
      ],
      "execution_count": null,
      "outputs": []
    },
    {
      "cell_type": "code",
      "metadata": {
        "id": "31-zQ1uaiDXE",
        "colab": {
          "base_uri": "https://localhost:8080/",
          "height": 176
        },
        "outputId": "91003a72-8c7b-46fa-8961-3ef5eff347e3"
      },
      "source": [
        "x1.columns"
      ],
      "execution_count": null,
      "outputs": [
        {
          "output_type": "execute_result",
          "data": {
            "text/plain": [
              "Index(['Crash_Year', 'Crash_Nature', 'Crash_Type', 'Loc_ABS_Remoteness',\n",
              "       'Crash_Roadway_Feature', 'Crash_Traffic_Control',\n",
              "       'Crash_Road_Surface_Condition', 'Crash_Lighting_Condition',\n",
              "       'Crash_Road_Horiz_Align', 'Crash_Road_Vert_Align',\n",
              "       'Count_Casualty_Fatality', 'Count_Casualty_Hospitalised',\n",
              "       'Count_Casualty_MedicallyTreated', 'Count_Casualty_MinorInjury',\n",
              "       'Count_Unit_Motorcycle_Moped', 'Count_Unit_Bicycle',\n",
              "       'Count_Unit_Pedestrian'],\n",
              "      dtype='object')"
            ]
          },
          "metadata": {
            "tags": []
          },
          "execution_count": 67
        }
      ]
    },
    {
      "cell_type": "code",
      "metadata": {
        "id": "TrviDmXwiYhB"
      },
      "source": [
        "dfle.drop(['Crash_Year','Count_Casualty_Fatality',\t'Count_Casualty_Hospitalised',\t'Count_Casualty_MedicallyTreated',\t'Count_Casualty_MinorInjury',\t'Count_Unit_Motorcycle_Moped',\t'Count_Unit_Bicycle',\t'Count_Unit_Pedestrian'],axis='columns')"
      ],
      "execution_count": null,
      "outputs": []
    },
    {
      "cell_type": "code",
      "metadata": {
        "id": "x3SP36oPiGPS"
      },
      "source": [
        "x1 = x1.drop(['Crash_Year', 'Crash_Nature', 'Crash_Type', 'Loc_ABS_Remoteness',\n",
        "       'Crash_Roadway_Feature', 'Crash_Traffic_Control',\n",
        "       'Crash_Road_Surface_Condition', 'Crash_Lighting_Condition',\n",
        "       'Crash_Road_Horiz_Align', 'Crash_Road_Vert_Align',\n",
        "       'Count_Casualty_Fatality', 'Count_Casualty_Hospitalised',\n",
        "       'Count_Casualty_MedicallyTreated', 'Count_Casualty_MinorInjury',\n",
        "       'Count_Unit_Motorcycle_Moped', 'Count_Unit_Bicycle',\n",
        "       'Count_Unit_Pedestrian'],axis='columns')"
      ],
      "execution_count": null,
      "outputs": []
    },
    {
      "cell_type": "code",
      "metadata": {
        "id": "mcOFgFfth4BM",
        "colab": {
          "base_uri": "https://localhost:8080/",
          "height": 406
        },
        "outputId": "51ee6502-35fb-4af5-f229-ab04d5eb8bf0"
      },
      "source": [
        "x1"
      ],
      "execution_count": null,
      "outputs": [
        {
          "output_type": "execute_result",
          "data": {
            "text/html": [
              "<div>\n",
              "<style scoped>\n",
              "    .dataframe tbody tr th:only-of-type {\n",
              "        vertical-align: middle;\n",
              "    }\n",
              "\n",
              "    .dataframe tbody tr th {\n",
              "        vertical-align: top;\n",
              "    }\n",
              "\n",
              "    .dataframe thead th {\n",
              "        text-align: right;\n",
              "    }\n",
              "</style>\n",
              "<table border=\"1\" class=\"dataframe\">\n",
              "  <thead>\n",
              "    <tr style=\"text-align: right;\">\n",
              "      <th></th>\n",
              "      <th>Crash_Nature</th>\n",
              "      <th>Crash_Type</th>\n",
              "      <th>Loc_ABS_Remoteness</th>\n",
              "      <th>Crash_Roadway_Feature</th>\n",
              "      <th>Crash_Traffic_Control</th>\n",
              "      <th>Crash_Road_Surface_Condition</th>\n",
              "      <th>Crash_Atmospheric_Condition</th>\n",
              "      <th>Crash_Lighting_Condition</th>\n",
              "      <th>Crash_Road_Horiz_Align</th>\n",
              "      <th>Crash_Road_Vert_Align</th>\n",
              "    </tr>\n",
              "  </thead>\n",
              "  <tbody>\n",
              "    <tr>\n",
              "      <th>0</th>\n",
              "      <td>7</td>\n",
              "      <td>0</td>\n",
              "      <td>1</td>\n",
              "      <td>4</td>\n",
              "      <td>3</td>\n",
              "      <td>0</td>\n",
              "      <td>0</td>\n",
              "      <td>0</td>\n",
              "      <td>2</td>\n",
              "      <td>3</td>\n",
              "    </tr>\n",
              "    <tr>\n",
              "      <th>1</th>\n",
              "      <td>0</td>\n",
              "      <td>1</td>\n",
              "      <td>1</td>\n",
              "      <td>7</td>\n",
              "      <td>2</td>\n",
              "      <td>0</td>\n",
              "      <td>0</td>\n",
              "      <td>3</td>\n",
              "      <td>2</td>\n",
              "      <td>3</td>\n",
              "    </tr>\n",
              "    <tr>\n",
              "      <th>2</th>\n",
              "      <td>5</td>\n",
              "      <td>3</td>\n",
              "      <td>1</td>\n",
              "      <td>11</td>\n",
              "      <td>2</td>\n",
              "      <td>0</td>\n",
              "      <td>0</td>\n",
              "      <td>3</td>\n",
              "      <td>1</td>\n",
              "      <td>3</td>\n",
              "    </tr>\n",
              "    <tr>\n",
              "      <th>3</th>\n",
              "      <td>7</td>\n",
              "      <td>0</td>\n",
              "      <td>1</td>\n",
              "      <td>11</td>\n",
              "      <td>2</td>\n",
              "      <td>0</td>\n",
              "      <td>0</td>\n",
              "      <td>2</td>\n",
              "      <td>2</td>\n",
              "      <td>3</td>\n",
              "    </tr>\n",
              "    <tr>\n",
              "      <th>4</th>\n",
              "      <td>10</td>\n",
              "      <td>1</td>\n",
              "      <td>1</td>\n",
              "      <td>11</td>\n",
              "      <td>2</td>\n",
              "      <td>0</td>\n",
              "      <td>0</td>\n",
              "      <td>3</td>\n",
              "      <td>2</td>\n",
              "      <td>3</td>\n",
              "    </tr>\n",
              "    <tr>\n",
              "      <th>...</th>\n",
              "      <td>...</td>\n",
              "      <td>...</td>\n",
              "      <td>...</td>\n",
              "      <td>...</td>\n",
              "      <td>...</td>\n",
              "      <td>...</td>\n",
              "      <td>...</td>\n",
              "      <td>...</td>\n",
              "      <td>...</td>\n",
              "      <td>...</td>\n",
              "    </tr>\n",
              "    <tr>\n",
              "      <th>13036</th>\n",
              "      <td>10</td>\n",
              "      <td>1</td>\n",
              "      <td>1</td>\n",
              "      <td>11</td>\n",
              "      <td>2</td>\n",
              "      <td>0</td>\n",
              "      <td>0</td>\n",
              "      <td>3</td>\n",
              "      <td>2</td>\n",
              "      <td>3</td>\n",
              "    </tr>\n",
              "    <tr>\n",
              "      <th>13037</th>\n",
              "      <td>7</td>\n",
              "      <td>0</td>\n",
              "      <td>1</td>\n",
              "      <td>11</td>\n",
              "      <td>2</td>\n",
              "      <td>0</td>\n",
              "      <td>0</td>\n",
              "      <td>0</td>\n",
              "      <td>2</td>\n",
              "      <td>3</td>\n",
              "    </tr>\n",
              "    <tr>\n",
              "      <th>13038</th>\n",
              "      <td>0</td>\n",
              "      <td>1</td>\n",
              "      <td>1</td>\n",
              "      <td>11</td>\n",
              "      <td>2</td>\n",
              "      <td>0</td>\n",
              "      <td>0</td>\n",
              "      <td>3</td>\n",
              "      <td>2</td>\n",
              "      <td>3</td>\n",
              "    </tr>\n",
              "    <tr>\n",
              "      <th>13039</th>\n",
              "      <td>7</td>\n",
              "      <td>0</td>\n",
              "      <td>1</td>\n",
              "      <td>11</td>\n",
              "      <td>2</td>\n",
              "      <td>0</td>\n",
              "      <td>0</td>\n",
              "      <td>0</td>\n",
              "      <td>2</td>\n",
              "      <td>3</td>\n",
              "    </tr>\n",
              "    <tr>\n",
              "      <th>13040</th>\n",
              "      <td>2</td>\n",
              "      <td>3</td>\n",
              "      <td>1</td>\n",
              "      <td>7</td>\n",
              "      <td>2</td>\n",
              "      <td>0</td>\n",
              "      <td>0</td>\n",
              "      <td>2</td>\n",
              "      <td>2</td>\n",
              "      <td>3</td>\n",
              "    </tr>\n",
              "  </tbody>\n",
              "</table>\n",
              "<p>13041 rows × 10 columns</p>\n",
              "</div>"
            ],
            "text/plain": [
              "       Crash_Nature  Crash_Type  ...  Crash_Road_Horiz_Align  Crash_Road_Vert_Align\n",
              "0                 7           0  ...                       2                      3\n",
              "1                 0           1  ...                       2                      3\n",
              "2                 5           3  ...                       1                      3\n",
              "3                 7           0  ...                       2                      3\n",
              "4                10           1  ...                       2                      3\n",
              "...             ...         ...  ...                     ...                    ...\n",
              "13036            10           1  ...                       2                      3\n",
              "13037             7           0  ...                       2                      3\n",
              "13038             0           1  ...                       2                      3\n",
              "13039             7           0  ...                       2                      3\n",
              "13040             2           3  ...                       2                      3\n",
              "\n",
              "[13041 rows x 10 columns]"
            ]
          },
          "metadata": {
            "tags": []
          },
          "execution_count": 80
        }
      ]
    },
    {
      "cell_type": "code",
      "metadata": {
        "id": "4GQjXpx7azT-",
        "colab": {
          "base_uri": "https://localhost:8080/",
          "height": 71
        },
        "outputId": "672ab6d8-c773-4bc0-910c-8fd9ade89e8c"
      },
      "source": [
        "#Decision_Tree\n",
        "from sklearn.datasets import load_iris\n",
        "from sklearn.tree import DecisionTreeClassifier\n",
        "from sklearn.model_selection import train_test_split\n",
        "from sklearn.metrics import confusion_matrix\n",
        "from sklearn.tree import export_graphviz\n",
        "from sklearn.externals.six import StringIO \n",
        "from IPython.display import Image \n",
        "from pydot import graph_from_dot_data\n",
        "import pandas as pd\n",
        "import numpy as np"
      ],
      "execution_count": null,
      "outputs": [
        {
          "output_type": "stream",
          "text": [
            "/usr/local/lib/python3.6/dist-packages/sklearn/externals/six.py:31: FutureWarning: The module is deprecated in version 0.21 and will be removed in version 0.23 since we've dropped support for Python 2.7. Please rely on the official version of six (https://pypi.org/project/six/).\n",
            "  \"(https://pypi.org/project/six/).\", FutureWarning)\n"
          ],
          "name": "stderr"
        }
      ]
    },
    {
      "cell_type": "code",
      "metadata": {
        "id": "mGASmi54bMv-"
      },
      "source": [
        "X_train, X_test, y_train, y_test = train_test_split(X, y2, random_state=1)"
      ],
      "execution_count": null,
      "outputs": []
    },
    {
      "cell_type": "code",
      "metadata": {
        "id": "p_hzSWgGbQzl",
        "colab": {
          "base_uri": "https://localhost:8080/",
          "height": 119
        },
        "outputId": "75b079e6-cda1-4761-f289-6cc841a1fb41"
      },
      "source": [
        "dt = DecisionTreeClassifier()\n",
        "dt.fit(X_train, y_train)"
      ],
      "execution_count": null,
      "outputs": [
        {
          "output_type": "execute_result",
          "data": {
            "text/plain": [
              "DecisionTreeClassifier(ccp_alpha=0.0, class_weight=None, criterion='gini',\n",
              "                       max_depth=None, max_features=None, max_leaf_nodes=None,\n",
              "                       min_impurity_decrease=0.0, min_impurity_split=None,\n",
              "                       min_samples_leaf=1, min_samples_split=2,\n",
              "                       min_weight_fraction_leaf=0.0, presort='deprecated',\n",
              "                       random_state=None, splitter='best')"
            ]
          },
          "metadata": {
            "tags": []
          },
          "execution_count": 58
        }
      ]
    },
    {
      "cell_type": "code",
      "metadata": {
        "id": "OBxb1JQubTWt",
        "colab": {
          "base_uri": "https://localhost:8080/",
          "height": 214
        },
        "outputId": "125577c3-2890-4fa5-e240-27c25f72f9c5"
      },
      "source": [
        "dot_data = StringIO()\n",
        "export_graphviz(dt, out_file=dot_data, feature_names=dfle.columns)\n",
        "(graph, ) = graph_from_dot_data(dot_data.getvalue())\n",
        "Image(graph.create_png())"
      ],
      "execution_count": null,
      "outputs": [
        {
          "output_type": "error",
          "ename": "AttributeError",
          "evalue": "ignored",
          "traceback": [
            "\u001b[0;31m---------------------------------------------------------------------------\u001b[0m",
            "\u001b[0;31mAttributeError\u001b[0m                            Traceback (most recent call last)",
            "\u001b[0;32m<ipython-input-60-211edb37612b>\u001b[0m in \u001b[0;36m<module>\u001b[0;34m()\u001b[0m\n\u001b[1;32m      1\u001b[0m \u001b[0mdot_data\u001b[0m \u001b[0;34m=\u001b[0m \u001b[0mStringIO\u001b[0m\u001b[0;34m(\u001b[0m\u001b[0;34m)\u001b[0m\u001b[0;34m\u001b[0m\u001b[0;34m\u001b[0m\u001b[0m\n\u001b[0;32m----> 2\u001b[0;31m \u001b[0mexport_graphviz\u001b[0m\u001b[0;34m(\u001b[0m\u001b[0mdt\u001b[0m\u001b[0;34m,\u001b[0m \u001b[0mout_file\u001b[0m\u001b[0;34m=\u001b[0m\u001b[0mdot_data\u001b[0m\u001b[0;34m,\u001b[0m \u001b[0mfeature_names\u001b[0m\u001b[0;34m=\u001b[0m\u001b[0mX\u001b[0m\u001b[0;34m.\u001b[0m\u001b[0mcolumns\u001b[0m\u001b[0;34m)\u001b[0m\u001b[0;34m\u001b[0m\u001b[0;34m\u001b[0m\u001b[0m\n\u001b[0m\u001b[1;32m      3\u001b[0m \u001b[0;34m(\u001b[0m\u001b[0mgraph\u001b[0m\u001b[0;34m,\u001b[0m \u001b[0;34m)\u001b[0m \u001b[0;34m=\u001b[0m \u001b[0mgraph_from_dot_data\u001b[0m\u001b[0;34m(\u001b[0m\u001b[0mdot_data\u001b[0m\u001b[0;34m.\u001b[0m\u001b[0mgetvalue\u001b[0m\u001b[0;34m(\u001b[0m\u001b[0;34m)\u001b[0m\u001b[0;34m)\u001b[0m\u001b[0;34m\u001b[0m\u001b[0;34m\u001b[0m\u001b[0m\n\u001b[1;32m      4\u001b[0m \u001b[0mImage\u001b[0m\u001b[0;34m(\u001b[0m\u001b[0mgraph\u001b[0m\u001b[0;34m.\u001b[0m\u001b[0mcreate_png\u001b[0m\u001b[0;34m(\u001b[0m\u001b[0;34m)\u001b[0m\u001b[0;34m)\u001b[0m\u001b[0;34m\u001b[0m\u001b[0;34m\u001b[0m\u001b[0m\n",
            "\u001b[0;31mAttributeError\u001b[0m: 'numpy.ndarray' object has no attribute 'columns'"
          ]
        }
      ]
    },
    {
      "cell_type": "code",
      "metadata": {
        "id": "7Er81YZ1bVeG"
      },
      "source": [
        "y_pred = dt.predict(X_test)"
      ],
      "execution_count": null,
      "outputs": []
    },
    {
      "cell_type": "code",
      "metadata": {
        "id": "L-ka2BEPbg3m",
        "colab": {
          "base_uri": "https://localhost:8080/",
          "height": 203
        },
        "outputId": "b53e558c-577d-483d-fcac-20e407d3d4df"
      },
      "source": [
        "species = np.array(y_test).argmax(axis=1)\n",
        "predictions = np.array(y_pred).argmax(axis=1)\n",
        "confusion_matrix(species, predictions)"
      ],
      "execution_count": null,
      "outputs": [
        {
          "output_type": "error",
          "ename": "AxisError",
          "evalue": "ignored",
          "traceback": [
            "\u001b[0;31m---------------------------------------------------------------------------\u001b[0m",
            "\u001b[0;31mAxisError\u001b[0m                                 Traceback (most recent call last)",
            "\u001b[0;32m<ipython-input-41-a65e4172a179>\u001b[0m in \u001b[0;36m<module>\u001b[0;34m()\u001b[0m\n\u001b[0;32m----> 1\u001b[0;31m \u001b[0mspecies\u001b[0m \u001b[0;34m=\u001b[0m \u001b[0mnp\u001b[0m\u001b[0;34m.\u001b[0m\u001b[0marray\u001b[0m\u001b[0;34m(\u001b[0m\u001b[0my_test\u001b[0m\u001b[0;34m)\u001b[0m\u001b[0;34m.\u001b[0m\u001b[0margmax\u001b[0m\u001b[0;34m(\u001b[0m\u001b[0maxis\u001b[0m\u001b[0;34m=\u001b[0m\u001b[0;36m1\u001b[0m\u001b[0;34m)\u001b[0m\u001b[0;34m\u001b[0m\u001b[0;34m\u001b[0m\u001b[0m\n\u001b[0m\u001b[1;32m      2\u001b[0m \u001b[0mpredictions\u001b[0m \u001b[0;34m=\u001b[0m \u001b[0mnp\u001b[0m\u001b[0;34m.\u001b[0m\u001b[0marray\u001b[0m\u001b[0;34m(\u001b[0m\u001b[0my_pred\u001b[0m\u001b[0;34m)\u001b[0m\u001b[0;34m.\u001b[0m\u001b[0margmax\u001b[0m\u001b[0;34m(\u001b[0m\u001b[0maxis\u001b[0m\u001b[0;34m=\u001b[0m\u001b[0;36m1\u001b[0m\u001b[0;34m)\u001b[0m\u001b[0;34m\u001b[0m\u001b[0;34m\u001b[0m\u001b[0m\n\u001b[1;32m      3\u001b[0m \u001b[0mconfusion_matrix\u001b[0m\u001b[0;34m(\u001b[0m\u001b[0mspecies\u001b[0m\u001b[0;34m,\u001b[0m \u001b[0mpredictions\u001b[0m\u001b[0;34m)\u001b[0m\u001b[0;34m\u001b[0m\u001b[0;34m\u001b[0m\u001b[0m\n",
            "\u001b[0;31mAxisError\u001b[0m: axis 1 is out of bounds for array of dimension 1"
          ]
        }
      ]
    },
    {
      "cell_type": "code",
      "metadata": {
        "id": "l-EkobI0bkIk",
        "colab": {
          "base_uri": "https://localhost:8080/",
          "height": 167
        },
        "outputId": "e0ab0a38-9fb1-4630-9b76-4f877eea4225"
      },
      "source": [
        "tree.plot_tree(dt) "
      ],
      "execution_count": null,
      "outputs": [
        {
          "output_type": "error",
          "ename": "NameError",
          "evalue": "ignored",
          "traceback": [
            "\u001b[0;31m---------------------------------------------------------------------------\u001b[0m",
            "\u001b[0;31mNameError\u001b[0m                                 Traceback (most recent call last)",
            "\u001b[0;32m<ipython-input-42-9fd24d5c7cc0>\u001b[0m in \u001b[0;36m<module>\u001b[0;34m()\u001b[0m\n\u001b[0;32m----> 1\u001b[0;31m \u001b[0mtree\u001b[0m\u001b[0;34m.\u001b[0m\u001b[0mplot_tree\u001b[0m\u001b[0;34m(\u001b[0m\u001b[0mdt\u001b[0m\u001b[0;34m)\u001b[0m\u001b[0;34m\u001b[0m\u001b[0;34m\u001b[0m\u001b[0m\n\u001b[0m",
            "\u001b[0;31mNameError\u001b[0m: name 'tree' is not defined"
          ]
        }
      ]
    },
    {
      "cell_type": "code",
      "metadata": {
        "id": "CNXAEkisb8q8"
      },
      "source": [
        "from sklearn import tree\n",
        "clf = tree.DecisionTreeClassifier()\n",
        "clf = clf.fit(X, y)"
      ],
      "execution_count": null,
      "outputs": []
    },
    {
      "cell_type": "code",
      "metadata": {
        "id": "43A1CpT1cDd7",
        "colab": {
          "base_uri": "https://localhost:8080/",
          "height": 443
        },
        "outputId": "4bc0afb3-ccec-4b37-8853-69466fd2272f"
      },
      "source": [
        "tree.plot_tree(clf) "
      ],
      "execution_count": null,
      "outputs": [
        {
          "output_type": "execute_result",
          "data": {
            "text/plain": [
              "[Text(197.83636363636364, 190.26, 'X[12] <= 0.5\\ngini = 0.567\\nsamples = 13041\\nvalue = [380, 7367, 4248, 1046]'),\n",
              " Text(121.74545454545455, 135.9, 'X[13] <= 0.5\\ngini = 0.392\\nsamples = 5628\\nvalue = [334, 0, 4248, 1046]'),\n",
              " Text(60.872727272727275, 81.53999999999999, 'X[11] <= 0.5\\ngini = 0.355\\nsamples = 1360\\nvalue = [314, 0, 0, 1046]'),\n",
              " Text(30.436363636363637, 27.180000000000007, 'gini = 0.0\\nsamples = 1046\\nvalue = [0, 0, 0, 1046]'),\n",
              " Text(91.30909090909091, 27.180000000000007, 'gini = 0.0\\nsamples = 314\\nvalue = [314, 0, 0, 0]'),\n",
              " Text(182.61818181818182, 81.53999999999999, 'X[0] <= 1.0\\ngini = 0.009\\nsamples = 4268\\nvalue = [20, 0, 4248, 0]'),\n",
              " Text(152.1818181818182, 27.180000000000007, 'gini = 0.0\\nsamples = 20\\nvalue = [20, 0, 0, 0]'),\n",
              " Text(213.05454545454546, 27.180000000000007, 'gini = 0.0\\nsamples = 4248\\nvalue = [0, 0, 4248, 0]'),\n",
              " Text(273.92727272727274, 135.9, 'X[11] <= 0.5\\ngini = 0.012\\nsamples = 7413\\nvalue = [46, 7367, 0, 0]'),\n",
              " Text(243.4909090909091, 81.53999999999999, 'gini = 0.0\\nsamples = 7367\\nvalue = [0, 7367, 0, 0]'),\n",
              " Text(304.3636363636364, 81.53999999999999, 'gini = 0.0\\nsamples = 46\\nvalue = [46, 0, 0, 0]')]"
            ]
          },
          "metadata": {
            "tags": []
          },
          "execution_count": 45
        },
        {
          "output_type": "display_data",
          "data": {
            "image/png": "[encoded data removed]",
            "text/plain": [
              "<Figure size 432x288 with 1 Axes>"
            ]
          },
          "metadata": {
            "tags": [],
            "needs_background": "light"
          }
        }
      ]
    },
    {
      "cell_type": "code",
      "metadata": {
        "id": "jYEqMmrGcJeK"
      },
      "source": [
        "X_train, X_test, y_train, y_test = train_test_split(X, y2, random_state=1)"
      ],
      "execution_count": null,
      "outputs": []
    },
    {
      "cell_type": "code",
      "metadata": {
        "id": "1bc5P8krcp_L"
      },
      "source": [
        "from sklearn import tree\n",
        "clf = tree.DecisionTreeClassifier()\n",
        "clf = clf.fit(X_train, y_train)"
      ],
      "execution_count": null,
      "outputs": []
    },
    {
      "cell_type": "code",
      "metadata": {
        "id": "t63O0TNzcuOL",
        "colab": {
          "base_uri": "https://localhost:8080/",
          "height": 34
        },
        "outputId": "83e6b5db-2cfd-4cc9-a7eb-112baa309266"
      },
      "source": [
        "\n",
        "from sklearn.neighbors import KNeighborsClassifier\n",
        "from sklearn.metrics import confusion_matrix, accuracy_score\n",
        "from sklearn import metrics\n",
        "\n",
        "y_pred = clf.predict(X_test)\n",
        "print(metrics.accuracy_score(y_test, y_pred))\n"
      ],
      "execution_count": null,
      "outputs": [
        {
          "output_type": "stream",
          "text": [
            "1.0\n"
          ],
          "name": "stdout"
        }
      ]
    },
    {
      "cell_type": "code",
      "metadata": {
        "id": "xTt4tq2Qc9l5"
      },
      "source": [
        "#from sklearn.datasets import load_iris\n",
        "from sklearn.model_selection import train_test_split\n",
        "from sklearn.neighbors import KNeighborsClassifier\n",
        "from sklearn import metrics\n",
        "from sklearn.model_selection import cross_val_score"
      ],
      "execution_count": null,
      "outputs": []
    },
    {
      "cell_type": "code",
      "metadata": {
        "id": "X5bvZoPDdqjw",
        "colab": {
          "base_uri": "https://localhost:8080/",
          "height": 68
        },
        "outputId": "e856606c-df6e-43b2-8120-e345a570a068"
      },
      "source": [
        "clf = DecisionTreeClassifier(max_depth=20)\n",
        "knn=clf\n",
        "print(cross_val_score(knn, x1, y2, cv=10, scoring='accuracy').mean())\n",
        "print(cross_val_score(knn, x1, y2, cv=10, scoring='accuracy').max())\n",
        "print(cross_val_score(knn, x1, y2, cv=10, scoring='accuracy').min())"
      ],
      "execution_count": null,
      "outputs": [
        {
          "output_type": "stream",
          "text": [
            "1.0\n",
            "1.0\n",
            "1.0\n"
          ],
          "name": "stdout"
        }
      ]
    },
    {
      "cell_type": "code",
      "metadata": {
        "id": "PoKcqWxleKQu",
        "colab": {
          "base_uri": "https://localhost:8080/",
          "height": 1000
        },
        "outputId": "ad780abb-7026-46eb-9020-6314c18c6377"
      },
      "source": [
        "\n",
        "\n",
        "#Tuning\n",
        "\n",
        "import pandas as pd \n",
        "import numpy as np \n",
        "from sklearn.metrics import classification_report, confusion_matrix \n",
        "from sklearn.datasets import load_breast_cancer \n",
        "from sklearn import svm\n",
        "from sklearn.svm import SVC \n",
        "  \n",
        "\n",
        "from sklearn.model_selection import GridSearchCV \n",
        "  \n",
        "# defining parameter range \n",
        "param_grid = {'C': [0.1, 1, 10, 100, 1000],  \n",
        "              'gamma': [1, 0.1, 0.01, 0.001, 0.0001], \n",
        "              'kernel': ['rbf']}  \n",
        "  \n",
        "grid = GridSearchCV(SVC(), param_grid, refit = True, verbose = 3) \n",
        "\n",
        "\n",
        "# fitting the model for grid search \n",
        "grid.fit(X, y.ravel()) \n",
        "\n",
        "#########################\n",
        "\n",
        "\n",
        "\n"
      ],
      "execution_count": null,
      "outputs": [
        {
          "output_type": "stream",
          "text": [
            "Fitting 5 folds for each of 25 candidates, totalling 125 fits\n",
            "[CV] C=0.1, gamma=1, kernel=rbf ......................................\n"
          ],
          "name": "stdout"
        },
        {
          "output_type": "stream",
          "text": [
            "[Parallel(n_jobs=1)]: Using backend SequentialBackend with 1 concurrent workers.\n"
          ],
          "name": "stderr"
        },
        {
          "output_type": "stream",
          "text": [
            "[CV] .......... C=0.1, gamma=1, kernel=rbf, score=0.695, total=   9.8s\n",
            "[CV] C=0.1, gamma=1, kernel=rbf ......................................\n"
          ],
          "name": "stdout"
        },
        {
          "output_type": "stream",
          "text": [
            "[Parallel(n_jobs=1)]: Done   1 out of   1 | elapsed:    9.8s remaining:    0.0s\n"
          ],
          "name": "stderr"
        },
        {
          "output_type": "stream",
          "text": [
            "[CV] .......... C=0.1, gamma=1, kernel=rbf, score=0.705, total=   9.6s\n",
            "[CV] C=0.1, gamma=1, kernel=rbf ......................................\n"
          ],
          "name": "stdout"
        },
        {
          "output_type": "stream",
          "text": [
            "[Parallel(n_jobs=1)]: Done   2 out of   2 | elapsed:   19.4s remaining:    0.0s\n"
          ],
          "name": "stderr"
        },
        {
          "output_type": "stream",
          "text": [
            "[CV] .......... C=0.1, gamma=1, kernel=rbf, score=0.705, total=   9.8s\n",
            "[CV] C=0.1, gamma=1, kernel=rbf ......................................\n",
            "[CV] .......... C=0.1, gamma=1, kernel=rbf, score=0.621, total=   9.4s\n",
            "[CV] C=0.1, gamma=1, kernel=rbf ......................................\n",
            "[CV] .......... C=0.1, gamma=1, kernel=rbf, score=0.615, total=   9.7s\n",
            "[CV] C=0.1, gamma=0.1, kernel=rbf ....................................\n",
            "[CV] ........ C=0.1, gamma=0.1, kernel=rbf, score=0.965, total=   3.4s\n",
            "[CV] C=0.1, gamma=0.1, kernel=rbf ....................................\n",
            "[CV] ........ C=0.1, gamma=0.1, kernel=rbf, score=0.974, total=   3.5s\n",
            "[CV] C=0.1, gamma=0.1, kernel=rbf ....................................\n",
            "[CV] ........ C=0.1, gamma=0.1, kernel=rbf, score=0.974, total=   3.5s\n",
            "[CV] C=0.1, gamma=0.1, kernel=rbf ....................................\n",
            "[CV] ........ C=0.1, gamma=0.1, kernel=rbf, score=0.971, total=   3.3s\n",
            "[CV] C=0.1, gamma=0.1, kernel=rbf ....................................\n",
            "[CV] ........ C=0.1, gamma=0.1, kernel=rbf, score=0.965, total=   3.4s\n",
            "[CV] C=0.1, gamma=0.01, kernel=rbf ...................................\n",
            "[CV] ....... C=0.1, gamma=0.01, kernel=rbf, score=0.987, total=   2.7s\n",
            "[CV] C=0.1, gamma=0.01, kernel=rbf ...................................\n",
            "[CV] ....... C=0.1, gamma=0.01, kernel=rbf, score=0.989, total=   2.8s\n",
            "[CV] C=0.1, gamma=0.01, kernel=rbf ...................................\n",
            "[CV] ....... C=0.1, gamma=0.01, kernel=rbf, score=0.988, total=   2.8s\n",
            "[CV] C=0.1, gamma=0.01, kernel=rbf ...................................\n",
            "[CV] ....... C=0.1, gamma=0.01, kernel=rbf, score=0.992, total=   2.8s\n",
            "[CV] C=0.1, gamma=0.01, kernel=rbf ...................................\n",
            "[CV] ....... C=0.1, gamma=0.01, kernel=rbf, score=0.989, total=   2.7s\n",
            "[CV] C=0.1, gamma=0.001, kernel=rbf ..................................\n",
            "[CV] ...... C=0.1, gamma=0.001, kernel=rbf, score=0.889, total=   5.7s\n",
            "[CV] C=0.1, gamma=0.001, kernel=rbf ..................................\n",
            "[CV] ...... C=0.1, gamma=0.001, kernel=rbf, score=0.890, total=   5.7s\n",
            "[CV] C=0.1, gamma=0.001, kernel=rbf ..................................\n",
            "[CV] ...... C=0.1, gamma=0.001, kernel=rbf, score=0.889, total=   5.6s\n",
            "[CV] C=0.1, gamma=0.001, kernel=rbf ..................................\n",
            "[CV] ...... C=0.1, gamma=0.001, kernel=rbf, score=0.890, total=   5.6s\n",
            "[CV] C=0.1, gamma=0.001, kernel=rbf ..................................\n",
            "[CV] ...... C=0.1, gamma=0.001, kernel=rbf, score=0.890, total=   5.7s\n",
            "[CV] C=0.1, gamma=0.0001, kernel=rbf .................................\n",
            "[CV] ..... C=0.1, gamma=0.0001, kernel=rbf, score=0.565, total=   5.4s\n",
            "[CV] C=0.1, gamma=0.0001, kernel=rbf .................................\n",
            "[CV] ..... C=0.1, gamma=0.0001, kernel=rbf, score=0.565, total=   5.4s\n",
            "[CV] C=0.1, gamma=0.0001, kernel=rbf .................................\n",
            "[CV] ..... C=0.1, gamma=0.0001, kernel=rbf, score=0.565, total=   5.4s\n",
            "[CV] C=0.1, gamma=0.0001, kernel=rbf .................................\n",
            "[CV] ..... C=0.1, gamma=0.0001, kernel=rbf, score=0.565, total=   5.5s\n",
            "[CV] C=0.1, gamma=0.0001, kernel=rbf .................................\n",
            "[CV] ..... C=0.1, gamma=0.0001, kernel=rbf, score=0.565, total=   5.4s\n",
            "[CV] C=1, gamma=1, kernel=rbf ........................................\n",
            "[CV] ............ C=1, gamma=1, kernel=rbf, score=0.905, total=  11.2s\n",
            "[CV] C=1, gamma=1, kernel=rbf ........................................\n",
            "[CV] ............ C=1, gamma=1, kernel=rbf, score=0.891, total=  11.3s\n",
            "[CV] C=1, gamma=1, kernel=rbf ........................................\n",
            "[CV] ............ C=1, gamma=1, kernel=rbf, score=0.911, total=  11.2s\n",
            "[CV] C=1, gamma=1, kernel=rbf ........................................\n",
            "[CV] ............ C=1, gamma=1, kernel=rbf, score=0.843, total=  10.7s\n",
            "[CV] C=1, gamma=1, kernel=rbf ........................................\n",
            "[CV] ............ C=1, gamma=1, kernel=rbf, score=0.854, total=  11.0s\n",
            "[CV] C=1, gamma=0.1, kernel=rbf ......................................\n",
            "[CV] .......... C=1, gamma=0.1, kernel=rbf, score=0.996, total=   1.7s\n",
            "[CV] C=1, gamma=0.1, kernel=rbf ......................................\n",
            "[CV] .......... C=1, gamma=0.1, kernel=rbf, score=0.998, total=   1.8s\n",
            "[CV] C=1, gamma=0.1, kernel=rbf ......................................\n",
            "[CV] .......... C=1, gamma=0.1, kernel=rbf, score=0.996, total=   1.8s\n",
            "[CV] C=1, gamma=0.1, kernel=rbf ......................................\n",
            "[CV] .......... C=1, gamma=0.1, kernel=rbf, score=0.998, total=   1.7s\n",
            "[CV] C=1, gamma=0.1, kernel=rbf ......................................\n",
            "[CV] .......... C=1, gamma=0.1, kernel=rbf, score=0.996, total=   1.7s\n",
            "[CV] C=1, gamma=0.01, kernel=rbf .....................................\n",
            "[CV] ......... C=1, gamma=0.01, kernel=rbf, score=1.000, total=   0.9s\n",
            "[CV] C=1, gamma=0.01, kernel=rbf .....................................\n",
            "[CV] ......... C=1, gamma=0.01, kernel=rbf, score=1.000, total=   0.9s\n",
            "[CV] C=1, gamma=0.01, kernel=rbf .....................................\n",
            "[CV] ......... C=1, gamma=0.01, kernel=rbf, score=0.998, total=   0.9s\n",
            "[CV] C=1, gamma=0.01, kernel=rbf .....................................\n",
            "[CV] ......... C=1, gamma=0.01, kernel=rbf, score=1.000, total=   0.8s\n",
            "[CV] C=1, gamma=0.01, kernel=rbf .....................................\n",
            "[CV] ......... C=1, gamma=0.01, kernel=rbf, score=1.000, total=   0.9s\n",
            "[CV] C=1, gamma=0.001, kernel=rbf ....................................\n",
            "[CV] ........ C=1, gamma=0.001, kernel=rbf, score=0.999, total=   2.1s\n",
            "[CV] C=1, gamma=0.001, kernel=rbf ....................................\n",
            "[CV] ........ C=1, gamma=0.001, kernel=rbf, score=0.999, total=   2.1s\n",
            "[CV] C=1, gamma=0.001, kernel=rbf ....................................\n",
            "[CV] ........ C=1, gamma=0.001, kernel=rbf, score=0.999, total=   2.2s\n",
            "[CV] C=1, gamma=0.001, kernel=rbf ....................................\n",
            "[CV] ........ C=1, gamma=0.001, kernel=rbf, score=0.998, total=   2.2s\n",
            "[CV] C=1, gamma=0.001, kernel=rbf ....................................\n",
            "[CV] ........ C=1, gamma=0.001, kernel=rbf, score=1.000, total=   2.1s\n",
            "[CV] C=1, gamma=0.0001, kernel=rbf ...................................\n",
            "[CV] ....... C=1, gamma=0.0001, kernel=rbf, score=0.889, total=   5.6s\n",
            "[CV] C=1, gamma=0.0001, kernel=rbf ...................................\n",
            "[CV] ....... C=1, gamma=0.0001, kernel=rbf, score=0.890, total=   5.7s\n",
            "[CV] C=1, gamma=0.0001, kernel=rbf ...................................\n",
            "[CV] ....... C=1, gamma=0.0001, kernel=rbf, score=0.889, total=   5.6s\n",
            "[CV] C=1, gamma=0.0001, kernel=rbf ...................................\n",
            "[CV] ....... C=1, gamma=0.0001, kernel=rbf, score=0.890, total=   5.6s\n",
            "[CV] C=1, gamma=0.0001, kernel=rbf ...................................\n",
            "[CV] ....... C=1, gamma=0.0001, kernel=rbf, score=0.890, total=   5.5s\n",
            "[CV] C=10, gamma=1, kernel=rbf .......................................\n",
            "[CV] ........... C=10, gamma=1, kernel=rbf, score=0.917, total=  12.2s\n",
            "[CV] C=10, gamma=1, kernel=rbf .......................................\n",
            "[CV] ........... C=10, gamma=1, kernel=rbf, score=0.901, total=  11.9s\n",
            "[CV] C=10, gamma=1, kernel=rbf .......................................\n",
            "[CV] ........... C=10, gamma=1, kernel=rbf, score=0.919, total=  11.8s\n",
            "[CV] C=10, gamma=1, kernel=rbf .......................................\n",
            "[CV] ........... C=10, gamma=1, kernel=rbf, score=0.860, total=  11.2s\n",
            "[CV] C=10, gamma=1, kernel=rbf .......................................\n",
            "[CV] ........... C=10, gamma=1, kernel=rbf, score=0.865, total=  11.4s\n",
            "[CV] C=10, gamma=0.1, kernel=rbf .....................................\n",
            "[CV] ......... C=10, gamma=0.1, kernel=rbf, score=0.997, total=   1.7s\n",
            "[CV] C=10, gamma=0.1, kernel=rbf .....................................\n",
            "[CV] ......... C=10, gamma=0.1, kernel=rbf, score=0.999, total=   1.7s\n",
            "[CV] C=10, gamma=0.1, kernel=rbf .....................................\n",
            "[CV] ......... C=10, gamma=0.1, kernel=rbf, score=0.998, total=   1.7s\n",
            "[CV] C=10, gamma=0.1, kernel=rbf .....................................\n",
            "[CV] ......... C=10, gamma=0.1, kernel=rbf, score=0.998, total=   1.6s\n",
            "[CV] C=10, gamma=0.1, kernel=rbf .....................................\n",
            "[CV] ......... C=10, gamma=0.1, kernel=rbf, score=0.997, total=   1.6s\n",
            "[CV] C=10, gamma=0.01, kernel=rbf ....................................\n",
            "[CV] ........ C=10, gamma=0.01, kernel=rbf, score=1.000, total=   0.4s\n",
            "[CV] C=10, gamma=0.01, kernel=rbf ....................................\n",
            "[CV] ........ C=10, gamma=0.01, kernel=rbf, score=1.000, total=   0.5s\n",
            "[CV] C=10, gamma=0.01, kernel=rbf ....................................\n",
            "[CV] ........ C=10, gamma=0.01, kernel=rbf, score=1.000, total=   0.4s\n",
            "[CV] C=10, gamma=0.01, kernel=rbf ....................................\n",
            "[CV] ........ C=10, gamma=0.01, kernel=rbf, score=1.000, total=   0.4s\n",
            "[CV] C=10, gamma=0.01, kernel=rbf ....................................\n",
            "[CV] ........ C=10, gamma=0.01, kernel=rbf, score=1.000, total=   0.4s\n",
            "[CV] C=10, gamma=0.001, kernel=rbf ...................................\n",
            "[CV] ....... C=10, gamma=0.001, kernel=rbf, score=1.000, total=   0.9s\n",
            "[CV] C=10, gamma=0.001, kernel=rbf ...................................\n",
            "[CV] ....... C=10, gamma=0.001, kernel=rbf, score=1.000, total=   0.9s\n",
            "[CV] C=10, gamma=0.001, kernel=rbf ...................................\n",
            "[CV] ....... C=10, gamma=0.001, kernel=rbf, score=1.000, total=   0.9s\n",
            "[CV] C=10, gamma=0.001, kernel=rbf ...................................\n",
            "[CV] ....... C=10, gamma=0.001, kernel=rbf, score=1.000, total=   0.8s\n",
            "[CV] C=10, gamma=0.001, kernel=rbf ...................................\n",
            "[CV] ....... C=10, gamma=0.001, kernel=rbf, score=1.000, total=   0.9s\n",
            "[CV] C=10, gamma=0.0001, kernel=rbf ..................................\n",
            "[CV] ...... C=10, gamma=0.0001, kernel=rbf, score=0.999, total=   2.4s\n",
            "[CV] C=10, gamma=0.0001, kernel=rbf ..................................\n",
            "[CV] ...... C=10, gamma=0.0001, kernel=rbf, score=0.999, total=   2.4s\n",
            "[CV] C=10, gamma=0.0001, kernel=rbf ..................................\n",
            "[CV] ...... C=10, gamma=0.0001, kernel=rbf, score=0.999, total=   2.5s\n",
            "[CV] C=10, gamma=0.0001, kernel=rbf ..................................\n",
            "[CV] ...... C=10, gamma=0.0001, kernel=rbf, score=0.998, total=   2.6s\n",
            "[CV] C=10, gamma=0.0001, kernel=rbf ..................................\n",
            "[CV] ...... C=10, gamma=0.0001, kernel=rbf, score=1.000, total=   2.4s\n",
            "[CV] C=100, gamma=1, kernel=rbf ......................................\n",
            "[CV] .......... C=100, gamma=1, kernel=rbf, score=0.917, total=  12.2s\n",
            "[CV] C=100, gamma=1, kernel=rbf ......................................\n",
            "[CV] .......... C=100, gamma=1, kernel=rbf, score=0.901, total=  11.8s\n",
            "[CV] C=100, gamma=1, kernel=rbf ......................................\n",
            "[CV] .......... C=100, gamma=1, kernel=rbf, score=0.919, total=  11.7s\n",
            "[CV] C=100, gamma=1, kernel=rbf ......................................\n",
            "[CV] .......... C=100, gamma=1, kernel=rbf, score=0.860, total=  11.2s\n",
            "[CV] C=100, gamma=1, kernel=rbf ......................................\n",
            "[CV] .......... C=100, gamma=1, kernel=rbf, score=0.865, total=  11.4s\n",
            "[CV] C=100, gamma=0.1, kernel=rbf ....................................\n",
            "[CV] ........ C=100, gamma=0.1, kernel=rbf, score=0.997, total=   1.7s\n",
            "[CV] C=100, gamma=0.1, kernel=rbf ....................................\n",
            "[CV] ........ C=100, gamma=0.1, kernel=rbf, score=0.999, total=   1.7s\n",
            "[CV] C=100, gamma=0.1, kernel=rbf ....................................\n",
            "[CV] ........ C=100, gamma=0.1, kernel=rbf, score=0.998, total=   1.7s\n",
            "[CV] C=100, gamma=0.1, kernel=rbf ....................................\n",
            "[CV] ........ C=100, gamma=0.1, kernel=rbf, score=0.998, total=   1.6s\n",
            "[CV] C=100, gamma=0.1, kernel=rbf ....................................\n",
            "[CV] ........ C=100, gamma=0.1, kernel=rbf, score=0.997, total=   1.6s\n",
            "[CV] C=100, gamma=0.01, kernel=rbf ...................................\n",
            "[CV] ....... C=100, gamma=0.01, kernel=rbf, score=1.000, total=   0.4s\n",
            "[CV] C=100, gamma=0.01, kernel=rbf ...................................\n",
            "[CV] ....... C=100, gamma=0.01, kernel=rbf, score=1.000, total=   0.4s\n",
            "[CV] C=100, gamma=0.01, kernel=rbf ...................................\n",
            "[CV] ....... C=100, gamma=0.01, kernel=rbf, score=1.000, total=   0.5s\n",
            "[CV] C=100, gamma=0.01, kernel=rbf ...................................\n",
            "[CV] ....... C=100, gamma=0.01, kernel=rbf, score=1.000, total=   0.4s\n",
            "[CV] C=100, gamma=0.01, kernel=rbf ...................................\n",
            "[CV] ....... C=100, gamma=0.01, kernel=rbf, score=1.000, total=   0.4s\n",
            "[CV] C=100, gamma=0.001, kernel=rbf ..................................\n",
            "[CV] ...... C=100, gamma=0.001, kernel=rbf, score=1.000, total=   0.5s\n",
            "[CV] C=100, gamma=0.001, kernel=rbf ..................................\n",
            "[CV] ...... C=100, gamma=0.001, kernel=rbf, score=1.000, total=   0.5s\n",
            "[CV] C=100, gamma=0.001, kernel=rbf ..................................\n",
            "[CV] ...... C=100, gamma=0.001, kernel=rbf, score=1.000, total=   0.5s\n",
            "[CV] C=100, gamma=0.001, kernel=rbf ..................................\n",
            "[CV] ...... C=100, gamma=0.001, kernel=rbf, score=1.000, total=   0.5s\n",
            "[CV] C=100, gamma=0.001, kernel=rbf ..................................\n",
            "[CV] ...... C=100, gamma=0.001, kernel=rbf, score=1.000, total=   0.5s\n",
            "[CV] C=100, gamma=0.0001, kernel=rbf .................................\n",
            "[CV] ..... C=100, gamma=0.0001, kernel=rbf, score=1.000, total=   1.2s\n",
            "[CV] C=100, gamma=0.0001, kernel=rbf .................................\n",
            "[CV] ..... C=100, gamma=0.0001, kernel=rbf, score=1.000, total=   1.2s\n",
            "[CV] C=100, gamma=0.0001, kernel=rbf .................................\n",
            "[CV] ..... C=100, gamma=0.0001, kernel=rbf, score=1.000, total=   1.1s\n",
            "[CV] C=100, gamma=0.0001, kernel=rbf .................................\n",
            "[CV] ..... C=100, gamma=0.0001, kernel=rbf, score=1.000, total=   1.2s\n",
            "[CV] C=100, gamma=0.0001, kernel=rbf .................................\n",
            "[CV] ..... C=100, gamma=0.0001, kernel=rbf, score=1.000, total=   1.1s\n",
            "[CV] C=1000, gamma=1, kernel=rbf .....................................\n",
            "[CV] ......... C=1000, gamma=1, kernel=rbf, score=0.917, total=  12.1s\n",
            "[CV] C=1000, gamma=1, kernel=rbf .....................................\n",
            "[CV] ......... C=1000, gamma=1, kernel=rbf, score=0.901, total=  11.7s\n",
            "[CV] C=1000, gamma=1, kernel=rbf .....................................\n",
            "[CV] ......... C=1000, gamma=1, kernel=rbf, score=0.919, total=  11.7s\n",
            "[CV] C=1000, gamma=1, kernel=rbf .....................................\n",
            "[CV] ......... C=1000, gamma=1, kernel=rbf, score=0.860, total=  11.1s\n",
            "[CV] C=1000, gamma=1, kernel=rbf .....................................\n",
            "[CV] ......... C=1000, gamma=1, kernel=rbf, score=0.865, total=  11.4s\n",
            "[CV] C=1000, gamma=0.1, kernel=rbf ...................................\n",
            "[CV] ....... C=1000, gamma=0.1, kernel=rbf, score=0.997, total=   1.7s\n",
            "[CV] C=1000, gamma=0.1, kernel=rbf ...................................\n",
            "[CV] ....... C=1000, gamma=0.1, kernel=rbf, score=0.999, total=   1.7s\n",
            "[CV] C=1000, gamma=0.1, kernel=rbf ...................................\n",
            "[CV] ....... C=1000, gamma=0.1, kernel=rbf, score=0.998, total=   1.7s\n",
            "[CV] C=1000, gamma=0.1, kernel=rbf ...................................\n",
            "[CV] ....... C=1000, gamma=0.1, kernel=rbf, score=0.998, total=   1.6s\n",
            "[CV] C=1000, gamma=0.1, kernel=rbf ...................................\n",
            "[CV] ....... C=1000, gamma=0.1, kernel=rbf, score=0.997, total=   1.6s\n",
            "[CV] C=1000, gamma=0.01, kernel=rbf ..................................\n",
            "[CV] ...... C=1000, gamma=0.01, kernel=rbf, score=1.000, total=   0.4s\n",
            "[CV] C=1000, gamma=0.01, kernel=rbf ..................................\n",
            "[CV] ...... C=1000, gamma=0.01, kernel=rbf, score=1.000, total=   0.4s\n",
            "[CV] C=1000, gamma=0.01, kernel=rbf ..................................\n",
            "[CV] ...... C=1000, gamma=0.01, kernel=rbf, score=1.000, total=   0.4s\n",
            "[CV] C=1000, gamma=0.01, kernel=rbf ..................................\n",
            "[CV] ...... C=1000, gamma=0.01, kernel=rbf, score=1.000, total=   0.4s\n",
            "[CV] C=1000, gamma=0.01, kernel=rbf ..................................\n",
            "[CV] ...... C=1000, gamma=0.01, kernel=rbf, score=1.000, total=   0.4s\n",
            "[CV] C=1000, gamma=0.001, kernel=rbf .................................\n",
            "[CV] ..... C=1000, gamma=0.001, kernel=rbf, score=1.000, total=   0.5s\n",
            "[CV] C=1000, gamma=0.001, kernel=rbf .................................\n",
            "[CV] ..... C=1000, gamma=0.001, kernel=rbf, score=1.000, total=   0.5s\n",
            "[CV] C=1000, gamma=0.001, kernel=rbf .................................\n",
            "[CV] ..... C=1000, gamma=0.001, kernel=rbf, score=1.000, total=   0.5s\n",
            "[CV] C=1000, gamma=0.001, kernel=rbf .................................\n",
            "[CV] ..... C=1000, gamma=0.001, kernel=rbf, score=1.000, total=   0.5s\n",
            "[CV] C=1000, gamma=0.001, kernel=rbf .................................\n",
            "[CV] ..... C=1000, gamma=0.001, kernel=rbf, score=1.000, total=   0.5s\n",
            "[CV] C=1000, gamma=0.0001, kernel=rbf ................................\n",
            "[CV] .... C=1000, gamma=0.0001, kernel=rbf, score=1.000, total=   1.3s\n",
            "[CV] C=1000, gamma=0.0001, kernel=rbf ................................\n",
            "[CV] .... C=1000, gamma=0.0001, kernel=rbf, score=1.000, total=   1.3s\n",
            "[CV] C=1000, gamma=0.0001, kernel=rbf ................................\n",
            "[CV] .... C=1000, gamma=0.0001, kernel=rbf, score=1.000, total=   1.4s\n",
            "[CV] C=1000, gamma=0.0001, kernel=rbf ................................\n",
            "[CV] .... C=1000, gamma=0.0001, kernel=rbf, score=1.000, total=   1.6s\n",
            "[CV] C=1000, gamma=0.0001, kernel=rbf ................................\n",
            "[CV] .... C=1000, gamma=0.0001, kernel=rbf, score=1.000, total=   1.4s\n"
          ],
          "name": "stdout"
        },
        {
          "output_type": "stream",
          "text": [
            "[Parallel(n_jobs=1)]: Done 125 out of 125 | elapsed:  8.0min finished\n"
          ],
          "name": "stderr"
        },
        {
          "output_type": "execute_result",
          "data": {
            "text/plain": [
              "GridSearchCV(cv=None, error_score=nan,\n",
              "             estimator=SVC(C=1.0, break_ties=False, cache_size=200,\n",
              "                           class_weight=None, coef0=0.0,\n",
              "                           decision_function_shape='ovr', degree=3,\n",
              "                           gamma='scale', kernel='rbf', max_iter=-1,\n",
              "                           probability=False, random_state=None, shrinking=True,\n",
              "                           tol=0.001, verbose=False),\n",
              "             iid='deprecated', n_jobs=None,\n",
              "             param_grid={'C': [0.1, 1, 10, 100, 1000],\n",
              "                         'gamma': [1, 0.1, 0.01, 0.001, 0.0001],\n",
              "                         'kernel': ['rbf']},\n",
              "             pre_dispatch='2*n_jobs', refit=True, return_train_score=False,\n",
              "             scoring=None, verbose=3)"
            ]
          },
          "metadata": {
            "tags": []
          },
          "execution_count": 59
        }
      ]
    },
    {
      "cell_type": "code",
      "metadata": {
        "id": "ADeENWW4ek8O",
        "colab": {
          "base_uri": "https://localhost:8080/",
          "height": 105
        },
        "outputId": "ca2ba0a1-83ae-47cb-d7f9-0c3596c2e3d5"
      },
      "source": [
        "#########################\n",
        "\n",
        "\n",
        "\n",
        "\n",
        "\n",
        "\n",
        "\n",
        "# print best parameter after tuning \n",
        "print(grid.best_params_) \n",
        "\n",
        "# print how our model looks after hyper-parameter tuning \n",
        "print(grid.best_estimator_) \n",
        "\n",
        "\n",
        "###########################"
      ],
      "execution_count": null,
      "outputs": [
        {
          "output_type": "stream",
          "text": [
            "{'C': 10, 'gamma': 0.001, 'kernel': 'rbf'}\n",
            "SVC(C=10, break_ties=False, cache_size=200, class_weight=None, coef0=0.0,\n",
            "    decision_function_shape='ovr', degree=3, gamma=0.001, kernel='rbf',\n",
            "    max_iter=-1, probability=False, random_state=None, shrinking=True,\n",
            "    tol=0.001, verbose=False)\n"
          ],
          "name": "stdout"
        }
      ]
    },
    {
      "cell_type": "code",
      "metadata": {
        "id": "DQEUVPYJe6lh",
        "colab": {
          "base_uri": "https://localhost:8080/",
          "height": 34
        },
        "outputId": "de3a0ced-9e25-4eec-b594-2802dfb6b3b2"
      },
      "source": [
        "# train the model on train set \n",
        "from sklearn import svm\n",
        "from sklearn.model_selection import cross_val_score\n",
        "\n",
        "\n",
        "#https://stackoverflow.com/questions/50394644/how-to-calculate-sensitvity-and-specificity-in-cross-validation\n",
        "#Recall/ Precision\n",
        "############################################# Change Hyperparameters here    ##############################\n",
        "clf = svm.SVC(kernel='rbf', probability=True,C=10.0, gamma=0.001, random_state=None,).fit(X,y.ravel())\n",
        "#print(cross_val_score(clf, X, y.ravel(), cv=10, scoring='recall').mean())\n",
        "#b_a= cross_val_score(clf, X ,y.ravel(),cv=10, scoring='balanced_accuracy') \n",
        "#sens=cross_val_score(clf, X, y.ravel(), cv=10, scoring='recall')\n",
        "#print (((2*b_a)-sens).mean())\n",
        "print(cross_val_score(clf, X, y.ravel(), cv=10, scoring='accuracy').mean())\n",
        "#print(cross_val_score(clf, X, y.ravel(), cv=10, scoring='roc_auc').mean())\n"
      ],
      "execution_count": null,
      "outputs": [
        {
          "output_type": "stream",
          "text": [
            "1.0\n"
          ],
          "name": "stdout"
        }
      ]
    },
    {
      "cell_type": "code",
      "metadata": {
        "id": "YH_DB_LIg1sR",
        "colab": {
          "base_uri": "https://localhost:8080/",
          "height": 426
        },
        "outputId": "bd8fcf94-800c-49be-9f9a-2fd929510930"
      },
      "source": [
        "x1"
      ],
      "execution_count": null,
      "outputs": [
        {
          "output_type": "execute_result",
          "data": {
            "text/html": [
              "<div>\n",
              "<style scoped>\n",
              "    .dataframe tbody tr th:only-of-type {\n",
              "        vertical-align: middle;\n",
              "    }\n",
              "\n",
              "    .dataframe tbody tr th {\n",
              "        vertical-align: top;\n",
              "    }\n",
              "\n",
              "    .dataframe thead th {\n",
              "        text-align: right;\n",
              "    }\n",
              "</style>\n",
              "<table border=\"1\" class=\"dataframe\">\n",
              "  <thead>\n",
              "    <tr style=\"text-align: right;\">\n",
              "      <th></th>\n",
              "      <th>Crash_Severity</th>\n",
              "      <th>Crash_Year</th>\n",
              "      <th>Crash_Nature</th>\n",
              "      <th>Crash_Type</th>\n",
              "      <th>Loc_ABS_Remoteness</th>\n",
              "      <th>Crash_Roadway_Feature</th>\n",
              "      <th>Crash_Traffic_Control</th>\n",
              "      <th>Crash_Road_Surface_Condition</th>\n",
              "      <th>Crash_Lighting_Condition</th>\n",
              "      <th>Crash_Road_Horiz_Align</th>\n",
              "      <th>Crash_Road_Vert_Align</th>\n",
              "      <th>Count_Casualty_Fatality</th>\n",
              "      <th>Count_Casualty_Hospitalised</th>\n",
              "      <th>Count_Casualty_MedicallyTreated</th>\n",
              "      <th>Count_Casualty_MinorInjury</th>\n",
              "      <th>Count_Unit_Motorcycle_Moped</th>\n",
              "      <th>Count_Unit_Bicycle</th>\n",
              "      <th>Count_Unit_Pedestrian</th>\n",
              "    </tr>\n",
              "  </thead>\n",
              "  <tbody>\n",
              "    <tr>\n",
              "      <th>0</th>\n",
              "      <td>1</td>\n",
              "      <td>0</td>\n",
              "      <td>7</td>\n",
              "      <td>0</td>\n",
              "      <td>1</td>\n",
              "      <td>4</td>\n",
              "      <td>3</td>\n",
              "      <td>0</td>\n",
              "      <td>0</td>\n",
              "      <td>2</td>\n",
              "      <td>3</td>\n",
              "      <td>0</td>\n",
              "      <td>1</td>\n",
              "      <td>0</td>\n",
              "      <td>0</td>\n",
              "      <td>0</td>\n",
              "      <td>0</td>\n",
              "      <td>1</td>\n",
              "    </tr>\n",
              "    <tr>\n",
              "      <th>1</th>\n",
              "      <td>1</td>\n",
              "      <td>0</td>\n",
              "      <td>0</td>\n",
              "      <td>1</td>\n",
              "      <td>1</td>\n",
              "      <td>7</td>\n",
              "      <td>2</td>\n",
              "      <td>0</td>\n",
              "      <td>3</td>\n",
              "      <td>2</td>\n",
              "      <td>3</td>\n",
              "      <td>0</td>\n",
              "      <td>1</td>\n",
              "      <td>0</td>\n",
              "      <td>0</td>\n",
              "      <td>0</td>\n",
              "      <td>1</td>\n",
              "      <td>0</td>\n",
              "    </tr>\n",
              "    <tr>\n",
              "      <th>2</th>\n",
              "      <td>1</td>\n",
              "      <td>0</td>\n",
              "      <td>5</td>\n",
              "      <td>3</td>\n",
              "      <td>1</td>\n",
              "      <td>11</td>\n",
              "      <td>2</td>\n",
              "      <td>0</td>\n",
              "      <td>3</td>\n",
              "      <td>1</td>\n",
              "      <td>3</td>\n",
              "      <td>0</td>\n",
              "      <td>1</td>\n",
              "      <td>1</td>\n",
              "      <td>0</td>\n",
              "      <td>0</td>\n",
              "      <td>0</td>\n",
              "      <td>2</td>\n",
              "    </tr>\n",
              "    <tr>\n",
              "      <th>3</th>\n",
              "      <td>2</td>\n",
              "      <td>0</td>\n",
              "      <td>7</td>\n",
              "      <td>0</td>\n",
              "      <td>1</td>\n",
              "      <td>11</td>\n",
              "      <td>2</td>\n",
              "      <td>0</td>\n",
              "      <td>2</td>\n",
              "      <td>2</td>\n",
              "      <td>3</td>\n",
              "      <td>0</td>\n",
              "      <td>0</td>\n",
              "      <td>1</td>\n",
              "      <td>0</td>\n",
              "      <td>0</td>\n",
              "      <td>0</td>\n",
              "      <td>1</td>\n",
              "    </tr>\n",
              "    <tr>\n",
              "      <th>4</th>\n",
              "      <td>2</td>\n",
              "      <td>0</td>\n",
              "      <td>10</td>\n",
              "      <td>1</td>\n",
              "      <td>1</td>\n",
              "      <td>11</td>\n",
              "      <td>2</td>\n",
              "      <td>0</td>\n",
              "      <td>3</td>\n",
              "      <td>2</td>\n",
              "      <td>3</td>\n",
              "      <td>0</td>\n",
              "      <td>0</td>\n",
              "      <td>1</td>\n",
              "      <td>0</td>\n",
              "      <td>0</td>\n",
              "      <td>1</td>\n",
              "      <td>0</td>\n",
              "    </tr>\n",
              "    <tr>\n",
              "      <th>...</th>\n",
              "      <td>...</td>\n",
              "      <td>...</td>\n",
              "      <td>...</td>\n",
              "      <td>...</td>\n",
              "      <td>...</td>\n",
              "      <td>...</td>\n",
              "      <td>...</td>\n",
              "      <td>...</td>\n",
              "      <td>...</td>\n",
              "      <td>...</td>\n",
              "      <td>...</td>\n",
              "      <td>...</td>\n",
              "      <td>...</td>\n",
              "      <td>...</td>\n",
              "      <td>...</td>\n",
              "      <td>...</td>\n",
              "      <td>...</td>\n",
              "      <td>...</td>\n",
              "    </tr>\n",
              "    <tr>\n",
              "      <th>13036</th>\n",
              "      <td>1</td>\n",
              "      <td>4</td>\n",
              "      <td>10</td>\n",
              "      <td>1</td>\n",
              "      <td>1</td>\n",
              "      <td>11</td>\n",
              "      <td>2</td>\n",
              "      <td>0</td>\n",
              "      <td>3</td>\n",
              "      <td>2</td>\n",
              "      <td>3</td>\n",
              "      <td>0</td>\n",
              "      <td>1</td>\n",
              "      <td>0</td>\n",
              "      <td>0</td>\n",
              "      <td>1</td>\n",
              "      <td>0</td>\n",
              "      <td>0</td>\n",
              "    </tr>\n",
              "    <tr>\n",
              "      <th>13037</th>\n",
              "      <td>2</td>\n",
              "      <td>4</td>\n",
              "      <td>7</td>\n",
              "      <td>0</td>\n",
              "      <td>1</td>\n",
              "      <td>11</td>\n",
              "      <td>2</td>\n",
              "      <td>0</td>\n",
              "      <td>0</td>\n",
              "      <td>2</td>\n",
              "      <td>3</td>\n",
              "      <td>0</td>\n",
              "      <td>0</td>\n",
              "      <td>1</td>\n",
              "      <td>0</td>\n",
              "      <td>0</td>\n",
              "      <td>0</td>\n",
              "      <td>1</td>\n",
              "    </tr>\n",
              "    <tr>\n",
              "      <th>13038</th>\n",
              "      <td>1</td>\n",
              "      <td>4</td>\n",
              "      <td>0</td>\n",
              "      <td>1</td>\n",
              "      <td>1</td>\n",
              "      <td>11</td>\n",
              "      <td>2</td>\n",
              "      <td>0</td>\n",
              "      <td>3</td>\n",
              "      <td>2</td>\n",
              "      <td>3</td>\n",
              "      <td>0</td>\n",
              "      <td>1</td>\n",
              "      <td>0</td>\n",
              "      <td>0</td>\n",
              "      <td>1</td>\n",
              "      <td>0</td>\n",
              "      <td>0</td>\n",
              "    </tr>\n",
              "    <tr>\n",
              "      <th>13039</th>\n",
              "      <td>1</td>\n",
              "      <td>4</td>\n",
              "      <td>7</td>\n",
              "      <td>0</td>\n",
              "      <td>1</td>\n",
              "      <td>11</td>\n",
              "      <td>2</td>\n",
              "      <td>0</td>\n",
              "      <td>0</td>\n",
              "      <td>2</td>\n",
              "      <td>3</td>\n",
              "      <td>0</td>\n",
              "      <td>1</td>\n",
              "      <td>0</td>\n",
              "      <td>0</td>\n",
              "      <td>0</td>\n",
              "      <td>1</td>\n",
              "      <td>0</td>\n",
              "    </tr>\n",
              "    <tr>\n",
              "      <th>13040</th>\n",
              "      <td>1</td>\n",
              "      <td>4</td>\n",
              "      <td>2</td>\n",
              "      <td>3</td>\n",
              "      <td>1</td>\n",
              "      <td>7</td>\n",
              "      <td>2</td>\n",
              "      <td>0</td>\n",
              "      <td>2</td>\n",
              "      <td>2</td>\n",
              "      <td>3</td>\n",
              "      <td>0</td>\n",
              "      <td>1</td>\n",
              "      <td>0</td>\n",
              "      <td>0</td>\n",
              "      <td>1</td>\n",
              "      <td>0</td>\n",
              "      <td>0</td>\n",
              "    </tr>\n",
              "  </tbody>\n",
              "</table>\n",
              "<p>13041 rows × 18 columns</p>\n",
              "</div>"
            ],
            "text/plain": [
              "       Crash_Severity  Crash_Year  ...  Count_Unit_Bicycle  Count_Unit_Pedestrian\n",
              "0                   1           0  ...                   0                      1\n",
              "1                   1           0  ...                   1                      0\n",
              "2                   1           0  ...                   0                      2\n",
              "3                   2           0  ...                   0                      1\n",
              "4                   2           0  ...                   1                      0\n",
              "...               ...         ...  ...                 ...                    ...\n",
              "13036               1           4  ...                   0                      0\n",
              "13037               2           4  ...                   0                      1\n",
              "13038               1           4  ...                   0                      0\n",
              "13039               1           4  ...                   1                      0\n",
              "13040               1           4  ...                   0                      0\n",
              "\n",
              "[13041 rows x 18 columns]"
            ]
          },
          "metadata": {
            "tags": []
          },
          "execution_count": 62
        }
      ]
    },
    {
      "cell_type": "code",
      "metadata": {
        "id": "e95pewpYhGtf"
      },
      "source": [
        "#One Vs ALl\n",
        "##  Class 0  Vs (class 1 & 2 & 3) ###############\n",
        "#y=y3[y3!=2]\n",
        "#x1=x[y3!=2]\n",
        "\n",
        "#x1, y = x[y3 != 2], y3[y3 != 2]\n",
        "#putting x as X, putting only y=1, converting y=0 as 0, y=2 as 0\n",
        "\n",
        "\n",
        "x1=x1;\n",
        "ya=np.where(y2==0, 10, y2) \n",
        "yb=np.where(ya==1, 20, ya) \n",
        "yc=np.where(yb==2, 30, yb) \n",
        "yd=np.where(yc==3, 40, yb) \n",
        "\n",
        "yd=np.where(yc==10, 1, yc) \n",
        "ye=np.where(yd==20, 0, yd) \n",
        "yf=np.where(ye==30, 0, ye) \n",
        "y=np.where(yf==40, 0, ye) \n"
      ],
      "execution_count": null,
      "outputs": []
    },
    {
      "cell_type": "code",
      "metadata": {
        "id": "V9Mnug1Ijys4",
        "colab": {
          "base_uri": "https://localhost:8080/",
          "height": 34
        },
        "outputId": "2c0abca2-1c09-4f1f-91da-e697c8cb83dc"
      },
      "source": [
        "x1.shape, y.shape"
      ],
      "execution_count": null,
      "outputs": [
        {
          "output_type": "execute_result",
          "data": {
            "text/plain": [
              "((13041, 13), (13041,))"
            ]
          },
          "metadata": {
            "tags": []
          },
          "execution_count": 66
        }
      ]
    },
    {
      "cell_type": "code",
      "metadata": {
        "id": "CAxP2pxJrih3",
        "colab": {
          "base_uri": "https://localhost:8080/",
          "height": 439
        },
        "outputId": "77d7d272-281f-48fa-a73a-8d989f69212c"
      },
      "source": [
        "x1"
      ],
      "execution_count": null,
      "outputs": [
        {
          "output_type": "execute_result",
          "data": {
            "text/html": [
              "<div>\n",
              "<style scoped>\n",
              "    .dataframe tbody tr th:only-of-type {\n",
              "        vertical-align: middle;\n",
              "    }\n",
              "\n",
              "    .dataframe tbody tr th {\n",
              "        vertical-align: top;\n",
              "    }\n",
              "\n",
              "    .dataframe thead th {\n",
              "        text-align: right;\n",
              "    }\n",
              "</style>\n",
              "<table border=\"1\" class=\"dataframe\">\n",
              "  <thead>\n",
              "    <tr style=\"text-align: right;\">\n",
              "      <th></th>\n",
              "      <th>Crash_Severity</th>\n",
              "      <th>Crash_Nature</th>\n",
              "      <th>Crash_Type</th>\n",
              "      <th>Loc_ABS_Remoteness</th>\n",
              "      <th>Crash_Roadway_Feature</th>\n",
              "      <th>Crash_Traffic_Control</th>\n",
              "      <th>Crash_Road_Surface_Condition</th>\n",
              "      <th>Crash_Lighting_Condition</th>\n",
              "      <th>Crash_Road_Horiz_Align</th>\n",
              "      <th>Crash_Road_Vert_Align</th>\n",
              "      <th>Count_Unit_Motorcycle_Moped</th>\n",
              "      <th>Count_Unit_Bicycle</th>\n",
              "      <th>Count_Unit_Pedestrian</th>\n",
              "    </tr>\n",
              "  </thead>\n",
              "  <tbody>\n",
              "    <tr>\n",
              "      <th>0</th>\n",
              "      <td>1</td>\n",
              "      <td>7</td>\n",
              "      <td>0</td>\n",
              "      <td>1</td>\n",
              "      <td>4</td>\n",
              "      <td>3</td>\n",
              "      <td>0</td>\n",
              "      <td>0</td>\n",
              "      <td>2</td>\n",
              "      <td>3</td>\n",
              "      <td>0</td>\n",
              "      <td>0</td>\n",
              "      <td>1</td>\n",
              "    </tr>\n",
              "    <tr>\n",
              "      <th>1</th>\n",
              "      <td>1</td>\n",
              "      <td>0</td>\n",
              "      <td>1</td>\n",
              "      <td>1</td>\n",
              "      <td>7</td>\n",
              "      <td>2</td>\n",
              "      <td>0</td>\n",
              "      <td>3</td>\n",
              "      <td>2</td>\n",
              "      <td>3</td>\n",
              "      <td>0</td>\n",
              "      <td>1</td>\n",
              "      <td>0</td>\n",
              "    </tr>\n",
              "    <tr>\n",
              "      <th>2</th>\n",
              "      <td>1</td>\n",
              "      <td>5</td>\n",
              "      <td>3</td>\n",
              "      <td>1</td>\n",
              "      <td>11</td>\n",
              "      <td>2</td>\n",
              "      <td>0</td>\n",
              "      <td>3</td>\n",
              "      <td>1</td>\n",
              "      <td>3</td>\n",
              "      <td>0</td>\n",
              "      <td>0</td>\n",
              "      <td>2</td>\n",
              "    </tr>\n",
              "    <tr>\n",
              "      <th>3</th>\n",
              "      <td>2</td>\n",
              "      <td>7</td>\n",
              "      <td>0</td>\n",
              "      <td>1</td>\n",
              "      <td>11</td>\n",
              "      <td>2</td>\n",
              "      <td>0</td>\n",
              "      <td>2</td>\n",
              "      <td>2</td>\n",
              "      <td>3</td>\n",
              "      <td>0</td>\n",
              "      <td>0</td>\n",
              "      <td>1</td>\n",
              "    </tr>\n",
              "    <tr>\n",
              "      <th>4</th>\n",
              "      <td>2</td>\n",
              "      <td>10</td>\n",
              "      <td>1</td>\n",
              "      <td>1</td>\n",
              "      <td>11</td>\n",
              "      <td>2</td>\n",
              "      <td>0</td>\n",
              "      <td>3</td>\n",
              "      <td>2</td>\n",
              "      <td>3</td>\n",
              "      <td>0</td>\n",
              "      <td>1</td>\n",
              "      <td>0</td>\n",
              "    </tr>\n",
              "    <tr>\n",
              "      <th>...</th>\n",
              "      <td>...</td>\n",
              "      <td>...</td>\n",
              "      <td>...</td>\n",
              "      <td>...</td>\n",
              "      <td>...</td>\n",
              "      <td>...</td>\n",
              "      <td>...</td>\n",
              "      <td>...</td>\n",
              "      <td>...</td>\n",
              "      <td>...</td>\n",
              "      <td>...</td>\n",
              "      <td>...</td>\n",
              "      <td>...</td>\n",
              "    </tr>\n",
              "    <tr>\n",
              "      <th>13036</th>\n",
              "      <td>1</td>\n",
              "      <td>10</td>\n",
              "      <td>1</td>\n",
              "      <td>1</td>\n",
              "      <td>11</td>\n",
              "      <td>2</td>\n",
              "      <td>0</td>\n",
              "      <td>3</td>\n",
              "      <td>2</td>\n",
              "      <td>3</td>\n",
              "      <td>1</td>\n",
              "      <td>0</td>\n",
              "      <td>0</td>\n",
              "    </tr>\n",
              "    <tr>\n",
              "      <th>13037</th>\n",
              "      <td>2</td>\n",
              "      <td>7</td>\n",
              "      <td>0</td>\n",
              "      <td>1</td>\n",
              "      <td>11</td>\n",
              "      <td>2</td>\n",
              "      <td>0</td>\n",
              "      <td>0</td>\n",
              "      <td>2</td>\n",
              "      <td>3</td>\n",
              "      <td>0</td>\n",
              "      <td>0</td>\n",
              "      <td>1</td>\n",
              "    </tr>\n",
              "    <tr>\n",
              "      <th>13038</th>\n",
              "      <td>1</td>\n",
              "      <td>0</td>\n",
              "      <td>1</td>\n",
              "      <td>1</td>\n",
              "      <td>11</td>\n",
              "      <td>2</td>\n",
              "      <td>0</td>\n",
              "      <td>3</td>\n",
              "      <td>2</td>\n",
              "      <td>3</td>\n",
              "      <td>1</td>\n",
              "      <td>0</td>\n",
              "      <td>0</td>\n",
              "    </tr>\n",
              "    <tr>\n",
              "      <th>13039</th>\n",
              "      <td>1</td>\n",
              "      <td>7</td>\n",
              "      <td>0</td>\n",
              "      <td>1</td>\n",
              "      <td>11</td>\n",
              "      <td>2</td>\n",
              "      <td>0</td>\n",
              "      <td>0</td>\n",
              "      <td>2</td>\n",
              "      <td>3</td>\n",
              "      <td>0</td>\n",
              "      <td>1</td>\n",
              "      <td>0</td>\n",
              "    </tr>\n",
              "    <tr>\n",
              "      <th>13040</th>\n",
              "      <td>1</td>\n",
              "      <td>2</td>\n",
              "      <td>3</td>\n",
              "      <td>1</td>\n",
              "      <td>7</td>\n",
              "      <td>2</td>\n",
              "      <td>0</td>\n",
              "      <td>2</td>\n",
              "      <td>2</td>\n",
              "      <td>3</td>\n",
              "      <td>1</td>\n",
              "      <td>0</td>\n",
              "      <td>0</td>\n",
              "    </tr>\n",
              "  </tbody>\n",
              "</table>\n",
              "<p>13041 rows × 13 columns</p>\n",
              "</div>"
            ],
            "text/plain": [
              "       Crash_Severity  Crash_Nature  ...  Count_Unit_Bicycle  Count_Unit_Pedestrian\n",
              "0                   1             7  ...                   0                      1\n",
              "1                   1             0  ...                   1                      0\n",
              "2                   1             5  ...                   0                      2\n",
              "3                   2             7  ...                   0                      1\n",
              "4                   2            10  ...                   1                      0\n",
              "...               ...           ...  ...                 ...                    ...\n",
              "13036               1            10  ...                   0                      0\n",
              "13037               2             7  ...                   0                      1\n",
              "13038               1             0  ...                   0                      0\n",
              "13039               1             7  ...                   1                      0\n",
              "13040               1             2  ...                   0                      0\n",
              "\n",
              "[13041 rows x 13 columns]"
            ]
          },
          "metadata": {
            "tags": []
          },
          "execution_count": 67
        }
      ]
    },
    {
      "cell_type": "code",
      "metadata": {
        "id": "UShF5vJ9j195"
      },
      "source": [
        "\n",
        "\n",
        "#DEcomposition\n",
        "#https://scikit-learn.org/stable/auto_examples/classification/plot_classifier_comparison.html#sphx-glr-auto-examples-classification-plot-classifier-comparison-py\n",
        "\n",
        "from sklearn.preprocessing import StandardScaler\n",
        "X = StandardScaler().fit_transform(x1)"
      ],
      "execution_count": null,
      "outputs": []
    },
    {
      "cell_type": "code",
      "metadata": {
        "id": "cXCAMFPYj6ao",
        "colab": {
          "base_uri": "https://localhost:8080/",
          "height": 105
        },
        "outputId": "3030593c-93b4-4938-98cd-cbb82a1db37a"
      },
      "source": [
        "\n",
        "\n",
        "#####\n",
        "#https://towardsdatascience.com/hyperparameter-tuning-the-random-forest-in-python-using-scikit-learn-28d2aa77dd74\n",
        "from sklearn.model_selection import GridSearchCV\n",
        "#from sklearn.ensemble import RandomForestRegressor\n",
        "from sklearn.datasets import make_regression\n",
        "from sklearn.ensemble import RandomForestClassifier\n",
        "# Create the parameter grid based on the results of random search \n",
        "param_grid = {\n",
        "    'bootstrap': [True],\n",
        "    'max_depth': [2, 3, 4],\n",
        "    #'max_features': [1, 2],\n",
        "    #'min_samples_leaf': [4, 5,6],\n",
        "    #'min_samples_split': [2,3,4],\n",
        "    'n_estimators': [100, 200, 300]\n",
        "}\n",
        "# Create a based model\n",
        "#RandomForestClassifier\n",
        "#rf = RandomForestRegressor()\n",
        "rfc = RandomForestClassifier(random_state=42)\n",
        "# Instantiate the grid search model\n",
        "grid_search = GridSearchCV(estimator = rfc, param_grid = param_grid, \n",
        "                          cv = 10, n_jobs = -1, verbose = 2)\n",
        "\n",
        "\n",
        "\n",
        "# Fit the grid search to the data\n",
        "grid_search.fit(X, y.ravel())\n",
        "grid_search.best_params_\n",
        "\n",
        "####"
      ],
      "execution_count": null,
      "outputs": [
        {
          "output_type": "stream",
          "text": [
            "Fitting 10 folds for each of 9 candidates, totalling 90 fits\n"
          ],
          "name": "stdout"
        },
        {
          "output_type": "stream",
          "text": [
            "[Parallel(n_jobs=-1)]: Using backend LokyBackend with 2 concurrent workers.\n",
            "[Parallel(n_jobs=-1)]: Done  37 tasks      | elapsed:   15.7s\n",
            "[Parallel(n_jobs=-1)]: Done  90 out of  90 | elapsed:   43.8s finished\n"
          ],
          "name": "stderr"
        },
        {
          "output_type": "execute_result",
          "data": {
            "text/plain": [
              "{'bootstrap': True, 'max_depth': 2, 'n_estimators': 100}"
            ]
          },
          "metadata": {
            "tags": []
          },
          "execution_count": 89
        }
      ]
    },
    {
      "cell_type": "code",
      "metadata": {
        "id": "oVCKsTNTj-MA",
        "colab": {
          "base_uri": "https://localhost:8080/",
          "height": 34
        },
        "outputId": "5455305b-dbcb-418a-f654-141ee180674d"
      },
      "source": [
        "\n",
        "\n",
        "\n",
        "\n",
        "\n",
        "\n",
        "#https://stackoverflow.com/questions/50394644/how-to-calculate-sensitvity-and-specificity-in-cross-validation\n",
        "#https://stackoverflow.com/questions/50394644/how-to-calculate-sensitvity-and-specificity-in-cross-validation\n",
        "#Recall/ Precision\n",
        "\n",
        "# \"?? ????????? ??????\" ????? ?? \"?? ?????\" ???? ??????????\n",
        "#knn = KNeighborsClassifier(n_neighbors=26)\n",
        "\n",
        "knn= RandomForestClassifier(max_depth=2,n_estimators= 100, random_state = 42)\n",
        "\n",
        "from sklearn.model_selection import cross_val_score\n",
        "#print(cross_val_score(knn, X, y.ravel(), cv=10, scoring='recall').mean())\n",
        "#b_a= cross_val_score(knn, X ,y.ravel(),cv=10, scoring='balanced_accuracy') \n",
        "#sens=cross_val_score(knn, X, y.ravel(), cv=10, scoring='recall')\n",
        "#print (((2*b_a)-sens).mean())\n",
        "print(cross_val_score(knn, X, y.ravel(), cv=10, scoring='accuracy').mean())\n",
        "#print(cross_val_score(knn, X, y.ravel(), cv=10, scoring='roc_auc').mean())\n",
        "\n"
      ],
      "execution_count": null,
      "outputs": [
        {
          "output_type": "stream",
          "text": [
            "0.5649106786075266\n"
          ],
          "name": "stdout"
        }
      ]
    },
    {
      "cell_type": "code",
      "metadata": {
        "id": "qcbOt1UIkBiS",
        "colab": {
          "base_uri": "https://localhost:8080/",
          "height": 105
        },
        "outputId": "1b61d823-ee1e-4607-c499-1c21edef3b09"
      },
      "source": [
        "#One Vs ALl\n",
        "##  Class 0  Vs (class 1 & 2 & 3) ###############\n",
        "#y=y3[y3!=2]\n",
        "#x1=x[y3!=2]\n",
        "\n",
        "#x1, y = x[y3 != 2], y3[y3 != 2]\n",
        "#putting x as X, putting only y=1, converting y=0 as 0, y=2 as 0\n",
        "\n",
        "\n",
        "x1=x1;\n",
        "ya=np.where(y2==0, 10, y2) \n",
        "yb=np.where(ya==1, 20, ya) \n",
        "yc=np.where(yb==2, 30, yb) \n",
        "yd=np.where(yc==3, 40, yb) \n",
        "\n",
        "yd=np.where(yc==10, 0, yc) \n",
        "ye=np.where(yd==20, 1, yd) \n",
        "yf=np.where(ye==30, 0, ye) \n",
        "y=np.where(yf==40, 0, ye) \n",
        "\n",
        "\n",
        "\n",
        "#DEcomposition\n",
        "#https://scikit-learn.org/stable/auto_examples/classification/plot_classifier_comparison.html#sphx-glr-auto-examples-classification-plot-classifier-comparison-py\n",
        "\n",
        "from sklearn.preprocessing import StandardScaler\n",
        "X = StandardScaler().fit_transform(x1)\n",
        "\n",
        "\n",
        "#####\n",
        "#https://towardsdatascience.com/hyperparameter-tuning-the-random-forest-in-python-using-scikit-learn-28d2aa77dd74\n",
        "from sklearn.model_selection import GridSearchCV\n",
        "#from sklearn.ensemble import RandomForestRegressor\n",
        "from sklearn.datasets import make_regression\n",
        "from sklearn.ensemble import RandomForestClassifier\n",
        "# Create the parameter grid based on the results of random search \n",
        "param_grid = {\n",
        "    'bootstrap': [True],\n",
        "    'max_depth': [2, 3, 4],\n",
        "    #'max_features': [1, 2],\n",
        "    #'min_samples_leaf': [4, 5,6],\n",
        "    #'min_samples_split': [2,3,4],\n",
        "    'n_estimators': [100, 200, 300]\n",
        "}\n",
        "# Create a based model\n",
        "#RandomForestClassifier\n",
        "#rf = RandomForestRegressor()\n",
        "rfc = RandomForestClassifier(random_state=42)\n",
        "# Instantiate the grid search model\n",
        "grid_search = GridSearchCV(estimator = rfc, param_grid = param_grid, \n",
        "                          cv = 10, n_jobs = -1, verbose = 2)\n",
        "\n",
        "\n",
        "\n",
        "# Fit the grid search to the data\n",
        "grid_search.fit(X, y.ravel())\n",
        "grid_search.best_params_\n",
        "\n",
        "####"
      ],
      "execution_count": null,
      "outputs": [
        {
          "output_type": "stream",
          "text": [
            "Fitting 10 folds for each of 9 candidates, totalling 90 fits\n"
          ],
          "name": "stdout"
        },
        {
          "output_type": "stream",
          "text": [
            "[Parallel(n_jobs=-1)]: Using backend LokyBackend with 2 concurrent workers.\n",
            "[Parallel(n_jobs=-1)]: Done  37 tasks      | elapsed:   15.2s\n",
            "[Parallel(n_jobs=-1)]: Done  90 out of  90 | elapsed:   43.0s finished\n"
          ],
          "name": "stderr"
        },
        {
          "output_type": "execute_result",
          "data": {
            "text/plain": [
              "{'bootstrap': True, 'max_depth': 2, 'n_estimators': 100}"
            ]
          },
          "metadata": {
            "tags": []
          },
          "execution_count": 91
        }
      ]
    },
    {
      "cell_type": "code",
      "metadata": {
        "id": "_xwo54trkXYY",
        "colab": {
          "base_uri": "https://localhost:8080/",
          "height": 34
        },
        "outputId": "c0b0ae4c-b4a5-4bf8-f217-5e07d01951ca"
      },
      "source": [
        "\n",
        "\n",
        "\n",
        "\n",
        "\n",
        "\n",
        "#https://stackoverflow.com/questions/50394644/how-to-calculate-sensitvity-and-specificity-in-cross-validation\n",
        "#https://stackoverflow.com/questions/50394644/how-to-calculate-sensitvity-and-specificity-in-cross-validation\n",
        "#Recall/ Precision\n",
        "\n",
        "# \"?? ????????? ??????\" ????? ?? \"?? ?????\" ???? ??????????\n",
        "#knn = KNeighborsClassifier(n_neighbors=26)\n",
        "\n",
        "knn= RandomForestClassifier(max_depth=2,n_estimators= 100, random_state = 42)\n",
        "\n",
        "from sklearn.model_selection import cross_val_score\n",
        "#print(cross_val_score(knn, X, y.ravel(), cv=10, scoring='recall').mean())\n",
        "#b_a= cross_val_score(knn, X ,y.ravel(),cv=10, scoring='balanced_accuracy') \n",
        "#sens=cross_val_score(knn, X, y.ravel(), cv=10, scoring='recall')\n",
        "#print (((2*b_a)-sens).mean())\n",
        "print(cross_val_score(knn, X, y.ravel(), cv=10, scoring='accuracy').mean())\n",
        "#print(cross_val_score(knn, X, y.ravel(), cv=10, scoring='roc_auc').mean())\n",
        "\n"
      ],
      "execution_count": null,
      "outputs": [
        {
          "output_type": "stream",
          "text": [
            "0.5649106786075266\n"
          ],
          "name": "stdout"
        }
      ]
    },
    {
      "cell_type": "code",
      "metadata": {
        "id": "5xUXzsuBkaOO",
        "colab": {
          "base_uri": "https://localhost:8080/",
          "height": 105
        },
        "outputId": "01f465d5-3db6-49b9-f292-606f48ff123c"
      },
      "source": [
        "#One Vs ALl\n",
        "##  Class 0  Vs (class 1 & 2 & 3) ###############\n",
        "#y=y3[y3!=2]\n",
        "#x1=x[y3!=2]\n",
        "\n",
        "#x1, y = x[y3 != 2], y3[y3 != 2]\n",
        "#putting x as X, putting only y=1, converting y=0 as 0, y=2 as 0\n",
        "\n",
        "\n",
        "x1=x1;\n",
        "ya=np.where(y2==0, 10, y2) \n",
        "yb=np.where(ya==1, 20, ya) \n",
        "yc=np.where(yb==2, 30, yb) \n",
        "yd=np.where(yc==3, 40, yb) \n",
        "\n",
        "yd=np.where(yc==10, 0, yc) \n",
        "ye=np.where(yd==20, 0, yd) \n",
        "yf=np.where(ye==30, 1, ye) \n",
        "y=np.where(yf==40, 0, ye) \n",
        "\n",
        "\n",
        "\n",
        "#DEcomposition\n",
        "#https://scikit-learn.org/stable/auto_examples/classification/plot_classifier_comparison.html#sphx-glr-auto-examples-classification-plot-classifier-comparison-py\n",
        "\n",
        "from sklearn.preprocessing import StandardScaler\n",
        "X = StandardScaler().fit_transform(x1)\n",
        "\n",
        "\n",
        "#####\n",
        "#https://towardsdatascience.com/hyperparameter-tuning-the-random-forest-in-python-using-scikit-learn-28d2aa77dd74\n",
        "from sklearn.model_selection import GridSearchCV\n",
        "#from sklearn.ensemble import RandomForestRegressor\n",
        "from sklearn.datasets import make_regression\n",
        "from sklearn.ensemble import RandomForestClassifier\n",
        "# Create the parameter grid based on the results of random search \n",
        "param_grid = {\n",
        "    'bootstrap': [True],\n",
        "    'max_depth': [2, 3, 4],\n",
        "    #'max_features': [1, 2],\n",
        "    #'min_samples_leaf': [4, 5,6],\n",
        "    #'min_samples_split': [2,3,4],\n",
        "    'n_estimators': [100, 200, 300]\n",
        "}\n",
        "# Create a based model\n",
        "#RandomForestClassifier\n",
        "#rf = RandomForestRegressor()\n",
        "rfc = RandomForestClassifier(random_state=42)\n",
        "# Instantiate the grid search model\n",
        "grid_search = GridSearchCV(estimator = rfc, param_grid = param_grid, \n",
        "                          cv = 10, n_jobs = -1, verbose = 2)\n",
        "\n",
        "\n",
        "\n",
        "# Fit the grid search to the data\n",
        "grid_search.fit(X, y.ravel())\n",
        "grid_search.best_params_\n",
        "\n",
        "####"
      ],
      "execution_count": null,
      "outputs": [
        {
          "output_type": "stream",
          "text": [
            "Fitting 10 folds for each of 9 candidates, totalling 90 fits\n"
          ],
          "name": "stdout"
        },
        {
          "output_type": "stream",
          "text": [
            "[Parallel(n_jobs=-1)]: Using backend LokyBackend with 2 concurrent workers.\n",
            "[Parallel(n_jobs=-1)]: Done  37 tasks      | elapsed:   14.9s\n",
            "[Parallel(n_jobs=-1)]: Done  90 out of  90 | elapsed:   42.8s finished\n"
          ],
          "name": "stderr"
        },
        {
          "output_type": "execute_result",
          "data": {
            "text/plain": [
              "{'bootstrap': True, 'max_depth': 2, 'n_estimators': 100}"
            ]
          },
          "metadata": {
            "tags": []
          },
          "execution_count": 93
        }
      ]
    },
    {
      "cell_type": "code",
      "metadata": {
        "id": "ku9XxNnbkdT9",
        "colab": {
          "base_uri": "https://localhost:8080/",
          "height": 34
        },
        "outputId": "7e47d31e-9a90-4d0a-efaf-8d8409decd4f"
      },
      "source": [
        "\n",
        "\n",
        "\n",
        "\n",
        "\n",
        "\n",
        "#https://stackoverflow.com/questions/50394644/how-to-calculate-sensitvity-and-specificity-in-cross-validation\n",
        "#https://stackoverflow.com/questions/50394644/how-to-calculate-sensitvity-and-specificity-in-cross-validation\n",
        "#Recall/ Precision\n",
        "\n",
        "# \"?? ????????? ??????\" ????? ?? \"?? ?????\" ???? ??????????\n",
        "#knn = KNeighborsClassifier(n_neighbors=26)\n",
        "\n",
        "knn= RandomForestClassifier(max_depth=2,n_estimators= 100, random_state = 42)\n",
        "\n",
        "from sklearn.model_selection import cross_val_score\n",
        "#print(cross_val_score(knn, X, y.ravel(), cv=10, scoring='recall').mean())\n",
        "#b_a= cross_val_score(knn, X ,y.ravel(),cv=10, scoring='balanced_accuracy') \n",
        "#sens=cross_val_score(knn, X, y.ravel(), cv=10, scoring='recall')\n",
        "#print (((2*b_a)-sens).mean())\n",
        "print(cross_val_score(knn, X, y.ravel(), cv=10, scoring='accuracy').mean())\n",
        "#print(cross_val_score(knn, X, y.ravel(), cv=10, scoring='roc_auc').mean())\n",
        "\n"
      ],
      "execution_count": null,
      "outputs": [
        {
          "output_type": "stream",
          "text": [
            "0.594049549867193\n"
          ],
          "name": "stdout"
        }
      ]
    },
    {
      "cell_type": "code",
      "metadata": {
        "id": "lnOqgZ_Ukikf",
        "colab": {
          "base_uri": "https://localhost:8080/",
          "height": 105
        },
        "outputId": "a9ca2e99-c4c7-4d37-ddfa-52dce7a94600"
      },
      "source": [
        "#One Vs ALl\n",
        "##  Class 0  Vs (class 1 & 2 & 3) ###############\n",
        "#y=y3[y3!=2]\n",
        "#x1=x[y3!=2]\n",
        "\n",
        "#x1, y = x[y3 != 2], y3[y3 != 2]\n",
        "#putting x as X, putting only y=1, converting y=0 as 0, y=2 as 0\n",
        "\n",
        "\n",
        "x1=x1;\n",
        "ya=np.where(y2==0, 10, y2) \n",
        "yb=np.where(ya==1, 20, ya) \n",
        "yc=np.where(yb==2, 30, yb) \n",
        "yd=np.where(yc==3, 40, yb) \n",
        "\n",
        "yd=np.where(yc==10, 0, yc) \n",
        "ye=np.where(yd==20, 0, yd) \n",
        "yf=np.where(ye==30, 0, ye) \n",
        "y=np.where(yf==40, 1, ye) \n",
        "\n",
        "\n",
        "\n",
        "#DEcomposition\n",
        "#https://scikit-learn.org/stable/auto_examples/classification/plot_classifier_comparison.html#sphx-glr-auto-examples-classification-plot-classifier-comparison-py\n",
        "\n",
        "from sklearn.preprocessing import StandardScaler\n",
        "X = StandardScaler().fit_transform(x1)\n",
        "\n",
        "\n",
        "#####\n",
        "#https://towardsdatascience.com/hyperparameter-tuning-the-random-forest-in-python-using-scikit-learn-28d2aa77dd74\n",
        "from sklearn.model_selection import GridSearchCV\n",
        "#from sklearn.ensemble import RandomForestRegressor\n",
        "from sklearn.datasets import make_regression\n",
        "from sklearn.ensemble import RandomForestClassifier\n",
        "# Create the parameter grid based on the results of random search \n",
        "param_grid = {\n",
        "    'bootstrap': [True],\n",
        "    'max_depth': [2, 3, 4],\n",
        "    #'max_features': [1, 2],\n",
        "    #'min_samples_leaf': [4, 5,6],\n",
        "    #'min_samples_split': [2,3,4],\n",
        "    'n_estimators': [100, 200, 300]\n",
        "}\n",
        "# Create a based model\n",
        "#RandomForestClassifier\n",
        "#rf = RandomForestRegressor()\n",
        "rfc = RandomForestClassifier(random_state=42)\n",
        "# Instantiate the grid search model\n",
        "grid_search = GridSearchCV(estimator = rfc, param_grid = param_grid, \n",
        "                          cv = 10, n_jobs = -1, verbose = 2)\n",
        "\n",
        "\n",
        "\n",
        "# Fit the grid search to the data\n",
        "grid_search.fit(X, y.ravel())\n",
        "grid_search.best_params_\n",
        "\n",
        "####"
      ],
      "execution_count": null,
      "outputs": [
        {
          "output_type": "stream",
          "text": [
            "Fitting 10 folds for each of 9 candidates, totalling 90 fits\n"
          ],
          "name": "stdout"
        },
        {
          "output_type": "stream",
          "text": [
            "[Parallel(n_jobs=-1)]: Using backend LokyBackend with 2 concurrent workers.\n",
            "[Parallel(n_jobs=-1)]: Done  37 tasks      | elapsed:   15.6s\n",
            "[Parallel(n_jobs=-1)]: Done  90 out of  90 | elapsed:   43.4s finished\n"
          ],
          "name": "stderr"
        },
        {
          "output_type": "execute_result",
          "data": {
            "text/plain": [
              "{'bootstrap': True, 'max_depth': 2, 'n_estimators': 100}"
            ]
          },
          "metadata": {
            "tags": []
          },
          "execution_count": 95
        }
      ]
    },
    {
      "cell_type": "code",
      "metadata": {
        "id": "W0B7z53Ukn8V",
        "colab": {
          "base_uri": "https://localhost:8080/",
          "height": 34
        },
        "outputId": "1cfcb21a-a0e2-4c1e-ae2d-a154724adc06"
      },
      "source": [
        "\n",
        "\n",
        "\n",
        "\n",
        "\n",
        "\n",
        "#https://stackoverflow.com/questions/50394644/how-to-calculate-sensitvity-and-specificity-in-cross-validation\n",
        "#https://stackoverflow.com/questions/50394644/how-to-calculate-sensitvity-and-specificity-in-cross-validation\n",
        "#Recall/ Precision\n",
        "\n",
        "# \"?? ????????? ??????\" ????? ?? \"?? ?????\" ???? ??????????\n",
        "#knn = KNeighborsClassifier(n_neighbors=26)\n",
        "\n",
        "knn= RandomForestClassifier(max_depth=2,n_estimators= 100, random_state = 42)\n",
        "\n",
        "from sklearn.model_selection import cross_val_score\n",
        "#print(cross_val_score(knn, X, y.ravel(), cv=10, scoring='recall').mean())\n",
        "#b_a= cross_val_score(knn, X ,y.ravel(),cv=10, scoring='balanced_accuracy') \n",
        "#sens=cross_val_score(knn, X, y.ravel(), cv=10, scoring='recall')\n",
        "#print (((2*b_a)-sens).mean())\n",
        "print(cross_val_score(knn, X, y.ravel(), cv=10, scoring='accuracy').mean())\n",
        "#print(cross_val_score(knn, X, y.ravel(), cv=10, scoring='roc_auc').mean())\n",
        "\n"
      ],
      "execution_count": null,
      "outputs": [
        {
          "output_type": "stream",
          "text": [
            "0.594049549867193\n"
          ],
          "name": "stdout"
        }
      ]
    },
    {
      "cell_type": "code",
      "metadata": {
        "id": "MhPvo3sGmodm"
      },
      "source": [
        "x1=x;\n",
        "ya=np.where(y2==0, 10, y2) \n",
        "yb=np.where(ya==1, 20, ya) \n",
        "yc=np.where(yb==2, 30, yb) \n",
        "yd=np.where(yc==3, 40, yb) \n",
        "\n",
        "yd=np.where(yc==10, 1, yc) \n",
        "ye=np.where(yd==20, 1, yd) \n",
        "yf=np.where(ye==30, 0, ye) #Minor\n",
        "y=np.where(yf==40, 1, ye) "
      ],
      "execution_count": null,
      "outputs": []
    },
    {
      "cell_type": "code",
      "metadata": {
        "id": "eorUjsWJm836",
        "colab": {
          "base_uri": "https://localhost:8080/",
          "height": 34
        },
        "outputId": "d1861d22-b0ac-41a6-f146-9ef4e9fff286"
      },
      "source": [
        "y"
      ],
      "execution_count": null,
      "outputs": [
        {
          "output_type": "execute_result",
          "data": {
            "text/plain": [
              "array([1, 1, 1, ..., 1, 1, 1])"
            ]
          },
          "metadata": {
            "tags": []
          },
          "execution_count": 99
        }
      ]
    },
    {
      "cell_type": "code",
      "metadata": {
        "id": "S9avHYCmnAA6",
        "colab": {
          "base_uri": "https://localhost:8080/",
          "height": 105
        },
        "outputId": "24924371-d2c2-4e4f-956d-ced5a1c7839a"
      },
      "source": [
        "\n",
        "#DEcomposition\n",
        "#https://scikit-learn.org/stable/auto_examples/classification/plot_classifier_comparison.html#sphx-glr-auto-examples-classification-plot-classifier-comparison-py\n",
        "\n",
        "from sklearn.preprocessing import StandardScaler\n",
        "X = StandardScaler().fit_transform(x1)\n",
        "\n",
        "\n",
        "#####\n",
        "#https://towardsdatascience.com/hyperparameter-tuning-the-random-forest-in-python-using-scikit-learn-28d2aa77dd74\n",
        "from sklearn.model_selection import GridSearchCV\n",
        "#from sklearn.ensemble import RandomForestRegressor\n",
        "from sklearn.datasets import make_regression\n",
        "from sklearn.ensemble import RandomForestClassifier\n",
        "# Create the parameter grid based on the results of random search \n",
        "param_grid = {\n",
        "    'bootstrap': [True],\n",
        "    'max_depth': [2, 3, 4],\n",
        "    #'max_features': [1, 2],\n",
        "    #'min_samples_leaf': [4, 5,6],\n",
        "    #'min_samples_split': [2,3,4],\n",
        "    'n_estimators': [100, 200, 300]\n",
        "}\n",
        "# Create a based model\n",
        "#RandomForestClassifier\n",
        "#rf = RandomForestRegressor()\n",
        "rfc = RandomForestClassifier(random_state=42)\n",
        "# Instantiate the grid search model\n",
        "grid_search = GridSearchCV(estimator = rfc, param_grid = param_grid, \n",
        "                          cv = 10, n_jobs = -1, verbose = 2)\n",
        "\n",
        "\n",
        "\n",
        "# Fit the grid search to the data\n",
        "grid_search.fit(X, y.ravel())\n",
        "grid_search.best_params_\n",
        "\n",
        "####"
      ],
      "execution_count": null,
      "outputs": [
        {
          "output_type": "stream",
          "text": [
            "Fitting 10 folds for each of 9 candidates, totalling 90 fits\n"
          ],
          "name": "stdout"
        },
        {
          "output_type": "stream",
          "text": [
            "[Parallel(n_jobs=-1)]: Using backend LokyBackend with 2 concurrent workers.\n",
            "[Parallel(n_jobs=-1)]: Done  37 tasks      | elapsed:   15.6s\n",
            "[Parallel(n_jobs=-1)]: Done  90 out of  90 | elapsed:   43.3s finished\n"
          ],
          "name": "stderr"
        },
        {
          "output_type": "execute_result",
          "data": {
            "text/plain": [
              "{'bootstrap': True, 'max_depth': 2, 'n_estimators': 100}"
            ]
          },
          "metadata": {
            "tags": []
          },
          "execution_count": 100
        }
      ]
    },
    {
      "cell_type": "code",
      "metadata": {
        "id": "NQNb-ip9oIsY",
        "colab": {
          "base_uri": "https://localhost:8080/",
          "height": 34
        },
        "outputId": "1ecc6800-1510-4080-ba6f-25a73472b565"
      },
      "source": [
        "\n",
        "\n",
        "\n",
        "\n",
        "\n",
        "\n",
        "#https://stackoverflow.com/questions/50394644/how-to-calculate-sensitvity-and-specificity-in-cross-validation\n",
        "#https://stackoverflow.com/questions/50394644/how-to-calculate-sensitvity-and-specificity-in-cross-validation\n",
        "#Recall/ Precision\n",
        "\n",
        "# \"?? ????????? ??????\" ????? ?? \"?? ?????\" ???? ??????????\n",
        "#knn = KNeighborsClassifier(n_neighbors=26)\n",
        "\n",
        "knn= RandomForestClassifier(max_depth=2,n_estimators= 100, random_state = 42)\n",
        "\n",
        "from sklearn.model_selection import cross_val_score\n",
        "#print(cross_val_score(knn, X, y.ravel(), cv=10, scoring='recall').mean())\n",
        "#b_a= cross_val_score(knn, X ,y.ravel(),cv=10, scoring='balanced_accuracy') \n",
        "#sens=cross_val_score(knn, X, y.ravel(), cv=10, scoring='recall')\n",
        "#print (((2*b_a)-sens).mean())\n",
        "print(cross_val_score(knn, X, y.ravel(), cv=10, scoring='accuracy').mean())\n",
        "#print(cross_val_score(knn, X, y.ravel(), cv=10, scoring='roc_auc').mean())\n",
        "\n"
      ],
      "execution_count": null,
      "outputs": [
        {
          "output_type": "stream",
          "text": [
            "0.594049549867193\n"
          ],
          "name": "stdout"
        }
      ]
    },
    {
      "cell_type": "code",
      "metadata": {
        "id": "9Wlj7koZoLEn",
        "colab": {
          "base_uri": "https://localhost:8080/",
          "height": 105
        },
        "outputId": "a441e6b4-39c9-4137-f4f9-63c2944754f1"
      },
      "source": [
        "\n",
        "\n",
        "#####\n",
        "#https://towardsdatascience.com/hyperparameter-tuning-the-random-forest-in-python-using-scikit-learn-28d2aa77dd74\n",
        "from sklearn.model_selection import GridSearchCV\n",
        "#from sklearn.ensemble import RandomForestRegressor\n",
        "from sklearn.datasets import make_regression\n",
        "from sklearn.ensemble import RandomForestClassifier\n",
        "# Create the parameter grid based on the results of random search \n",
        "param_grid = {\n",
        "    'bootstrap': [True],\n",
        "    'max_depth': [2, 3, 4],\n",
        "    #'max_features': [1, 2],\n",
        "    #'min_samples_leaf': [4, 5,6],\n",
        "    #'min_samples_split': [2,3,4],\n",
        "    'n_estimators': [100, 200, 300]\n",
        "}\n",
        "# Create a based model\n",
        "#RandomForestClassifier\n",
        "#rf = RandomForestRegressor()\n",
        "rfc = RandomForestClassifier(random_state=42)\n",
        "# Instantiate the grid search model\n",
        "grid_search = GridSearchCV(estimator = rfc, param_grid = param_grid, \n",
        "                          cv = 10, n_jobs = -1, verbose = 2)\n",
        "\n",
        "\n",
        "\n",
        "# Fit the grid search to the data\n",
        "grid_search.fit(X, y.ravel())\n",
        "grid_search.best_params_\n",
        "\n",
        "####"
      ],
      "execution_count": null,
      "outputs": [
        {
          "output_type": "stream",
          "text": [
            "Fitting 10 folds for each of 9 candidates, totalling 90 fits\n"
          ],
          "name": "stdout"
        },
        {
          "output_type": "stream",
          "text": [
            "[Parallel(n_jobs=-1)]: Using backend LokyBackend with 2 concurrent workers.\n",
            "[Parallel(n_jobs=-1)]: Done  37 tasks      | elapsed:   15.1s\n",
            "[Parallel(n_jobs=-1)]: Done  90 out of  90 | elapsed:   42.8s finished\n"
          ],
          "name": "stderr"
        },
        {
          "output_type": "execute_result",
          "data": {
            "text/plain": [
              "{'bootstrap': True, 'max_depth': 2, 'n_estimators': 100}"
            ]
          },
          "metadata": {
            "tags": []
          },
          "execution_count": 102
        }
      ]
    },
    {
      "cell_type": "code",
      "metadata": {
        "id": "jZIbfYXSodx3",
        "colab": {
          "base_uri": "https://localhost:8080/",
          "height": 34
        },
        "outputId": "54f641aa-0355-495a-ed39-2f1f14386c6a"
      },
      "source": [
        "\n",
        "\n",
        "\n",
        "\n",
        "\n",
        "\n",
        "#https://stackoverflow.com/questions/50394644/how-to-calculate-sensitvity-and-specificity-in-cross-validation\n",
        "#https://stackoverflow.com/questions/50394644/how-to-calculate-sensitvity-and-specificity-in-cross-validation\n",
        "#Recall/ Precision\n",
        "\n",
        "# \"?? ????????? ??????\" ????? ?? \"?? ?????\" ???? ??????????\n",
        "#knn = KNeighborsClassifier(n_neighbors=26)\n",
        "\n",
        "knn= RandomForestClassifier(max_depth=2,n_estimators= 100, random_state = 42)\n",
        "\n",
        "from sklearn.model_selection import cross_val_score\n",
        "#print(cross_val_score(knn, X, y.ravel(), cv=10, scoring='recall').mean())\n",
        "#b_a= cross_val_score(knn, X ,y.ravel(),cv=10, scoring='balanced_accuracy') \n",
        "#sens=cross_val_score(knn, X, y.ravel(), cv=10, scoring='recall')\n",
        "#print (((2*b_a)-sens).mean())\n",
        "print(cross_val_score(knn, X, y.ravel(), cv=10, scoring='accuracy').mean())\n",
        "#print(cross_val_score(knn, X, y.ravel(), cv=10, scoring='roc_auc').mean())\n",
        "\n"
      ],
      "execution_count": null,
      "outputs": [
        {
          "output_type": "stream",
          "text": [
            "0.594049549867193\n"
          ],
          "name": "stdout"
        }
      ]
    },
    {
      "cell_type": "code",
      "metadata": {
        "id": "bDoirxefojYn"
      },
      "source": [
        "#PCA\n",
        "x.shape, y.shape\n",
        "from sklearn.model_selection import train_test_split\n",
        "x_train, x_test, y_train, y_test = train_test_split(X, y, test_size=0.2, random_state=1)\n",
        "\n",
        "#Standardize the Data\n",
        "\"\"\"\n",
        "The text in this paragraph is almost an exact copy of what was written earlier. PCA is effected by scale so you need to scale the features in the data before applying PCA. You can transform the data onto unit scale (mean = 0 and variance = 1) which is a requirement for the optimal performance of many machine learning algorithms. StandardScaler helps standardize the dataset’s features. Note you fit on the training set and transform on the training and test set. If you want to see the negative effect not scaling your data can have, scikit-learn has a section on the effects of not standardizing your data.\n",
        "\n",
        "\"\"\"\n",
        "#train_img, test_img, train_lbl, test_lbl = train_test_split( mnist.data, mnist.target, test_size=1/7.0, random_state=0)\n",
        "from sklearn.preprocessing import StandardScaler\n",
        "scaler = StandardScaler()\n",
        "# Fit on training set only.\n",
        "scaler.fit(x_train)\n",
        "# Apply transform to both the training set and the test set.\n",
        "x_train = scaler.transform(x_train)\n",
        "x_test = scaler.transform(x_test)\n"
      ],
      "execution_count": null,
      "outputs": []
    },
    {
      "cell_type": "code",
      "metadata": {
        "id": "1WQGXOIuo41m",
        "colab": {
          "base_uri": "https://localhost:8080/",
          "height": 34
        },
        "outputId": "38f326b4-1755-448c-a940-7f9643093241"
      },
      "source": [
        "\n",
        "\n",
        "#Import and Apply PCA\n",
        "\"Notice the code below has .95 for the number of components parameter. It means that scikit-learn choose the minimum number of principal components such that 95% of the variance is retained.\"\n",
        "from sklearn.decomposition import PCA\n",
        "# Make an instance of the Model\n",
        "pca1 = PCA(.95)\n",
        "pca1.fit(x_train) #Fit PCA on training set. Note: you are fitting PCA on the training set only.\n",
        "\n",
        "pca1.n_components_  #Note: You can find out how many components PCA choose after fitting the model using pca.n_components_ . In this case, 95% of the variance amounts to 330 principal components.\n",
        "\n",
        "#Apply the mapping (transform) to both the training set and the test set."
      ],
      "execution_count": null,
      "outputs": [
        {
          "output_type": "execute_result",
          "data": {
            "text/plain": [
              "9"
            ]
          },
          "metadata": {
            "tags": []
          },
          "execution_count": 105
        }
      ]
    },
    {
      "cell_type": "code",
      "metadata": {
        "id": "k_o7HG3qo9BO",
        "colab": {
          "base_uri": "https://localhost:8080/",
          "height": 34
        },
        "outputId": "c5988dea-d16d-4d7c-ebc7-0016682c2759"
      },
      "source": [
        "x_train= pca1.transform(x_train)\n",
        "x_test = pca1.transform(x_test)\n",
        "\n",
        "#Apply Logistic Regression to the Transformed Data\n",
        "\"Step 1: Import the model you want to use In sklearn, all machine learning models are implemented as Python classes\"\n",
        "from sklearn.linear_model import LogisticRegression\n",
        "\n",
        "#Step 2: Make an instance of the Model.\n",
        "# all parameters not specified are set to their defaults\n",
        "# default solver is incredibly slow which is why it was changed to 'lbfgs'\n",
        "logisticRegr = LogisticRegression(solver = 'lbfgs')\n",
        "\n",
        "\n",
        "\"\"\"\n",
        "Step 3: Training the model on the data, storing the information learned from the data\n",
        "Model is learning the relationship between digits and labels\n",
        "\n",
        "\"\"\"\n",
        "logisticRegr.fit(x_train, y_train)\n",
        "\n",
        "\"\"\"\n",
        "Step 4: Predict the labels of new data (new images)\n",
        "Uses the information the model learned during the model training process\n",
        "The code below predicts for one observation\n",
        "\n",
        "\"\"\"\n",
        "# Predict for One Observation (image)\n",
        "logisticRegr.predict(x_test[0].reshape(1,-1))\n",
        "#The code below predicts for multiple observations at once\n",
        "# Predict for One Observation (image)\n",
        "logisticRegr.predict(x_test[0:10])\n",
        "\"\"\"\n",
        "Measuring Model Performance\n",
        "While accuracy is not always the best metric for machine learning algorithms (precision, recall, F1 Score, ROC Curve, etc would be better), it is used here for simplicity.\n",
        "\n",
        "\"\"\"\n",
        "\n",
        "logisticRegr.score(x_test, y_test)"
      ],
      "execution_count": null,
      "outputs": [
        {
          "output_type": "execute_result",
          "data": {
            "text/plain": [
              "0.5990801073208126"
            ]
          },
          "metadata": {
            "tags": []
          },
          "execution_count": 106
        }
      ]
    },
    {
      "cell_type": "code",
      "metadata": {
        "id": "RU9s2MuJpFjF",
        "colab": {
          "base_uri": "https://localhost:8080/",
          "height": 123
        },
        "outputId": "3b2b8324-3229-4858-ba1a-a0d0e946598b"
      },
      "source": [
        "x1.columns"
      ],
      "execution_count": null,
      "outputs": [
        {
          "output_type": "execute_result",
          "data": {
            "text/plain": [
              "Index(['Crash_Nature', 'Crash_Type', 'Loc_ABS_Remoteness',\n",
              "       'Crash_Roadway_Feature', 'Crash_Traffic_Control',\n",
              "       'Crash_Road_Surface_Condition', 'Crash_Atmospheric_Condition',\n",
              "       'Crash_Lighting_Condition', 'Crash_Road_Horiz_Align',\n",
              "       'Crash_Road_Vert_Align'],\n",
              "      dtype='object')"
            ]
          },
          "metadata": {
            "tags": []
          },
          "execution_count": 107
        }
      ]
    },
    {
      "cell_type": "code",
      "metadata": {
        "id": "bTtNxu7XqZ2D"
      },
      "source": [
        "x2 = x1.drop(['Loc_ABS_Remoteness', 'Crash_Traffic_Control',\n",
        "       'Crash_Road_Surface_Condition', 'Crash_Atmospheric_Condition',\n",
        "       'Crash_Road_Horiz_Align',\n",
        "       'Crash_Road_Vert_Align'],axis='columns')"
      ],
      "execution_count": null,
      "outputs": []
    },
    {
      "cell_type": "code",
      "metadata": {
        "id": "Mi8sHplnrYzg",
        "colab": {
          "base_uri": "https://localhost:8080/",
          "height": 70
        },
        "outputId": "2962e057-77ae-4a7d-e700-e3a72fa6842c"
      },
      "source": [
        "x2.columns"
      ],
      "execution_count": null,
      "outputs": [
        {
          "output_type": "execute_result",
          "data": {
            "text/plain": [
              "Index(['Crash_Nature', 'Crash_Type', 'Crash_Roadway_Feature',\n",
              "       'Crash_Lighting_Condition'],\n",
              "      dtype='object')"
            ]
          },
          "metadata": {
            "tags": []
          },
          "execution_count": 109
        }
      ]
    },
    {
      "cell_type": "code",
      "metadata": {
        "id": "VEqFcueRrauA",
        "colab": {
          "base_uri": "https://localhost:8080/",
          "height": 105
        },
        "outputId": "859dc5a4-0256-450b-8348-dc2adf02252d"
      },
      "source": [
        "\n",
        "#DEcomposition\n",
        "#https://scikit-learn.org/stable/auto_examples/classification/plot_classifier_comparison.html#sphx-glr-auto-examples-classification-plot-classifier-comparison-py\n",
        "\n",
        "from sklearn.preprocessing import StandardScaler\n",
        "X = StandardScaler().fit_transform(x2)\n",
        "\n",
        "\n",
        "#####\n",
        "#https://towardsdatascience.com/hyperparameter-tuning-the-random-forest-in-python-using-scikit-learn-28d2aa77dd74\n",
        "from sklearn.model_selection import GridSearchCV\n",
        "#from sklearn.ensemble import RandomForestRegressor\n",
        "from sklearn.datasets import make_regression\n",
        "from sklearn.ensemble import RandomForestClassifier\n",
        "# Create the parameter grid based on the results of random search \n",
        "param_grid = {\n",
        "    'bootstrap': [True],\n",
        "    'max_depth': [2, 3, 4],\n",
        "    #'max_features': [1, 2],\n",
        "    #'min_samples_leaf': [4, 5,6],\n",
        "    #'min_samples_split': [2,3,4],\n",
        "    'n_estimators': [100, 200, 300]\n",
        "}\n",
        "# Create a based model\n",
        "#RandomForestClassifier\n",
        "#rf = RandomForestRegressor()\n",
        "rfc = RandomForestClassifier(random_state=42)\n",
        "# Instantiate the grid search model\n",
        "grid_search = GridSearchCV(estimator = rfc, param_grid = param_grid, \n",
        "                          cv = 10, n_jobs = -1, verbose = 2)\n",
        "\n",
        "\n",
        "\n",
        "# Fit the grid search to the data\n",
        "grid_search.fit(X, y.ravel())\n",
        "grid_search.best_params_\n",
        "\n",
        "####\n"
      ],
      "execution_count": null,
      "outputs": [
        {
          "output_type": "stream",
          "text": [
            "Fitting 10 folds for each of 9 candidates, totalling 90 fits\n"
          ],
          "name": "stdout"
        },
        {
          "output_type": "stream",
          "text": [
            "[Parallel(n_jobs=-1)]: Using backend LokyBackend with 2 concurrent workers.\n",
            "[Parallel(n_jobs=-1)]: Done  37 tasks      | elapsed:   14.7s\n",
            "[Parallel(n_jobs=-1)]: Done  90 out of  90 | elapsed:   40.4s finished\n"
          ],
          "name": "stderr"
        },
        {
          "output_type": "execute_result",
          "data": {
            "text/plain": [
              "{'bootstrap': True, 'max_depth': 2, 'n_estimators': 100}"
            ]
          },
          "metadata": {
            "tags": []
          },
          "execution_count": 110
        }
      ]
    },
    {
      "cell_type": "code",
      "metadata": {
        "id": "mOlnEZrYrknw",
        "colab": {
          "base_uri": "https://localhost:8080/",
          "height": 34
        },
        "outputId": "c6f6fa2b-2bb7-46f7-f248-d4ff305bff61"
      },
      "source": [
        "\n",
        "\n",
        "\n",
        "\n",
        "\n",
        "\n",
        "#https://stackoverflow.com/questions/50394644/how-to-calculate-sensitvity-and-specificity-in-cross-validation\n",
        "#https://stackoverflow.com/questions/50394644/how-to-calculate-sensitvity-and-specificity-in-cross-validation\n",
        "#Recall/ Precision\n",
        "\n",
        "# \"?? ????????? ??????\" ????? ?? \"?? ?????\" ???? ??????????\n",
        "#knn = KNeighborsClassifier(n_neighbors=26)\n",
        "\n",
        "knn= RandomForestClassifier(max_depth=2,n_estimators= 100, random_state = 42)\n",
        "\n",
        "from sklearn.model_selection import cross_val_score\n",
        "#print(cross_val_score(knn, X, y.ravel(), cv=10, scoring='recall').mean())\n",
        "#b_a= cross_val_score(knn, X ,y.ravel(),cv=10, scoring='balanced_accuracy') \n",
        "#sens=cross_val_score(knn, X, y.ravel(), cv=10, scoring='recall')\n",
        "#print (((2*b_a)-sens).mean())\n",
        "print(cross_val_score(knn, X, y2.ravel(), cv=10, scoring='accuracy').mean())\n",
        "#print(cross_val_score(knn, X, y.ravel(), cv=10, scoring='roc_auc').mean())\n",
        "\n"
      ],
      "execution_count": null,
      "outputs": [
        {
          "output_type": "stream",
          "text": [
            "0.5649106786075266\n"
          ],
          "name": "stdout"
        }
      ]
    },
    {
      "cell_type": "code",
      "metadata": {
        "id": "OVDrfYy5rvmY",
        "colab": {
          "base_uri": "https://localhost:8080/",
          "height": 34
        },
        "outputId": "b88772f5-6a40-4fa2-edf1-454d47b794db"
      },
      "source": [
        "\n",
        "#https://stackoverflow.com/questions/50394644/how-to-calculate-sensitvity-and-specificity-in-cross-validation\n",
        "#https://stackoverflow.com/questions/50394644/how-to-calculate-sensitvity-and-specificity-in-cross-validation\n",
        "#Recall/ Precision\n",
        "\n",
        "# \"?? ????????? ??????\" ????? ?? \"?? ?????\" ???? ??????????\n",
        "#knn = KNeighborsClassifier(n_neighbors=26)\n",
        "\n",
        "knn= RandomForestClassifier(max_depth=2,n_estimators= 100, random_state = 42)\n",
        "\n",
        "from sklearn.model_selection import cross_val_score\n",
        "#print(cross_val_score(knn, X, y.ravel(), cv=10, scoring='recall').mean())\n",
        "#b_a= cross_val_score(knn, X ,y.ravel(),cv=10, scoring='balanced_accuracy') \n",
        "#sens=cross_val_score(knn, X, y.ravel(), cv=10, scoring='recall')\n",
        "#print (((2*b_a)-sens).mean())\n",
        "print(cross_val_score(knn, X, y.ravel(), cv=10, scoring='accuracy').mean())\n",
        "#print(cross_val_score(knn, X, y.ravel(), cv=10, scoring='roc_auc').mean())\n",
        "\n"
      ],
      "execution_count": null,
      "outputs": [
        {
          "output_type": "stream",
          "text": [
            "0.594049549867193\n"
          ],
          "name": "stdout"
        }
      ]
    },
    {
      "cell_type": "code",
      "metadata": {
        "id": "gyEVpMGNr974"
      },
      "source": [
        ""
      ],
      "execution_count": null,
      "outputs": []
    }
  ]
}